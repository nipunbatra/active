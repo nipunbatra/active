{
 "cells": [
  {
   "cell_type": "markdown",
   "metadata": {},
   "source": [
    "### Question: If we don't normalise do we get all from HVAC for active learning"
   ]
  },
  {
   "cell_type": "code",
   "execution_count": 1,
   "metadata": {},
   "outputs": [],
   "source": [
    "import autograd.numpy as np\n",
    "from autograd import grad\n",
    "import pandas as pd\n",
    "import sys\n",
    "import matplotlib.pyplot as plt\n",
    "%matplotlib inline"
   ]
  },
  {
   "cell_type": "markdown",
   "metadata": {},
   "source": [
    "#### Loading the dataset"
   ]
  },
  {
   "cell_type": "code",
   "execution_count": 2,
   "metadata": {},
   "outputs": [],
   "source": [
    "d = np.load(\"/Users/nipun/Downloads/data-2013-2017-missing.npy\").item()"
   ]
  },
  {
   "cell_type": "markdown",
   "metadata": {},
   "source": [
    "#### Finding homes occuring across both years"
   ]
  },
  {
   "cell_type": "code",
   "execution_count": 3,
   "metadata": {},
   "outputs": [
    {
     "data": {
      "text/plain": [
       "214"
      ]
     },
     "execution_count": 3,
     "metadata": {},
     "output_type": "execute_result"
    }
   ],
   "source": [
    "np.intersect1d(list(d[2016].keys()), list(d[2015].keys())).size"
   ]
  },
  {
   "cell_type": "code",
   "execution_count": 4,
   "metadata": {},
   "outputs": [
    {
     "data": {
      "text/plain": [
       "153"
      ]
     },
     "execution_count": 4,
     "metadata": {},
     "output_type": "execute_result"
    }
   ],
   "source": [
    "np.intersect1d(list(d[2017].keys()), list(d[2016].keys())).size"
   ]
  },
  {
   "cell_type": "markdown",
   "metadata": {},
   "source": [
    "I would be choosing 2015 and 2016 as the successive years"
   ]
  },
  {
   "cell_type": "code",
   "execution_count": 5,
   "metadata": {},
   "outputs": [],
   "source": [
    "use_homes = np.intersect1d(list(d[2016].keys()), list(d[2015].keys()))"
   ]
  },
  {
   "cell_type": "code",
   "execution_count": 6,
   "metadata": {},
   "outputs": [
    {
     "data": {
      "text/plain": [
       "array([  26,   59,   77,   86,   93,   94,  101,  114,  187,  434,  484,\n",
       "        499,  503,  545,  624,  744,  781,  871,  946,  974, 1086, 1103,\n",
       "       1169, 1192, 1202, 1283, 1403, 1415, 1463, 1500, 1507, 1589, 1617,\n",
       "       1632, 1642, 1697, 1700, 1718, 1790, 1800, 1953, 2018, 2094, 2129,\n",
       "       2156, 2171, 2199, 2233, 2365, 2378, 2472, 2532, 2557, 2575, 2638,\n",
       "       2755, 2787, 2814, 2818, 2829, 2859, 2945, 2953, 2965, 3009, 3039,\n",
       "       3044, 3134, 3268, 3310, 3367, 3392, 3456, 3482, 3500, 3527, 3538,\n",
       "       3577, 3649, 3778, 3829, 3831, 3849, 3916, 3918, 3935, 3967, 4031,\n",
       "       4154, 4213, 4220, 4297, 4298, 4336, 4342, 4352, 4357, 4373, 4375,\n",
       "       4473, 4514, 4641, 4767, 4874, 4946, 4957, 4998, 5026, 5060, 5129,\n",
       "       5218, 5275, 5317, 5357, 5403, 5545, 5568, 5677, 5718, 5785, 5809,\n",
       "       5814, 5874, 5889, 5921, 5949, 5959, 5972, 6061, 6063, 6121, 6139,\n",
       "       6165, 6348, 6412, 6423, 6460, 6498, 6691, 6692, 6730, 6990, 7016,\n",
       "       7030, 7361, 7390, 7429, 7504, 7536, 7560, 7627, 7641, 7719, 7731,\n",
       "       7769, 7787, 7788, 7793, 7850, 7875, 7900, 7901, 7940, 7951, 7973,\n",
       "       7989, 8046, 8059, 8079, 8084, 8086, 8092, 8156, 8163, 8197, 8236,\n",
       "       8243, 8292, 8317, 8386, 8419, 8645, 8767, 8807, 8829, 8995, 9001,\n",
       "       9019, 9052, 9121, 9134, 9141, 9160, 9248, 9356, 9484, 9609, 9613,\n",
       "       9647, 9654, 9701, 9729, 9771, 9875, 9912, 9915, 9922, 9932, 9935,\n",
       "       9937, 9938, 9942, 9971, 9982])"
      ]
     },
     "execution_count": 6,
     "metadata": {},
     "output_type": "execute_result"
    }
   ],
   "source": [
    "use_homes"
   ]
  },
  {
   "cell_type": "code",
   "execution_count": 7,
   "metadata": {},
   "outputs": [],
   "source": [
    "APPLIANCE_ORDER = ['use', 'air1', 'clotheswasher1', 'drye1', 'furnace1', 'kitchenapp1',\n",
    "       'microwave1', 'refrigerator1']"
   ]
  },
  {
   "cell_type": "markdown",
   "metadata": {},
   "source": [
    "### Creating the tensor data"
   ]
  },
  {
   "cell_type": "code",
   "execution_count": 8,
   "metadata": {},
   "outputs": [],
   "source": [
    "t = np.empty((len(use_homes), len(APPLIANCE_ORDER), 2*12))"
   ]
  },
  {
   "cell_type": "code",
   "execution_count": 9,
   "metadata": {},
   "outputs": [],
   "source": [
    "t[:] = np.NaN"
   ]
  },
  {
   "cell_type": "code",
   "execution_count": 10,
   "metadata": {},
   "outputs": [],
   "source": [
    "for i, home in enumerate(use_homes):\n",
    "    for j, appliance in enumerate(APPLIANCE_ORDER):\n",
    "        try:\n",
    "            t[i, j, :12] = d[2016][home][appliance].values\n",
    "            t[i, j, 12:] = d[2017][home][appliance].values\n",
    "        except:\n",
    "            pass"
   ]
  },
  {
   "cell_type": "code",
   "execution_count": 11,
   "metadata": {},
   "outputs": [
    {
     "data": {
      "text/plain": [
       "(214, 8, 24)"
      ]
     },
     "execution_count": 11,
     "metadata": {},
     "output_type": "execute_result"
    }
   ],
   "source": [
    "t.shape"
   ]
  },
  {
   "cell_type": "markdown",
   "metadata": {},
   "source": [
    "### STF routine"
   ]
  },
  {
   "cell_type": "code",
   "execution_count": 12,
   "metadata": {},
   "outputs": [],
   "source": [
    "def factorise(tensor, r, random_seed=0, num_iter=400, eps=1e-8, lr=1):\n",
    "    np.random.seed(random_seed)\n",
    "    args_num = [1, 2, 3]\n",
    "\n",
    "    def cost(tensor, home, appliance,  month):\n",
    "        pred = np.einsum('Hr, Ar, Tr ->HAT', home, appliance, month)\n",
    "        mask = ~np.isnan(tensor)\n",
    "        error = (pred - tensor)[mask].flatten()\n",
    "        return np.sqrt((error ** 2).mean())\n",
    "\n",
    "    mg = grad(cost, argnum=args_num)\n",
    "    sizes = [(x, r) for x in tensor.shape]\n",
    "    home = np.random.rand(*sizes[0])\n",
    "    appliance = np.random.rand(*sizes[1])\n",
    "    month = np.random.rand(*sizes[2])\n",
    "\n",
    "    sum_home = np.zeros_like(home)\n",
    "    sum_appliance = np.zeros_like(appliance)\n",
    "    sum_month = np.zeros_like(month)\n",
    "\n",
    "    # GD procedure\n",
    "    for i in range(num_iter):\n",
    "        del_home, del_appliance, del_month = mg(tensor, home, appliance, month)\n",
    "\n",
    "        sum_home += eps + np.square(del_home)\n",
    "        lr_home = np.divide(lr, np.sqrt(sum_home))\n",
    "        home -= lr_home * del_home\n",
    "\n",
    "        sum_appliance += eps + np.square(del_appliance)\n",
    "        lr_appliance = np.divide(lr, np.sqrt(sum_appliance))\n",
    "        appliance -= lr_appliance * del_appliance\n",
    "\n",
    "        sum_month += eps + np.square(del_month)\n",
    "        lr_month = np.divide(lr, np.sqrt(sum_month))\n",
    "        month -= lr_month * del_month\n",
    "\n",
    "        \n",
    "        # Projection to non-negative space\n",
    "        home[home < 0] = 1e-8\n",
    "        appliance[appliance < 0] = 1e-8\n",
    "        month[month < 0] = 1e-8\n",
    "\n",
    "        if i % 500 == 0:\n",
    "            #print(cost(tensor, home, appliance, month), i)\n",
    "            sys.stdout.flush()\n",
    "\n",
    "    return home, appliance, month"
   ]
  },
  {
   "cell_type": "markdown",
   "metadata": {},
   "source": [
    "#### Creating the different subsets if data"
   ]
  },
  {
   "cell_type": "code",
   "execution_count": 13,
   "metadata": {},
   "outputs": [],
   "source": [
    "# Test is last 44 homes\n",
    "test_set = t[170:].copy()\n",
    "# In test set, we don't know the appliance data\n",
    "test_set[:, 1:, :] = np.NaN\n",
    "# Train + Pool is the remaining set\n",
    "train_pool_set = t[:170].copy()\n",
    "# Initial train set is 10 homes\n",
    "train_set = t[:10].copy()\n",
    "# Initial pool set is 10-170 homes\n",
    "pool_set = t[10:170].copy()\n",
    "pool_homes = use_homes[10:170]\n",
    "# Train + Test set (useful for factorisation)\n",
    "train_test_set = np.vstack([train_set, test_set])"
   ]
  },
  {
   "cell_type": "markdown",
   "metadata": {},
   "source": [
    "### Creating the set of (home, appliance) pairs for each month that can contain data and thus can be used for acquiring labels"
   ]
  },
  {
   "cell_type": "code",
   "execution_count": 14,
   "metadata": {},
   "outputs": [],
   "source": [
    "p_m_h = {}\n",
    "for month in range(12, 24):\n",
    "    p_m_h[month] = []\n",
    "    for home in pool_homes:\n",
    "        for i, appliance in enumerate(APPLIANCE_ORDER[1:]):\n",
    "            pool_home_index  = np.searchsorted(use_homes, home)\n",
    "            if np.isfinite(t[pool_home_index, i+1, month]):\n",
    "                p_m_h[month].append((home, appliance))"
   ]
  },
  {
   "cell_type": "code",
   "execution_count": 15,
   "metadata": {},
   "outputs": [
    {
     "data": {
      "text/plain": [
       "array([ 484,  499,  503,  545,  624,  744,  781,  871,  946,  974, 1086,\n",
       "       1103, 1169, 1192, 1202, 1283, 1403, 1415, 1463, 1500, 1507, 1589,\n",
       "       1617, 1632, 1642, 1697, 1700, 1718, 1790, 1800, 1953, 2018, 2094,\n",
       "       2129, 2156, 2171, 2199, 2233, 2365, 2378, 2472, 2532, 2557, 2575,\n",
       "       2638, 2755, 2787, 2814, 2818, 2829, 2859, 2945, 2953, 2965, 3009,\n",
       "       3039, 3044, 3134, 3268, 3310, 3367, 3392, 3456, 3482, 3500, 3527,\n",
       "       3538, 3577, 3649, 3778, 3829, 3831, 3849, 3916, 3918, 3935, 3967,\n",
       "       4031, 4154, 4213, 4220, 4297, 4298, 4336, 4342, 4352, 4357, 4373,\n",
       "       4375, 4473, 4514, 4641, 4767, 4874, 4946, 4957, 4998, 5026, 5060,\n",
       "       5129, 5218, 5275, 5317, 5357, 5403, 5545, 5568, 5677, 5718, 5785,\n",
       "       5809, 5814, 5874, 5889, 5921, 5949, 5959, 5972, 6061, 6063, 6121,\n",
       "       6139, 6165, 6348, 6412, 6423, 6460, 6498, 6691, 6692, 6730, 6990,\n",
       "       7016, 7030, 7361, 7390, 7429, 7504, 7536, 7560, 7627, 7641, 7719,\n",
       "       7731, 7769, 7787, 7788, 7793, 7850, 7875, 7900, 7901, 7940, 7951,\n",
       "       7973, 7989, 8046, 8059, 8079, 8084])"
      ]
     },
     "execution_count": 15,
     "metadata": {},
     "output_type": "execute_result"
    }
   ],
   "source": [
    "pool_homes"
   ]
  },
  {
   "cell_type": "code",
   "execution_count": 16,
   "metadata": {},
   "outputs": [
    {
     "data": {
      "text/plain": [
       "10"
      ]
     },
     "execution_count": 16,
     "metadata": {},
     "output_type": "execute_result"
    }
   ],
   "source": [
    "np.searchsorted(use_homes, 484)"
   ]
  },
  {
   "cell_type": "code",
   "execution_count": 17,
   "metadata": {},
   "outputs": [
    {
     "data": {
      "text/plain": [
       "array([[1081.96350098,  949.75939941,  961.7890625 , 1078.99035645,\n",
       "        1111.97912598, 1712.67407227, 2093.8984375 , 1828.70056152,\n",
       "        1437.41906738, 1172.37854004, 1099.13476562, 1473.79321289],\n",
       "       [   0.        ,    0.        ,    8.12929058,   82.02701569,\n",
       "         180.28712463,  565.4019165 ,  853.81469727,  702.6651001 ,\n",
       "         448.10568237,  165.92414856,   77.59373474,    8.57880783],\n",
       "       [          nan,           nan,           nan,           nan,\n",
       "                  nan,           nan,           nan,           nan,\n",
       "                  nan,           nan,           nan,           nan],\n",
       "       [          nan,           nan,           nan,           nan,\n",
       "                  nan,           nan,           nan,           nan,\n",
       "                  nan,           nan,           nan,           nan],\n",
       "       [  55.91287994,   24.40205765,   12.84283447,   26.66916656,\n",
       "          53.20463562,  150.69319153,  217.98664856,  188.46160889,\n",
       "         123.95488739,   50.21839142,   36.5239563 ,   65.30367279],\n",
       "       [ 177.30241394,  187.35525513,  181.40415955,  151.1265564 ,\n",
       "         130.52406311,  154.20594788,  123.14287567,  119.20994568,\n",
       "         125.2804184 ,  159.72610474,  126.2159729 ,  198.32298279],\n",
       "       [          nan,           nan,           nan,           nan,\n",
       "                  nan,           nan,           nan,           nan,\n",
       "                  nan,           nan,           nan,           nan],\n",
       "       [ 138.03178406,  134.32293701,  141.88821411,  149.57887268,\n",
       "         143.66998291,  159.26142883,  180.02107239,  162.99137878,\n",
       "         140.96815491,  140.83021545,  123.59967804,  175.52175903]])"
      ]
     },
     "execution_count": 17,
     "metadata": {},
     "output_type": "execute_result"
    }
   ],
   "source": [
    "t[11, :, 12:]"
   ]
  },
  {
   "cell_type": "code",
   "execution_count": 18,
   "metadata": {},
   "outputs": [
    {
     "data": {
      "text/plain": [
       "[(499, 'air1'),\n",
       " (499, 'furnace1'),\n",
       " (499, 'kitchenapp1'),\n",
       " (499, 'refrigerator1'),\n",
       " (503, 'air1'),\n",
       " (503, 'furnace1'),\n",
       " (503, 'kitchenapp1'),\n",
       " (503, 'microwave1'),\n",
       " (503, 'refrigerator1'),\n",
       " (744, 'air1'),\n",
       " (781, 'air1'),\n",
       " (781, 'clotheswasher1'),\n",
       " (781, 'drye1'),\n",
       " (781, 'furnace1'),\n",
       " (781, 'kitchenapp1'),\n",
       " (781, 'microwave1'),\n",
       " (781, 'refrigerator1'),\n",
       " (871, 'air1'),\n",
       " (871, 'clotheswasher1'),\n",
       " (871, 'drye1'),\n",
       " (871, 'furnace1'),\n",
       " (871, 'kitchenapp1'),\n",
       " (871, 'microwave1'),\n",
       " (871, 'refrigerator1'),\n",
       " (974, 'air1'),\n",
       " (974, 'drye1'),\n",
       " (1086, 'air1'),\n",
       " (1086, 'furnace1'),\n",
       " (1086, 'microwave1'),\n",
       " (1086, 'refrigerator1'),\n",
       " (1103, 'air1'),\n",
       " (1103, 'clotheswasher1'),\n",
       " (1169, 'air1'),\n",
       " (1169, 'clotheswasher1'),\n",
       " (1169, 'drye1'),\n",
       " (1169, 'furnace1'),\n",
       " (1169, 'kitchenapp1'),\n",
       " (1169, 'microwave1'),\n",
       " (1169, 'refrigerator1'),\n",
       " (1192, 'air1'),\n",
       " (1192, 'clotheswasher1'),\n",
       " (1192, 'drye1'),\n",
       " (1202, 'air1'),\n",
       " (1202, 'furnace1'),\n",
       " (1415, 'air1'),\n",
       " (1415, 'clotheswasher1'),\n",
       " (1415, 'drye1'),\n",
       " (1415, 'furnace1'),\n",
       " (1415, 'kitchenapp1'),\n",
       " (1415, 'microwave1'),\n",
       " (1415, 'refrigerator1'),\n",
       " (1500, 'air1'),\n",
       " (1500, 'furnace1'),\n",
       " (1500, 'kitchenapp1'),\n",
       " (1500, 'microwave1'),\n",
       " (1500, 'refrigerator1'),\n",
       " (1507, 'air1'),\n",
       " (1507, 'clotheswasher1'),\n",
       " (1507, 'drye1'),\n",
       " (1507, 'furnace1'),\n",
       " (1507, 'kitchenapp1'),\n",
       " (1507, 'microwave1'),\n",
       " (1507, 'refrigerator1'),\n",
       " (1632, 'air1'),\n",
       " (1632, 'clotheswasher1'),\n",
       " (1632, 'furnace1'),\n",
       " (1632, 'kitchenapp1'),\n",
       " (1632, 'microwave1'),\n",
       " (1632, 'refrigerator1'),\n",
       " (1718, 'air1'),\n",
       " (1800, 'air1'),\n",
       " (1953, 'air1'),\n",
       " (1953, 'furnace1'),\n",
       " (1953, 'refrigerator1'),\n",
       " (2129, 'air1'),\n",
       " (2156, 'air1'),\n",
       " (2156, 'clotheswasher1'),\n",
       " (2156, 'drye1'),\n",
       " (2156, 'furnace1'),\n",
       " (2156, 'microwave1'),\n",
       " (2156, 'refrigerator1'),\n",
       " (2171, 'air1'),\n",
       " (2171, 'furnace1'),\n",
       " (2171, 'kitchenapp1'),\n",
       " (2171, 'microwave1'),\n",
       " (2171, 'refrigerator1'),\n",
       " (2199, 'air1'),\n",
       " (2199, 'furnace1'),\n",
       " (2199, 'refrigerator1'),\n",
       " (2378, 'air1'),\n",
       " (2378, 'furnace1'),\n",
       " (2378, 'refrigerator1'),\n",
       " (2472, 'air1'),\n",
       " (2472, 'furnace1'),\n",
       " (2472, 'kitchenapp1'),\n",
       " (2532, 'air1'),\n",
       " (2532, 'clotheswasher1'),\n",
       " (2532, 'drye1'),\n",
       " (2532, 'furnace1'),\n",
       " (2532, 'microwave1'),\n",
       " (2532, 'refrigerator1'),\n",
       " (2557, 'air1'),\n",
       " (2557, 'furnace1'),\n",
       " (2557, 'refrigerator1'),\n",
       " (2638, 'air1'),\n",
       " (2638, 'drye1'),\n",
       " (2814, 'air1'),\n",
       " (2814, 'clotheswasher1'),\n",
       " (2814, 'drye1'),\n",
       " (2814, 'furnace1'),\n",
       " (2814, 'microwave1'),\n",
       " (2814, 'refrigerator1'),\n",
       " (2859, 'air1'),\n",
       " (2859, 'clotheswasher1'),\n",
       " (2859, 'drye1'),\n",
       " (2859, 'furnace1'),\n",
       " (2859, 'kitchenapp1'),\n",
       " (2859, 'microwave1'),\n",
       " (2859, 'refrigerator1'),\n",
       " (2953, 'air1'),\n",
       " (2953, 'clotheswasher1'),\n",
       " (2953, 'drye1'),\n",
       " (2953, 'refrigerator1'),\n",
       " (2965, 'air1'),\n",
       " (2965, 'clotheswasher1'),\n",
       " (2965, 'drye1'),\n",
       " (2965, 'furnace1'),\n",
       " (2965, 'kitchenapp1'),\n",
       " (2965, 'microwave1'),\n",
       " (2965, 'refrigerator1'),\n",
       " (3009, 'air1'),\n",
       " (3009, 'drye1'),\n",
       " (3134, 'air1'),\n",
       " (3134, 'drye1'),\n",
       " (3310, 'air1'),\n",
       " (3310, 'drye1'),\n",
       " (3367, 'air1'),\n",
       " (3367, 'clotheswasher1'),\n",
       " (3367, 'drye1'),\n",
       " (3367, 'furnace1'),\n",
       " (3367, 'microwave1'),\n",
       " (3367, 'refrigerator1'),\n",
       " (3392, 'clotheswasher1'),\n",
       " (3392, 'furnace1'),\n",
       " (3392, 'kitchenapp1'),\n",
       " (3392, 'microwave1'),\n",
       " (3392, 'refrigerator1'),\n",
       " (3482, 'air1'),\n",
       " (3482, 'clotheswasher1'),\n",
       " (3482, 'drye1'),\n",
       " (3482, 'furnace1'),\n",
       " (3482, 'microwave1'),\n",
       " (3482, 'refrigerator1'),\n",
       " (3500, 'air1'),\n",
       " (3500, 'clotheswasher1'),\n",
       " (3500, 'furnace1'),\n",
       " (3500, 'microwave1'),\n",
       " (3500, 'refrigerator1'),\n",
       " (3527, 'air1'),\n",
       " (3649, 'air1'),\n",
       " (3649, 'drye1'),\n",
       " (3649, 'furnace1'),\n",
       " (3649, 'refrigerator1'),\n",
       " (3778, 'air1'),\n",
       " (3778, 'clotheswasher1'),\n",
       " (3778, 'furnace1'),\n",
       " (3829, 'air1'),\n",
       " (3829, 'drye1'),\n",
       " (3831, 'air1'),\n",
       " (3831, 'kitchenapp1'),\n",
       " (3831, 'microwave1'),\n",
       " (3849, 'air1'),\n",
       " (3849, 'clotheswasher1'),\n",
       " (3849, 'furnace1'),\n",
       " (3849, 'kitchenapp1'),\n",
       " (3849, 'microwave1'),\n",
       " (3849, 'refrigerator1'),\n",
       " (3967, 'air1'),\n",
       " (3967, 'clotheswasher1'),\n",
       " (3967, 'furnace1'),\n",
       " (3967, 'microwave1'),\n",
       " (3967, 'refrigerator1'),\n",
       " (4213, 'air1'),\n",
       " (4213, 'clotheswasher1'),\n",
       " (4213, 'furnace1'),\n",
       " (4213, 'microwave1'),\n",
       " (4213, 'refrigerator1'),\n",
       " (4297, 'air1'),\n",
       " (4297, 'drye1'),\n",
       " (4298, 'air1'),\n",
       " (4298, 'furnace1'),\n",
       " (4298, 'microwave1'),\n",
       " (4336, 'air1'),\n",
       " (4336, 'clotheswasher1'),\n",
       " (4336, 'drye1'),\n",
       " (4357, 'air1'),\n",
       " (4357, 'drye1'),\n",
       " (4375, 'air1'),\n",
       " (4375, 'clotheswasher1'),\n",
       " (4375, 'furnace1'),\n",
       " (4375, 'microwave1'),\n",
       " (4375, 'refrigerator1'),\n",
       " (4514, 'air1'),\n",
       " (4514, 'clotheswasher1'),\n",
       " (4514, 'drye1'),\n",
       " (4514, 'furnace1'),\n",
       " (4514, 'microwave1'),\n",
       " (4514, 'refrigerator1'),\n",
       " (4946, 'air1'),\n",
       " (4946, 'clotheswasher1'),\n",
       " (4946, 'drye1'),\n",
       " (4946, 'furnace1'),\n",
       " (4946, 'microwave1'),\n",
       " (4946, 'refrigerator1'),\n",
       " (4998, 'air1'),\n",
       " (4998, 'clotheswasher1'),\n",
       " (4998, 'furnace1'),\n",
       " (4998, 'kitchenapp1'),\n",
       " (4998, 'microwave1'),\n",
       " (4998, 'refrigerator1'),\n",
       " (5026, 'air1'),\n",
       " (5026, 'clotheswasher1'),\n",
       " (5026, 'drye1'),\n",
       " (5026, 'furnace1'),\n",
       " (5026, 'kitchenapp1'),\n",
       " (5129, 'air1'),\n",
       " (5218, 'air1'),\n",
       " (5218, 'furnace1'),\n",
       " (5218, 'kitchenapp1'),\n",
       " (5218, 'microwave1'),\n",
       " (5218, 'refrigerator1'),\n",
       " (5275, 'air1'),\n",
       " (5275, 'clotheswasher1'),\n",
       " (5275, 'furnace1'),\n",
       " (5275, 'kitchenapp1'),\n",
       " (5275, 'microwave1'),\n",
       " (5275, 'refrigerator1'),\n",
       " (5317, 'air1'),\n",
       " (5317, 'clotheswasher1'),\n",
       " (5317, 'drye1'),\n",
       " (5317, 'furnace1'),\n",
       " (5317, 'kitchenapp1'),\n",
       " (5317, 'microwave1'),\n",
       " (5317, 'refrigerator1'),\n",
       " (5545, 'air1'),\n",
       " (5545, 'clotheswasher1'),\n",
       " (5545, 'furnace1'),\n",
       " (5545, 'kitchenapp1'),\n",
       " (5545, 'microwave1'),\n",
       " (5545, 'refrigerator1'),\n",
       " (5677, 'air1'),\n",
       " (5677, 'clotheswasher1'),\n",
       " (5677, 'furnace1'),\n",
       " (5677, 'kitchenapp1'),\n",
       " (5809, 'air1'),\n",
       " (5809, 'clotheswasher1'),\n",
       " (5809, 'drye1'),\n",
       " (5809, 'furnace1'),\n",
       " (5809, 'microwave1'),\n",
       " (5809, 'refrigerator1'),\n",
       " (5814, 'air1'),\n",
       " (5814, 'drye1'),\n",
       " (5814, 'furnace1'),\n",
       " (5874, 'air1'),\n",
       " (5874, 'furnace1'),\n",
       " (5921, 'air1'),\n",
       " (5921, 'clotheswasher1'),\n",
       " (5921, 'drye1'),\n",
       " (5921, 'furnace1'),\n",
       " (5921, 'kitchenapp1'),\n",
       " (5921, 'microwave1'),\n",
       " (5921, 'refrigerator1'),\n",
       " (5949, 'air1'),\n",
       " (5949, 'furnace1'),\n",
       " (5949, 'kitchenapp1'),\n",
       " (5959, 'air1'),\n",
       " (6061, 'air1'),\n",
       " (6063, 'air1'),\n",
       " (6063, 'clotheswasher1'),\n",
       " (6063, 'drye1'),\n",
       " (6063, 'furnace1'),\n",
       " (6063, 'kitchenapp1'),\n",
       " (6063, 'microwave1'),\n",
       " (6063, 'refrigerator1'),\n",
       " (6139, 'air1'),\n",
       " (6139, 'clotheswasher1'),\n",
       " (6139, 'drye1'),\n",
       " (6139, 'furnace1'),\n",
       " (6139, 'refrigerator1'),\n",
       " (6165, 'air1'),\n",
       " (6165, 'clotheswasher1'),\n",
       " (6165, 'drye1'),\n",
       " (6165, 'furnace1'),\n",
       " (6165, 'refrigerator1'),\n",
       " (6412, 'air1'),\n",
       " (6412, 'drye1'),\n",
       " (6423, 'air1'),\n",
       " (6423, 'drye1'),\n",
       " (6460, 'air1'),\n",
       " (6460, 'clotheswasher1'),\n",
       " (6460, 'furnace1'),\n",
       " (6460, 'kitchenapp1'),\n",
       " (6460, 'microwave1'),\n",
       " (6460, 'refrigerator1'),\n",
       " (6691, 'air1'),\n",
       " (6691, 'clotheswasher1'),\n",
       " (6691, 'drye1'),\n",
       " (6691, 'furnace1'),\n",
       " (6691, 'refrigerator1'),\n",
       " (7016, 'air1'),\n",
       " (7016, 'clotheswasher1'),\n",
       " (7016, 'drye1'),\n",
       " (7016, 'furnace1'),\n",
       " (7016, 'kitchenapp1'),\n",
       " (7016, 'microwave1'),\n",
       " (7016, 'refrigerator1'),\n",
       " (7030, 'air1'),\n",
       " (7030, 'drye1'),\n",
       " (7361, 'air1'),\n",
       " (7361, 'furnace1'),\n",
       " (7361, 'microwave1'),\n",
       " (7429, 'air1'),\n",
       " (7504, 'air1'),\n",
       " (7504, 'drye1'),\n",
       " (7560, 'air1'),\n",
       " (7560, 'clotheswasher1'),\n",
       " (7560, 'furnace1'),\n",
       " (7560, 'kitchenapp1'),\n",
       " (7560, 'microwave1'),\n",
       " (7560, 'refrigerator1'),\n",
       " (7627, 'air1'),\n",
       " (7627, 'clotheswasher1'),\n",
       " (7627, 'drye1'),\n",
       " (7627, 'furnace1'),\n",
       " (7627, 'kitchenapp1'),\n",
       " (7627, 'microwave1'),\n",
       " (7627, 'refrigerator1'),\n",
       " (7641, 'air1'),\n",
       " (7641, 'clotheswasher1'),\n",
       " (7641, 'drye1'),\n",
       " (7641, 'furnace1'),\n",
       " (7641, 'kitchenapp1'),\n",
       " (7641, 'microwave1'),\n",
       " (7641, 'refrigerator1'),\n",
       " (7731, 'air1'),\n",
       " (7731, 'drye1'),\n",
       " (7769, 'air1'),\n",
       " (7769, 'clotheswasher1'),\n",
       " (7769, 'drye1'),\n",
       " (7769, 'refrigerator1'),\n",
       " (7787, 'air1'),\n",
       " (7787, 'clotheswasher1'),\n",
       " (7787, 'drye1'),\n",
       " (7787, 'furnace1'),\n",
       " (7787, 'microwave1'),\n",
       " (7787, 'refrigerator1'),\n",
       " (7788, 'air1'),\n",
       " (7788, 'clotheswasher1'),\n",
       " (7788, 'drye1'),\n",
       " (7788, 'furnace1'),\n",
       " (7788, 'refrigerator1'),\n",
       " (7850, 'air1'),\n",
       " (7850, 'clotheswasher1'),\n",
       " (7850, 'drye1'),\n",
       " (7850, 'furnace1'),\n",
       " (7850, 'kitchenapp1'),\n",
       " (7850, 'microwave1'),\n",
       " (7850, 'refrigerator1'),\n",
       " (7875, 'air1'),\n",
       " (7875, 'clotheswasher1'),\n",
       " (7875, 'furnace1'),\n",
       " (7875, 'microwave1'),\n",
       " (7875, 'refrigerator1'),\n",
       " (7900, 'air1'),\n",
       " (7940, 'air1'),\n",
       " (7940, 'clotheswasher1'),\n",
       " (7940, 'drye1'),\n",
       " (7940, 'furnace1'),\n",
       " (7940, 'kitchenapp1'),\n",
       " (7940, 'microwave1'),\n",
       " (7940, 'refrigerator1'),\n",
       " (7951, 'air1'),\n",
       " (7951, 'clotheswasher1'),\n",
       " (7951, 'drye1'),\n",
       " (7951, 'furnace1'),\n",
       " (7951, 'kitchenapp1'),\n",
       " (7951, 'microwave1'),\n",
       " (7951, 'refrigerator1'),\n",
       " (7973, 'air1'),\n",
       " (7973, 'drye1'),\n",
       " (7989, 'air1'),\n",
       " (7989, 'drye1'),\n",
       " (7989, 'furnace1'),\n",
       " (7989, 'microwave1'),\n",
       " (8046, 'air1'),\n",
       " (8046, 'clotheswasher1'),\n",
       " (8046, 'furnace1'),\n",
       " (8046, 'kitchenapp1'),\n",
       " (8046, 'microwave1'),\n",
       " (8046, 'refrigerator1'),\n",
       " (8059, 'air1'),\n",
       " (8059, 'clotheswasher1'),\n",
       " (8059, 'drye1'),\n",
       " (8059, 'furnace1'),\n",
       " (8059, 'kitchenapp1'),\n",
       " (8059, 'microwave1'),\n",
       " (8059, 'refrigerator1'),\n",
       " (8079, 'air1'),\n",
       " (8079, 'furnace1'),\n",
       " (8079, 'kitchenapp1'),\n",
       " (8079, 'microwave1'),\n",
       " (8079, 'refrigerator1'),\n",
       " (8084, 'air1'),\n",
       " (8084, 'drye1')]"
      ]
     },
     "execution_count": 18,
     "metadata": {},
     "output_type": "execute_result"
    }
   ],
   "source": [
    "p_m_h[12]"
   ]
  },
  {
   "cell_type": "markdown",
   "metadata": {},
   "source": [
    "#### Randomly adding 5 homes every month from Pool"
   ]
  },
  {
   "cell_type": "code",
   "execution_count": 20,
   "metadata": {},
   "outputs": [
    {
     "name": "stdout",
     "output_type": "stream",
     "text": [
      "*-*-**-*-**-*-**-*-**-*-**-*-**-*-**-*-**-*-**-*-**-*-**-*-**-*-**-*-**-*-**-*-**-*-**-*-**-*-**-*-*\n",
      "0\n",
      "0 12 59 [(3849, 'clotheswasher1'), (1415, 'furnace1'), (2859, 'microwave1'), (4336, 'air1'), (7504, 'drye1')]\n",
      "1 13 64 [(3849, 'microwave1'), (1415, 'kitchenapp1'), (2953, 'air1'), (4357, 'drye1'), (7560, 'microwave1')]\n",
      "2 14 69 [(3967, 'clotheswasher1'), (1415, 'microwave1'), (2953, 'drye1'), (4375, 'microwave1'), (7627, 'furnace1')]\n",
      "3 15 74 [(3967, 'refrigerator1'), (1415, 'refrigerator1'), (2965, 'air1'), (4514, 'drye1'), (7641, 'clotheswasher1')]\n",
      "4 16 79 [(4213, 'furnace1'), (1500, 'air1'), (2965, 'drye1'), (4946, 'air1'), (7641, 'refrigerator1')]\n",
      "5 17 84 [(4297, 'air1'), (1500, 'furnace1'), (2965, 'kitchenapp1'), (4946, 'microwave1'), (7769, 'drye1')]\n",
      "6 18 89 [(4298, 'furnace1'), (1500, 'kitchenapp1'), (2965, 'refrigerator1'), (4998, 'furnace1'), (7788, 'drye1')]\n",
      "7 19 94 [(4336, 'drye1'), (1500, 'microwave1'), (3009, 'drye1'), (5026, 'air1'), (7850, 'drye1')]\n",
      "8 20 99 [(4375, 'clotheswasher1'), (1500, 'refrigerator1'), (3134, 'drye1'), (5026, 'kitchenapp1'), (7875, 'air1')]\n",
      "9 21 104 [(4514, 'air1'), (1507, 'air1'), (3310, 'drye1'), (5218, 'kitchenapp1'), (7900, 'air1')]\n",
      "10 22 109 [(4514, 'microwave1'), (1507, 'clotheswasher1'), (3367, 'clotheswasher1'), (5317, 'air1'), (7940, 'kitchenapp1')]\n",
      "11 23 114 [(4998, 'air1'), (1507, 'drye1'), (3367, 'furnace1'), (5545, 'air1'), (7951, 'microwave1')]\n",
      "*-*-**-*-**-*-**-*-**-*-**-*-**-*-**-*-**-*-**-*-**-*-**-*-**-*-**-*-**-*-**-*-**-*-**-*-**-*-**-*-*\n",
      "1\n",
      "0 12 59 [(1169, 'microwave1'), (5275, 'microwave1'), (8046, 'furnace1'), (1953, 'furnace1'), (5809, 'clotheswasher1')]\n",
      "1 13 64 [(1169, 'refrigerator1'), (5317, 'clotheswasher1'), (8059, 'clotheswasher1'), (2129, 'air1'), (5809, 'refrigerator1')]\n",
      "2 14 69 [(1192, 'air1'), (5317, 'kitchenapp1'), (8059, 'refrigerator1'), (2156, 'clotheswasher1'), (5874, 'air1')]\n",
      "3 15 74 [(1192, 'clotheswasher1'), (5545, 'air1'), (8079, 'refrigerator1'), (2156, 'furnace1'), (5921, 'drye1')]\n",
      "4 16 79 [(1192, 'drye1'), (5545, 'kitchenapp1'), (2156, 'refrigerator1'), (5921, 'refrigerator1'), (8084, 'drye1')]\n",
      "5 17 84 [(1202, 'air1'), (5677, 'air1'), (2171, 'furnace1'), (5959, 'air1'), (4946, 'refrigerator1')]\n",
      "6 18 89 [(1202, 'furnace1'), (5814, 'air1'), (2171, 'microwave1'), (6139, 'air1'), (4998, 'furnace1')]\n",
      "7 19 94 [(1415, 'air1'), (5921, 'air1'), (2199, 'air1'), (6165, 'air1'), (4998, 'refrigerator1')]\n",
      "8 20 99 [(1415, 'clotheswasher1'), (5921, 'microwave1'), (2199, 'refrigerator1'), (6412, 'air1'), (5026, 'drye1')]\n",
      "9 21 104 [(1415, 'drye1'), (6061, 'air1'), (2378, 'furnace1'), (6460, 'clotheswasher1'), (5129, 'air1')]\n",
      "10 22 109 [(1415, 'furnace1'), (6063, 'furnace1'), (2472, 'air1'), (6691, 'air1'), (5218, 'kitchenapp1')]\n",
      "11 23 114 [(1415, 'kitchenapp1'), (6165, 'clotheswasher1'), (2472, 'kitchenapp1'), (7016, 'kitchenapp1'), (5317, 'microwave1')]\n",
      "*-*-**-*-**-*-**-*-**-*-**-*-**-*-**-*-**-*-**-*-**-*-**-*-**-*-**-*-**-*-**-*-**-*-**-*-**-*-**-*-*\n",
      "2\n",
      "0 12 59 [(3831, 'air1'), (781, 'microwave1'), (1953, 'furnace1'), (871, 'microwave1'), (6460, 'clotheswasher1')]\n",
      "1 13 64 [(3849, 'clotheswasher1'), (781, 'refrigerator1'), (2156, 'air1'), (974, 'air1'), (6691, 'air1')]\n",
      "2 14 69 [(3849, 'refrigerator1'), (871, 'air1'), (2156, 'furnace1'), (1086, 'air1'), (7016, 'air1')]\n",
      "3 15 74 [(3967, 'microwave1'), (871, 'clotheswasher1'), (2171, 'air1'), (1086, 'microwave1'), (7016, 'microwave1')]\n",
      "4 16 79 [(4213, 'furnace1'), (871, 'drye1'), (2171, 'microwave1'), (1103, 'air1'), (7361, 'furnace1')]\n",
      "5 17 84 [(4297, 'drye1'), (871, 'furnace1'), (2199, 'furnace1'), (1169, 'air1'), (7560, 'air1')]\n",
      "6 18 89 [(4336, 'air1'), (871, 'kitchenapp1'), (2378, 'furnace1'), (1169, 'drye1'), (7627, 'kitchenapp1')]\n",
      "7 19 94 [(4357, 'drye1'), (871, 'refrigerator1'), (2472, 'furnace1'), (1169, 'kitchenapp1'), (7641, 'drye1')]\n",
      "8 20 99 [(4375, 'microwave1'), (974, 'drye1'), (2532, 'clotheswasher1'), (1169, 'refrigerator1'), (7731, 'air1')]\n",
      "9 21 104 [(4514, 'drye1'), (1086, 'furnace1'), (2532, 'microwave1'), (1192, 'clotheswasher1'), (7769, 'refrigerator1')]\n",
      "10 22 109 [(4946, 'air1'), (1086, 'refrigerator1'), (2557, 'furnace1'), (1202, 'air1'), (7787, 'microwave1')]\n",
      "11 23 114 [(4998, 'furnace1'), (1103, 'clotheswasher1'), (2638, 'drye1'), (1415, 'air1'), (7850, 'drye1')]\n",
      "*-*-**-*-**-*-**-*-**-*-**-*-**-*-**-*-**-*-**-*-**-*-**-*-**-*-**-*-**-*-**-*-**-*-**-*-**-*-**-*-*\n",
      "3\n",
      "0 12 59 [(7850, 'clotheswasher1'), (3482, 'refrigerator1'), (5545, 'refrigerator1'), (3009, 'drye1'), (5809, 'drye1')]\n",
      "1 13 64 [(7850, 'refrigerator1'), (3500, 'clotheswasher1'), (5677, 'furnace1'), (3134, 'air1'), (5814, 'air1')]\n",
      "2 14 69 [(7875, 'refrigerator1'), (3500, 'microwave1'), (5809, 'clotheswasher1'), (3134, 'drye1'), (5874, 'furnace1')]\n",
      "3 15 74 [(7940, 'furnace1'), (3527, 'air1'), (5809, 'refrigerator1'), (3310, 'air1'), (5921, 'furnace1')]\n",
      "4 16 79 [(7951, 'clotheswasher1'), (3649, 'drye1'), (5874, 'air1'), (3310, 'drye1'), (5949, 'air1')]\n",
      "5 17 84 [(7951, 'refrigerator1'), (3649, 'refrigerator1'), (5921, 'drye1'), (3367, 'air1'), (6061, 'air1')]\n",
      "6 18 89 [(8046, 'kitchenapp1'), (3778, 'clotheswasher1'), (6063, 'clotheswasher1'), (3367, 'clotheswasher1'), (6139, 'clotheswasher1')]\n",
      "7 19 94 [(8059, 'drye1'), (3829, 'air1'), (6063, 'kitchenapp1'), (3367, 'drye1'), (6165, 'air1')]\n",
      "8 20 99 [(8079, 'air1'), (3831, 'air1'), (6139, 'air1'), (3367, 'furnace1'), (6165, 'refrigerator1')]\n",
      "9 21 104 [(8084, 'air1'), (3831, 'microwave1'), (6139, 'refrigerator1'), (3367, 'microwave1'), (6423, 'drye1')]\n",
      "10 22 109 [(3849, 'clotheswasher1'), (6165, 'furnace1'), (3367, 'refrigerator1'), (6460, 'kitchenapp1'), (7504, 'air1')]\n",
      "11 23 114 [(3849, 'kitchenapp1'), (6460, 'microwave1'), (3392, 'clotheswasher1'), (7016, 'air1'), (7627, 'clotheswasher1')]\n",
      "*-*-**-*-**-*-**-*-**-*-**-*-**-*-**-*-**-*-**-*-**-*-**-*-**-*-**-*-**-*-**-*-**-*-**-*-**-*-**-*-*\n",
      "4\n",
      "0 12 59 [(2953, 'refrigerator1'), (3849, 'kitchenapp1'), (4375, 'air1'), (7951, 'kitchenapp1'), (7788, 'refrigerator1')]\n",
      "1 13 64 [(2965, 'air1'), (3849, 'refrigerator1'), (4375, 'microwave1'), (7989, 'air1'), (7850, 'furnace1')]\n",
      "2 14 69 [(2965, 'clotheswasher1'), (3967, 'clotheswasher1'), (4514, 'clotheswasher1'), (8046, 'clotheswasher1'), (7875, 'air1')]\n",
      "3 15 74 [(2965, 'drye1'), (3967, 'microwave1'), (4514, 'microwave1'), (8059, 'air1'), (7875, 'refrigerator1')]\n",
      "4 16 79 [(2965, 'furnace1'), (4213, 'air1'), (4946, 'clotheswasher1'), (8059, 'microwave1'), (7940, 'drye1')]\n",
      "5 17 84 [(2965, 'kitchenapp1'), (4213, 'furnace1'), (4946, 'microwave1'), (8079, 'microwave1'), (7940, 'refrigerator1')]\n",
      "6 18 89 [(2965, 'microwave1'), (4213, 'refrigerator1'), (4998, 'clotheswasher1'), (7989, 'drye1'), (2199, 'furnace1')]\n",
      "7 19 94 [(3009, 'air1'), (4298, 'air1'), (4998, 'refrigerator1'), (8046, 'kitchenapp1'), (2199, 'refrigerator1')]\n",
      "8 20 99 [(3134, 'air1'), (4336, 'air1'), (5026, 'furnace1'), (8059, 'furnace1'), (2378, 'air1')]\n",
      "9 21 104 [(3310, 'air1'), (4357, 'air1'), (5218, 'furnace1'), (8079, 'kitchenapp1'), (2378, 'furnace1')]\n",
      "10 22 109 [(3367, 'air1'), (4375, 'furnace1'), (5275, 'air1'), (2378, 'refrigerator1'), (7731, 'drye1')]\n",
      "11 23 114 [(3367, 'drye1'), (4514, 'drye1'), (5317, 'microwave1'), (2472, 'air1'), (7787, 'drye1')]\n",
      "*-*-**-*-**-*-**-*-**-*-**-*-**-*-**-*-**-*-**-*-**-*-**-*-**-*-**-*-**-*-**-*-**-*-**-*-**-*-**-*-*\n",
      "5\n",
      "0 12 59 [(7787, 'refrigerator1'), (4514, 'microwave1'), (4298, 'air1'), (2859, 'refrigerator1'), (8059, 'air1')]\n",
      "1 13 64 [(7788, 'furnace1'), (4946, 'clotheswasher1'), (4298, 'microwave1'), (2953, 'air1'), (8059, 'microwave1')]\n",
      "2 14 69 [(7850, 'drye1'), (4946, 'microwave1'), (4336, 'clotheswasher1'), (2953, 'clotheswasher1'), (8079, 'microwave1')]\n",
      "3 15 74 [(7850, 'refrigerator1'), (4998, 'clotheswasher1'), (4357, 'air1'), (2953, 'drye1'), (1953, 'refrigerator1')]\n",
      "4 16 79 [(7875, 'refrigerator1'), (4998, 'refrigerator1'), (4375, 'clotheswasher1'), (2965, 'air1'), (2129, 'air1')]\n",
      "5 17 84 [(7940, 'furnace1'), (5026, 'furnace1'), (4375, 'refrigerator1'), (2965, 'drye1'), (2156, 'air1')]\n",
      "6 18 89 [(7951, 'refrigerator1'), (5218, 'furnace1'), (4514, 'drye1'), (2965, 'kitchenapp1'), (2156, 'clotheswasher1')]\n",
      "7 19 94 [(7989, 'furnace1'), (5275, 'air1'), (4946, 'air1'), (2965, 'refrigerator1'), (2156, 'drye1')]\n"
     ]
    },
    {
     "name": "stdout",
     "output_type": "stream",
     "text": [
      "8 20 99 [(8046, 'kitchenapp1'), (5317, 'furnace1'), (4946, 'refrigerator1'), (3009, 'drye1'), (2156, 'furnace1')]\n",
      "9 21 104 [(8059, 'furnace1'), (5545, 'air1'), (4998, 'kitchenapp1'), (3134, 'drye1'), (2156, 'microwave1')]\n",
      "10 22 109 [(8079, 'kitchenapp1'), (5545, 'microwave1'), (5026, 'clotheswasher1'), (3310, 'drye1'), (2156, 'refrigerator1')]\n",
      "11 23 114 [(5809, 'clotheswasher1'), (5218, 'microwave1'), (3367, 'clotheswasher1'), (2171, 'air1'), (503, 'refrigerator1')]\n",
      "*-*-**-*-**-*-**-*-**-*-**-*-**-*-**-*-**-*-**-*-**-*-**-*-**-*-**-*-**-*-**-*-**-*-**-*-**-*-**-*-*\n",
      "6\n",
      "0 12 59 [(8046, 'air1'), (4375, 'refrigerator1'), (5218, 'furnace1'), (2814, 'air1'), (7850, 'kitchenapp1')]\n",
      "1 13 64 [(8046, 'refrigerator1'), (4514, 'clotheswasher1'), (5218, 'refrigerator1'), (2814, 'clotheswasher1'), (7875, 'clotheswasher1')]\n",
      "2 14 69 [(8059, 'kitchenapp1'), (4514, 'furnace1'), (5275, 'furnace1'), (2814, 'drye1'), (7900, 'air1')]\n",
      "3 15 74 [(8079, 'kitchenapp1'), (4514, 'refrigerator1'), (5275, 'refrigerator1'), (2814, 'furnace1'), (7940, 'furnace1')]\n",
      "4 16 79 [(4946, 'clotheswasher1'), (5317, 'drye1'), (2814, 'microwave1'), (7951, 'air1'), (7769, 'clotheswasher1')]\n",
      "5 17 84 [(4946, 'furnace1'), (5317, 'microwave1'), (2814, 'refrigerator1'), (7951, 'microwave1'), (7787, 'clotheswasher1')]\n",
      "6 18 89 [(4946, 'refrigerator1'), (5545, 'microwave1'), (2859, 'air1'), (8046, 'clotheswasher1'), (7788, 'drye1')]\n",
      "7 19 94 [(4998, 'clotheswasher1'), (5677, 'clotheswasher1'), (2859, 'clotheswasher1'), (8059, 'clotheswasher1'), (7850, 'clotheswasher1')]\n",
      "8 20 99 [(4998, 'kitchenapp1'), (5809, 'air1'), (2859, 'drye1'), (8079, 'air1'), (7850, 'refrigerator1')]\n",
      "9 21 104 [(4998, 'refrigerator1'), (5809, 'furnace1'), (2859, 'furnace1'), (8084, 'drye1'), (7875, 'refrigerator1')]\n",
      "10 22 109 [(5026, 'clotheswasher1'), (5814, 'air1'), (2859, 'kitchenapp1'), (7940, 'kitchenapp1'), (7940, 'microwave1')]\n",
      "11 23 114 [(5026, 'kitchenapp1'), (5874, 'furnace1'), (2859, 'microwave1'), (7951, 'kitchenapp1'), (7951, 'refrigerator1')]\n",
      "*-*-**-*-**-*-**-*-**-*-**-*-**-*-**-*-**-*-**-*-**-*-**-*-**-*-**-*-**-*-**-*-**-*-**-*-**-*-**-*-*\n",
      "7\n",
      "0 12 59 [(3849, 'microwave1'), (4357, 'drye1'), (974, 'drye1'), (1632, 'microwave1'), (4946, 'furnace1')]\n",
      "1 13 64 [(3967, 'clotheswasher1'), (4375, 'microwave1'), (1086, 'air1'), (1718, 'air1'), (4998, 'furnace1')]\n",
      "2 14 69 [(3967, 'refrigerator1'), (4514, 'drye1'), (1086, 'furnace1'), (1953, 'air1'), (5026, 'clotheswasher1')]\n",
      "3 15 74 [(4213, 'furnace1'), (4946, 'air1'), (1086, 'microwave1'), (1953, 'refrigerator1'), (5218, 'air1')]\n",
      "4 16 79 [(4297, 'air1'), (4946, 'refrigerator1'), (1086, 'refrigerator1'), (2156, 'air1'), (5275, 'air1')]\n",
      "5 17 84 [(4298, 'furnace1'), (4998, 'microwave1'), (1103, 'air1'), (2156, 'drye1'), (5275, 'refrigerator1')]\n",
      "6 18 89 [(4336, 'clotheswasher1'), (5026, 'furnace1'), (1103, 'clotheswasher1'), (2156, 'microwave1'), (5545, 'clotheswasher1')]\n",
      "7 19 94 [(4375, 'air1'), (5218, 'kitchenapp1'), (1169, 'air1'), (2171, 'air1'), (5677, 'air1')]\n",
      "8 20 99 [(4375, 'refrigerator1'), (5317, 'clotheswasher1'), (1169, 'clotheswasher1'), (2171, 'kitchenapp1'), (5809, 'clotheswasher1')]\n",
      "9 21 104 [(4514, 'furnace1'), (5317, 'microwave1'), (1169, 'drye1'), (2171, 'refrigerator1'), (5814, 'air1')]\n",
      "10 22 109 [(4946, 'clotheswasher1'), (5545, 'kitchenapp1'), (1169, 'furnace1'), (2199, 'furnace1'), (5921, 'air1')]\n",
      "11 23 114 [(4998, 'refrigerator1'), (5809, 'drye1'), (1169, 'kitchenapp1'), (2378, 'air1'), (5949, 'furnace1')]\n",
      "*-*-**-*-**-*-**-*-**-*-**-*-**-*-**-*-**-*-**-*-**-*-**-*-**-*-**-*-**-*-**-*-**-*-**-*-**-*-**-*-*\n",
      "8\n",
      "0 12 59 [(7641, 'furnace1'), (7850, 'air1'), (3134, 'drye1'), (3367, 'air1'), (7641, 'drye1')]\n",
      "1 13 64 [(7731, 'air1'), (7850, 'microwave1'), (3310, 'air1'), (3367, 'drye1'), (7641, 'refrigerator1')]\n",
      "2 14 69 [(7769, 'drye1'), (7875, 'microwave1'), (3310, 'drye1'), (3367, 'microwave1'), (7769, 'clotheswasher1')]\n",
      "3 15 74 [(7787, 'drye1'), (7940, 'drye1'), (3367, 'clotheswasher1'), (3392, 'clotheswasher1'), (7787, 'clotheswasher1')]\n",
      "4 16 79 [(7788, 'air1'), (7951, 'air1'), (3367, 'furnace1'), (3392, 'kitchenapp1'), (7787, 'refrigerator1')]\n",
      "5 17 84 [(7788, 'refrigerator1'), (7951, 'microwave1'), (3367, 'refrigerator1'), (3392, 'refrigerator1'), (7788, 'furnace1')]\n",
      "6 18 89 [(7875, 'refrigerator1'), (8046, 'furnace1'), (3392, 'furnace1'), (3482, 'clotheswasher1'), (7875, 'furnace1')]\n",
      "7 19 94 [(7940, 'furnace1'), (8059, 'clotheswasher1'), (3392, 'microwave1'), (3482, 'furnace1'), (7940, 'clotheswasher1')]\n",
      "8 20 99 [(7951, 'clotheswasher1'), (8059, 'refrigerator1'), (3482, 'air1'), (3482, 'refrigerator1'), (7940, 'refrigerator1')]\n",
      "9 21 104 [(7951, 'refrigerator1'), (8079, 'refrigerator1'), (3482, 'drye1'), (3500, 'clotheswasher1'), (7951, 'kitchenapp1')]\n",
      "10 22 109 [(7989, 'drye1'), (3482, 'microwave1'), (3500, 'microwave1'), (7989, 'air1'), (4946, 'furnace1')]\n",
      "11 23 114 [(8059, 'drye1'), (3500, 'air1'), (3527, 'air1'), (8059, 'air1'), (4998, 'microwave1')]\n",
      "*-*-**-*-**-*-**-*-**-*-**-*-**-*-**-*-**-*-**-*-**-*-**-*-**-*-**-*-**-*-**-*-**-*-**-*-**-*-**-*-*\n",
      "9\n",
      "0 12 59 [(7951, 'clotheswasher1'), (7769, 'drye1'), (2965, 'furnace1'), (1507, 'air1'), (5677, 'clotheswasher1')]\n",
      "1 13 64 [(7951, 'refrigerator1'), (7787, 'drye1'), (2965, 'microwave1'), (1507, 'clotheswasher1'), (5809, 'air1')]\n",
      "2 14 69 [(7989, 'furnace1'), (7788, 'air1'), (3009, 'air1'), (1507, 'drye1'), (5809, 'furnace1')]\n",
      "3 15 74 [(8046, 'kitchenapp1'), (7788, 'refrigerator1'), (3134, 'air1'), (1507, 'furnace1'), (5814, 'air1')]\n",
      "4 16 79 [(8059, 'drye1'), (7850, 'furnace1'), (3310, 'air1'), (1507, 'kitchenapp1'), (5874, 'air1')]\n",
      "5 17 84 [(8079, 'air1'), (7875, 'air1'), (3367, 'air1'), (1507, 'microwave1'), (5921, 'clotheswasher1')]\n",
      "6 18 89 [(7940, 'furnace1'), (3367, 'drye1'), (1507, 'refrigerator1'), (5949, 'kitchenapp1'), (3367, 'clotheswasher1')]\n",
      "7 19 94 [(7951, 'drye1'), (3367, 'refrigerator1'), (1632, 'air1'), (6063, 'clotheswasher1'), (3367, 'microwave1')]\n",
      "8 20 99 [(7973, 'drye1'), (3392, 'kitchenapp1'), (1632, 'clotheswasher1'), (6063, 'microwave1'), (3392, 'furnace1')]\n",
      "9 21 104 [(8046, 'clotheswasher1'), (3482, 'air1'), (1632, 'furnace1'), (6139, 'drye1'), (3392, 'refrigerator1')]\n",
      "10 22 109 [(8059, 'clotheswasher1'), (3482, 'furnace1'), (1632, 'kitchenapp1'), (6165, 'clotheswasher1'), (3482, 'drye1')]\n",
      "11 23 114 [(8084, 'air1'), (3500, 'air1'), (1632, 'microwave1'), (6460, 'air1'), (3482, 'refrigerator1')]\n"
     ]
    }
   ],
   "source": [
    "pred_df_random = {}\n",
    "from copy import deepcopy\n",
    "pool_r_random = {}\n",
    "for seed in range(10):\n",
    "    pool_r_random[seed] = {}\n",
    "    print(\"*-*-*\"*20)\n",
    "    print(seed)\n",
    "    pool_use = np.empty((0, len(APPLIANCE_ORDER), 24))\n",
    "    pool_set_iter = deepcopy(p_m_h)\n",
    "    pred_df_random[seed] = {}\n",
    "    pool_remove_ix = {}\n",
    "    pool_remove = {}\n",
    "    gt_df = {}\n",
    "\n",
    "    for cur_iteration, month in enumerate(range(12, 24)):\n",
    "        np.random.seed(seed)\n",
    "        # Randomly choose `n` to remove from pool and put in training set\n",
    "        pool_remove_ix[cur_iteration] = np.random.choice(range(len(pool_set_iter[month])), size=5)\n",
    "        pool_remove[month] = [pool_set_iter[month][x] for x in pool_remove_ix[cur_iteration]]\n",
    "\n",
    "        # Remove these from future months pool too\n",
    "        for month_f in range(month+1, 24):\n",
    "            for x in pool_remove[month]:\n",
    "                if x in pool_set_iter[month_f]:\n",
    "                    pool_set_iter[month_f].remove(x)\n",
    "\n",
    "\n",
    "        # Getting data from `t` to create the pool_use_set\n",
    "        pool_remove_homes = [x[0] for x in pool_remove[month]]\n",
    "        pool_remove_homes_ix = np.searchsorted(use_homes, pool_remove_homes)\n",
    "\n",
    "        cur_pool = t[pool_remove_homes_ix, :, :].copy()\n",
    "        # All past data is unknown\n",
    "        cur_pool[:, 1:, :month] = np.NaN\n",
    "\n",
    "        # All future data for all appliances except the chosen one is known\n",
    "        cur_pool[:, 1:, month:] = np.NaN\n",
    "        for q, h in enumerate(pool_remove_homes_ix):\n",
    "            appliance_num = APPLIANCE_ORDER.index(pool_remove[month][q][1])\n",
    "            cur_pool[q, appliance_num, month:] = t[h, appliance_num, month:]\n",
    "\n",
    "        pool_use = np.concatenate([pool_use, cur_pool])\n",
    "\n",
    "        pool_train_test = np.concatenate([pool_use, train_test_set[:, :, :] ])\n",
    "\n",
    "        h, a, m =factorise(pool_train_test[:, :, :month], 3)\n",
    "        print(cur_iteration, month, len(pool_train_test), pool_remove[month])\n",
    "\n",
    "        pred = np.einsum('Hr, Ar, Tr ->HAT', h, a, m)\n",
    "        pred_df_random[seed][month] = pred[len(train_set)+len(pool_use):,1:, month-1:month].reshape(-1, len(APPLIANCE_ORDER)-1)\n",
    "        gt_df[month] = t[170:][:, 1:, month-1:month].reshape(len(test_set), len(APPLIANCE_ORDER)-1)\n",
    "    pool_r_random[seed] = deepcopy(pool_remove)"
   ]
  },
  {
   "cell_type": "code",
   "execution_count": 21,
   "metadata": {},
   "outputs": [],
   "source": [
    "r = {}\n",
    "for j in range(10):\n",
    "    \n",
    "    y = list(pool_r_random[j].values())\n",
    "    r[j] = {}\n",
    "    for p in range(5, 65, 5):\n",
    "        r[j][p] = pd.Series([z[1] for x in y for z in x]).head(p).value_counts()\n",
    "        "
   ]
  },
  {
   "cell_type": "code",
   "execution_count": 22,
   "metadata": {},
   "outputs": [
    {
     "name": "stderr",
     "output_type": "stream",
     "text": [
      "/Users/nipun/anaconda3/lib/python3.6/site-packages/IPython/core/interactiveshell.py:2963: FutureWarning: \n",
      "Panel is deprecated and will be removed in a future version.\n",
      "The recommended way to represent these types of 3-dimensional data are with a MultiIndex on a DataFrame, via the Panel.to_frame() method\n",
      "Alternatively, you can use the xarray package http://xarray.pydata.org/en/stable/.\n",
      "Pandas provides a `.to_xarray()` method to help automate this conversion.\n",
      "\n",
      "  exec(code_obj, self.user_global_ns, self.user_ns)\n"
     ]
    },
    {
     "data": {
      "text/html": [
       "<div>\n",
       "<style scoped>\n",
       "    .dataframe tbody tr th:only-of-type {\n",
       "        vertical-align: middle;\n",
       "    }\n",
       "\n",
       "    .dataframe tbody tr th {\n",
       "        vertical-align: top;\n",
       "    }\n",
       "\n",
       "    .dataframe thead th {\n",
       "        text-align: right;\n",
       "    }\n",
       "</style>\n",
       "<table border=\"1\" class=\"dataframe\">\n",
       "  <thead>\n",
       "    <tr style=\"text-align: right;\">\n",
       "      <th></th>\n",
       "      <th>5</th>\n",
       "      <th>10</th>\n",
       "      <th>15</th>\n",
       "      <th>20</th>\n",
       "      <th>25</th>\n",
       "      <th>30</th>\n",
       "      <th>35</th>\n",
       "      <th>40</th>\n",
       "      <th>45</th>\n",
       "      <th>50</th>\n",
       "      <th>55</th>\n",
       "      <th>60</th>\n",
       "    </tr>\n",
       "  </thead>\n",
       "  <tbody>\n",
       "    <tr>\n",
       "      <th>air1</th>\n",
       "      <td>1.428571</td>\n",
       "      <td>2.500000</td>\n",
       "      <td>3.500000</td>\n",
       "      <td>4.600000</td>\n",
       "      <td>6.200000</td>\n",
       "      <td>7.500000</td>\n",
       "      <td>7.900000</td>\n",
       "      <td>9.5</td>\n",
       "      <td>10.7</td>\n",
       "      <td>11.8</td>\n",
       "      <td>12.9</td>\n",
       "      <td>14.2</td>\n",
       "    </tr>\n",
       "    <tr>\n",
       "      <th>clotheswasher1</th>\n",
       "      <td>1.200000</td>\n",
       "      <td>2.000000</td>\n",
       "      <td>2.700000</td>\n",
       "      <td>3.400000</td>\n",
       "      <td>3.900000</td>\n",
       "      <td>4.100000</td>\n",
       "      <td>5.300000</td>\n",
       "      <td>6.1</td>\n",
       "      <td>6.9</td>\n",
       "      <td>7.3</td>\n",
       "      <td>8.1</td>\n",
       "      <td>8.7</td>\n",
       "    </tr>\n",
       "    <tr>\n",
       "      <th>drye1</th>\n",
       "      <td>1.600000</td>\n",
       "      <td>2.200000</td>\n",
       "      <td>2.714286</td>\n",
       "      <td>2.777778</td>\n",
       "      <td>3.400000</td>\n",
       "      <td>3.900000</td>\n",
       "      <td>4.500000</td>\n",
       "      <td>5.4</td>\n",
       "      <td>6.0</td>\n",
       "      <td>6.9</td>\n",
       "      <td>7.3</td>\n",
       "      <td>8.1</td>\n",
       "    </tr>\n",
       "    <tr>\n",
       "      <th>furnace1</th>\n",
       "      <td>1.142857</td>\n",
       "      <td>1.200000</td>\n",
       "      <td>2.000000</td>\n",
       "      <td>2.700000</td>\n",
       "      <td>3.300000</td>\n",
       "      <td>4.300000</td>\n",
       "      <td>5.500000</td>\n",
       "      <td>5.9</td>\n",
       "      <td>6.5</td>\n",
       "      <td>7.4</td>\n",
       "      <td>8.3</td>\n",
       "      <td>8.7</td>\n",
       "    </tr>\n",
       "    <tr>\n",
       "      <th>kitchenapp1</th>\n",
       "      <td>1.500000</td>\n",
       "      <td>1.333333</td>\n",
       "      <td>1.500000</td>\n",
       "      <td>1.600000</td>\n",
       "      <td>1.833333</td>\n",
       "      <td>2.166667</td>\n",
       "      <td>2.111111</td>\n",
       "      <td>2.3</td>\n",
       "      <td>2.8</td>\n",
       "      <td>3.2</td>\n",
       "      <td>4.0</td>\n",
       "      <td>4.7</td>\n",
       "    </tr>\n",
       "    <tr>\n",
       "      <th>microwave1</th>\n",
       "      <td>1.600000</td>\n",
       "      <td>2.000000</td>\n",
       "      <td>2.555556</td>\n",
       "      <td>3.222222</td>\n",
       "      <td>3.200000</td>\n",
       "      <td>4.000000</td>\n",
       "      <td>4.400000</td>\n",
       "      <td>4.7</td>\n",
       "      <td>5.0</td>\n",
       "      <td>5.5</td>\n",
       "      <td>6.1</td>\n",
       "      <td>6.9</td>\n",
       "    </tr>\n",
       "    <tr>\n",
       "      <th>refrigerator1</th>\n",
       "      <td>1.750000</td>\n",
       "      <td>2.000000</td>\n",
       "      <td>2.222222</td>\n",
       "      <td>3.100000</td>\n",
       "      <td>3.900000</td>\n",
       "      <td>4.900000</td>\n",
       "      <td>5.500000</td>\n",
       "      <td>6.1</td>\n",
       "      <td>7.1</td>\n",
       "      <td>7.9</td>\n",
       "      <td>8.3</td>\n",
       "      <td>8.7</td>\n",
       "    </tr>\n",
       "  </tbody>\n",
       "</table>\n",
       "</div>"
      ],
      "text/plain": [
       "                      5         10        15        20        25        30  \\\n",
       "air1            1.428571  2.500000  3.500000  4.600000  6.200000  7.500000   \n",
       "clotheswasher1  1.200000  2.000000  2.700000  3.400000  3.900000  4.100000   \n",
       "drye1           1.600000  2.200000  2.714286  2.777778  3.400000  3.900000   \n",
       "furnace1        1.142857  1.200000  2.000000  2.700000  3.300000  4.300000   \n",
       "kitchenapp1     1.500000  1.333333  1.500000  1.600000  1.833333  2.166667   \n",
       "microwave1      1.600000  2.000000  2.555556  3.222222  3.200000  4.000000   \n",
       "refrigerator1   1.750000  2.000000  2.222222  3.100000  3.900000  4.900000   \n",
       "\n",
       "                      35   40    45    50    55    60  \n",
       "air1            7.900000  9.5  10.7  11.8  12.9  14.2  \n",
       "clotheswasher1  5.300000  6.1   6.9   7.3   8.1   8.7  \n",
       "drye1           4.500000  5.4   6.0   6.9   7.3   8.1  \n",
       "furnace1        5.500000  5.9   6.5   7.4   8.3   8.7  \n",
       "kitchenapp1     2.111111  2.3   2.8   3.2   4.0   4.7  \n",
       "microwave1      4.400000  4.7   5.0   5.5   6.1   6.9  \n",
       "refrigerator1   5.500000  6.1   7.1   7.9   8.3   8.7  "
      ]
     },
     "execution_count": 22,
     "metadata": {},
     "output_type": "execute_result"
    }
   ],
   "source": [
    "pd.Panel(r).mean(axis=0)"
   ]
  },
  {
   "cell_type": "code",
   "execution_count": 23,
   "metadata": {},
   "outputs": [
    {
     "name": "stderr",
     "output_type": "stream",
     "text": [
      "/Users/nipun/anaconda3/lib/python3.6/site-packages/IPython/core/interactiveshell.py:2963: FutureWarning: \n",
      "Panel is deprecated and will be removed in a future version.\n",
      "The recommended way to represent these types of 3-dimensional data are with a MultiIndex on a DataFrame, via the Panel.to_frame() method\n",
      "Alternatively, you can use the xarray package http://xarray.pydata.org/en/stable/.\n",
      "Pandas provides a `.to_xarray()` method to help automate this conversion.\n",
      "\n",
      "  exec(code_obj, self.user_global_ns, self.user_ns)\n"
     ]
    },
    {
     "data": {
      "image/png": "[encoded data removed]",
      "text/plain": [
       "<Figure size 432x288 with 1 Axes>"
      ]
     },
     "metadata": {},
     "output_type": "display_data"
    }
   ],
   "source": [
    "pd.DataFrame(pd.Panel(r).mean(axis=0)).T.fillna(0).plot(marker='o')\n",
    "plt.xlabel(\"#Queried instances\")\n",
    "plt.ylabel(\"Count\")\n",
    "plt.title(\"Random Querying\")\n",
    "plt.savefig(\"active-random-instances.pdf\")\n",
    "plt.savefig(\"active-random-instances.png\")"
   ]
  },
  {
   "cell_type": "markdown",
   "metadata": {},
   "source": [
    "### Active learning Testing"
   ]
  },
  {
   "cell_type": "code",
   "execution_count": null,
   "metadata": {},
   "outputs": [],
   "source": [
    "pool_use = np.empty((0, 7, 24))\n",
    "gt_df = {}\n",
    "pred_df_active = {}\n",
    "pool_remove_active = {}\n",
    "pool_set_active = {}\n",
    "all_seen = []\n",
    "\n",
    "for cur_iteration, month in enumerate(range(12, 13)):\n",
    "    \n",
    "\n",
    "    pred_pool = {}\n",
    "    psc = pool_set.copy()\n",
    "    psc[:, 1:, :] = np.NaN\n",
    "    month_contri = (pd.DataFrame(train_set[:, :, month]).mean()/pd.DataFrame(train_set[:, :, month]).mean()[0]).drop(0).to_dict()\n",
    "    # Starting with current data and finding the variance amongst different #Latent factors\n",
    "    for r in range(2, 8):\n",
    "        print(month, r)\n",
    "        pool_train = np.concatenate([psc, train_set[:, :, :] ])\n",
    "        h, a, m =factorise(pool_train[:, :, :month], r)\n",
    "        # This gives us prediction on the pool set only\n",
    "        pred_pool[r] = np.einsum('Hr, Ar, Tr ->HAT', h, a, m)[:len(pool_set)]\n",
    "   "
   ]
  },
  {
   "cell_type": "markdown",
   "metadata": {},
   "source": [
    "### Variance "
   ]
  },
  {
   "cell_type": "code",
   "execution_count": null,
   "metadata": {},
   "outputs": [],
   "source": [
    "pd.DataFrame({x:pred_pool[x][:, 1, -1] for x in range(2, 8)}).std(axis=1).sort_values()"
   ]
  },
  {
   "cell_type": "code",
   "execution_count": null,
   "metadata": {},
   "outputs": [],
   "source": [
    "# Finding the top-most `n` highly variance homes\n",
    "# measure = std/contri\n",
    "temp = []\n",
    "for appliance_num, appliance in enumerate(APPLIANCE_ORDER[1:]):\n",
    "    y = pd.DataFrame({r:pd.Series(pred_pool[r][:, appliance_num+1, -1])for r in range(2, 8)}).std(axis=1)\n",
    "    y.index = [(x, appliance) for x in pool_homes]\n",
    "    #y = (y - y.min())/(y.max()-y.min())\n",
    "    temp.append(y)\n",
    "\n",
    "print(pd.concat(temp).sort_values(ascending=False).drop(all_seen).head(50))"
   ]
  },
  {
   "cell_type": "code",
   "execution_count": null,
   "metadata": {},
   "outputs": [],
   "source": [
    "pool_remove_active[month] = pd.concat(temp).sort_values(ascending=False).drop(all_seen).head(5).index.tolist() \n",
    "\n",
    "all_seen.extend(pool_remove_active[month])\n",
    "all_seen = list(set(all_seen))\n",
    "\n",
    "# Getting data from `t` to create the pool_use_set\n",
    "pool_remove_homes_active = [x[0] for x in pool_remove_active[month]]\n",
    "pool_remove_homes_active_ix = np.searchsorted(use_homes, pool_remove_homes_active)"
   ]
  },
  {
   "cell_type": "code",
   "execution_count": null,
   "metadata": {},
   "outputs": [],
   "source": [
    "pool_remove_active"
   ]
  },
  {
   "cell_type": "code",
   "execution_count": null,
   "metadata": {},
   "outputs": [],
   "source": [
    "all_seen"
   ]
  },
  {
   "cell_type": "code",
   "execution_count": null,
   "metadata": {},
   "outputs": [],
   "source": [
    "pool_remove_homes_active"
   ]
  },
  {
   "cell_type": "code",
   "execution_count": null,
   "metadata": {},
   "outputs": [],
   "source": [
    "pool_remove_homes_active_ix"
   ]
  },
  {
   "cell_type": "code",
   "execution_count": null,
   "metadata": {},
   "outputs": [],
   "source": [
    "cur_pool = t[pool_remove_homes_active_ix, :, :].copy()\n"
   ]
  },
  {
   "cell_type": "code",
   "execution_count": null,
   "metadata": {},
   "outputs": [],
   "source": [
    "cur_pool"
   ]
  },
  {
   "cell_type": "code",
   "execution_count": null,
   "metadata": {},
   "outputs": [],
   "source": [
    "cur_pool[:, 1:, :month] = np.NaN"
   ]
  },
  {
   "cell_type": "code",
   "execution_count": null,
   "metadata": {},
   "outputs": [],
   "source": [
    "# All future data for all appliances except the chosen one is known\n",
    "cur_pool[:, 1:, month:] = np.NaN"
   ]
  },
  {
   "cell_type": "code",
   "execution_count": null,
   "metadata": {},
   "outputs": [],
   "source": [
    "for q, h in enumerate(pool_remove_homes_active_ix):\n",
    "    print(q, h)\n",
    "    appliance_num = APPLIANCE_ORDER.index(pool_remove_active[month][q][1])\n",
    "    print(appliance_num)\n",
    "    cur_pool[q, appliance_num, month-1:] = t[h, appliance_num, month-1:]"
   ]
  },
  {
   "cell_type": "code",
   "execution_count": null,
   "metadata": {},
   "outputs": [],
   "source": [
    "cur_pool[4, 1, :]"
   ]
  },
  {
   "cell_type": "code",
   "execution_count": null,
   "metadata": {},
   "outputs": [],
   "source": [
    "t[152, 1, :]"
   ]
  },
  {
   "cell_type": "code",
   "execution_count": null,
   "metadata": {},
   "outputs": [],
   "source": [
    "l = {x:pd.value_counts(z[:x]).div(x) for x in range(10, 160*6, 10)}\n",
    "pd.DataFrame(l).T.plot(kind='line')\n",
    "plt.xlabel(\"Top-K by std. deviation\")\n",
    "plt.ylabel(\"Fraction\")\n",
    "plt.savefig(\"top-k-std.pdf\")"
   ]
  },
  {
   "cell_type": "code",
   "execution_count": null,
   "metadata": {},
   "outputs": [],
   "source": [
    "import matplotlib.pyplot as plt"
   ]
  },
  {
   "cell_type": "code",
   "execution_count": null,
   "metadata": {},
   "outputs": [],
   "source": [
    "pool_set[1, 1, :]"
   ]
  },
  {
   "cell_type": "code",
   "execution_count": null,
   "metadata": {},
   "outputs": [],
   "source": [
    "pool_train[1, 1, :]"
   ]
  },
  {
   "cell_type": "code",
   "execution_count": null,
   "metadata": {},
   "outputs": [],
   "source": []
  },
  {
   "cell_type": "code",
   "execution_count": 24,
   "metadata": {},
   "outputs": [
    {
     "name": "stdout",
     "output_type": "stream",
     "text": [
      "12 2\n",
      "12 3\n",
      "12 4\n",
      "12 5\n",
      "12 6\n",
      "12 7\n",
      "(2365, air1)    190.086075\n",
      "(3916, air1)    156.758818\n",
      "(6691, air1)    150.643769\n",
      "(4336, air1)    143.718914\n",
      "(484, air1)     140.153987\n",
      "(4154, air1)    134.424838\n",
      "(5357, air1)    116.981462\n",
      "(4767, air1)    114.679560\n",
      "(7951, air1)    108.319463\n",
      "(3367, air1)    106.231698\n",
      "dtype: float64\n",
      "0 12 59 [(2365, 'air1'), (3916, 'air1'), (6691, 'air1'), (4336, 'air1'), (484, 'air1')]\n",
      "13 2\n",
      "13 3\n",
      "13 4\n",
      "13 5\n",
      "13 6\n",
      "13 7\n",
      "(4154, air1)    136.970018\n",
      "(1700, air1)    103.774487\n",
      "(7951, air1)    103.243902\n",
      "(3367, air1)    102.110693\n",
      "(5357, air1)     99.959803\n",
      "(7016, air1)     98.718804\n",
      "(4767, air1)     94.691028\n",
      "(1202, air1)     94.211271\n",
      "(3039, air1)     93.757081\n",
      "(1790, air1)     93.725074\n",
      "dtype: float64\n",
      "1 13 64 [(4154, 'air1'), (1700, 'air1'), (7951, 'air1'), (3367, 'air1'), (5357, 'air1')]\n",
      "14 2\n",
      "14 3\n",
      "14 4\n",
      "14 5\n",
      "14 6\n",
      "14 7\n",
      "(3918, air1)    173.475800\n",
      "(2018, air1)    172.190727\n",
      "(7016, air1)    145.880040\n",
      "(1790, air1)    143.958246\n",
      "(1507, air1)    142.648603\n",
      "(3039, air1)    140.389360\n",
      "(7719, air1)    131.323413\n",
      "(3044, air1)    128.657998\n",
      "(3500, air1)    121.110577\n",
      "(1718, air1)    115.444329\n",
      "dtype: float64\n",
      "2 14 69 [(3918, 'air1'), (2018, 'air1'), (7016, 'air1'), (1790, 'air1'), (1507, 'air1')]\n",
      "15 2\n",
      "15 3\n",
      "15 4\n",
      "15 5\n",
      "15 6\n",
      "15 7\n",
      "(3039, air1)        159.462032\n",
      "(7719, air1)        159.089609\n",
      "(3044, air1)        133.739077\n",
      "(4957, air1)        127.497542\n",
      "(5809, air1)        122.003897\n",
      "(4375, air1)        118.750914\n",
      "(1697, air1)        117.216510\n",
      "(7016, furnace1)    115.432529\n",
      "(7793, air1)        112.282118\n",
      "(6412, air1)        109.854975\n",
      "dtype: float64\n",
      "3 15 74 [(3039, 'air1'), (7719, 'air1'), (3044, 'air1'), (4957, 'air1'), (5809, 'air1')]\n",
      "16 2\n",
      "16 3\n",
      "16 4\n",
      "16 5\n",
      "16 6\n",
      "16 7\n",
      "(5972, air1)    144.373416\n",
      "(7793, air1)    131.758782\n",
      "(7504, air1)    130.136743\n",
      "(7641, air1)    128.282771\n",
      "(2233, air1)    124.672218\n",
      "(1697, air1)    122.996950\n",
      "(2378, air1)    122.659078\n",
      "(6498, air1)    120.549046\n",
      "(4375, air1)    119.595421\n",
      "(2129, air1)    111.448383\n",
      "dtype: float64\n",
      "4 16 79 [(5972, 'air1'), (7793, 'air1'), (7504, 'air1'), (7641, 'air1'), (2233, 'air1')]\n",
      "17 2\n",
      "17 3\n",
      "17 4\n",
      "17 5\n",
      "17 6\n",
      "17 7\n",
      "(4375, air1)        208.011734\n",
      "(1697, air1)        166.009966\n",
      "(974, air1)         163.836251\n",
      "(6498, air1)        162.408074\n",
      "(6460, air1)        158.372000\n",
      "(2378, air1)        156.200805\n",
      "(6412, air1)        152.453659\n",
      "(6061, air1)        145.374838\n",
      "(2129, air1)        138.546304\n",
      "(4375, furnace1)    138.414578\n",
      "dtype: float64\n",
      "5 17 84 [(4375, 'air1'), (1697, 'air1'), (974, 'air1'), (6498, 'air1'), (6460, 'air1')]\n",
      "18 2\n",
      "18 3\n",
      "18 4\n",
      "18 5\n",
      "18 6\n",
      "18 7\n",
      "(545, air1)     613.354194\n",
      "(7901, air1)    448.463274\n",
      "(6121, air1)    420.678473\n",
      "(2787, air1)    404.025705\n",
      "(744, air1)     386.195447\n",
      "(7731, air1)    376.921194\n",
      "(2755, air1)    374.182998\n",
      "(4874, air1)    372.215910\n",
      "(5060, air1)    363.505658\n",
      "(6990, air1)    356.574314\n",
      "dtype: float64\n",
      "6 18 89 [(545, 'air1'), (7901, 'air1'), (6121, 'air1'), (2787, 'air1'), (744, 'air1')]\n",
      "19 2\n",
      "19 3\n",
      "19 4\n",
      "19 5\n",
      "19 6\n",
      "19 7\n",
      "(4373, air1)    382.691116\n",
      "(7627, air1)    372.303537\n",
      "(6412, air1)    305.319876\n",
      "(3849, air1)    282.739971\n",
      "(4874, air1)    281.518145\n",
      "(4220, air1)    280.962089\n",
      "(2575, air1)    271.826132\n",
      "(1283, air1)    256.629204\n",
      "(4767, air1)    255.836132\n",
      "(1463, air1)    254.094864\n",
      "dtype: float64\n",
      "7 19 94 [(4373, 'air1'), (7627, 'air1'), (6412, 'air1'), (3849, 'air1'), (4874, 'air1')]\n",
      "20 2\n",
      "20 3\n",
      "20 4\n",
      "20 5\n",
      "20 6\n",
      "20 7\n",
      "(1463, air1)        293.705769\n",
      "(7016, furnace1)    260.490056\n",
      "(4767, air1)        244.985949\n",
      "(7719, furnace1)    226.322152\n",
      "(1589, air1)        209.593473\n",
      "(5357, furnace1)    209.187298\n",
      "(7731, air1)        204.096856\n",
      "(2575, air1)        194.020868\n",
      "(2557, air1)        182.686876\n",
      "(2945, air1)        180.558537\n",
      "dtype: float64\n",
      "8 20 99 [(1463, 'air1'), (7016, 'furnace1'), (4767, 'air1'), (7719, 'furnace1'), (1589, 'air1')]\n",
      "21 2\n",
      "21 3\n",
      "21 4\n",
      "21 5\n",
      "21 6\n",
      "21 7\n",
      "(2945, air1)        170.054066\n",
      "(5357, furnace1)    159.213413\n",
      "(4220, air1)        155.380375\n",
      "(2129, air1)        154.864286\n",
      "(2094, air1)        154.791753\n",
      "(1403, air1)        150.882809\n",
      "(7560, air1)        149.852847\n",
      "(5026, air1)        149.689238\n",
      "(6139, air1)        146.107246\n",
      "(2018, furnace1)    145.152621\n",
      "dtype: float64\n",
      "9 21 104 [(2945, 'air1'), (5357, 'furnace1'), (4220, 'air1'), (2129, 'air1'), (2094, 'air1')]\n",
      "22 2\n",
      "22 3\n",
      "22 4\n",
      "22 5\n",
      "22 6\n",
      "22 7\n",
      "(5959, air1)    154.566892\n",
      "(7560, air1)    133.316677\n",
      "(1718, air1)    132.344576\n",
      "(5026, air1)    126.622109\n",
      "(6139, air1)    120.693283\n",
      "(8079, air1)    120.524655\n",
      "(7536, air1)    119.416965\n",
      "(4514, air1)    116.690266\n",
      "(4342, air1)    113.975174\n",
      "(2472, air1)    111.624708\n",
      "dtype: float64\n",
      "10 22 109 [(5959, 'air1'), (7560, 'air1'), (1718, 'air1'), (5026, 'air1'), (6139, 'air1')]\n",
      "23 2\n",
      "23 3\n",
      "23 4\n",
      "23 5\n",
      "23 6\n",
      "23 7\n",
      "(3039, furnace1)         132.970188\n",
      "(1700, furnace1)         123.406083\n",
      "(3044, furnace1)         121.798896\n",
      "(7719, refrigerator1)    113.264213\n",
      "(2378, air1)             106.768468\n",
      "(7719, drye1)            102.861921\n",
      "(2018, furnace1)         102.600771\n",
      "(8084, air1)             100.281190\n",
      "(6061, air1)              98.279877\n",
      "(7536, air1)              97.389352\n",
      "dtype: float64\n",
      "11 23 114 [(3039, 'furnace1'), (1700, 'furnace1'), (3044, 'furnace1'), (7719, 'refrigerator1'), (2378, 'air1')]\n"
     ]
    }
   ],
   "source": [
    "pool_use = np.empty((0, len(APPLIANCE_ORDER), 24))\n",
    "gt_df = {}\n",
    "pred_df_active = {}\n",
    "pool_remove_active = {}\n",
    "pool_set_active = {}\n",
    "all_seen = []\n",
    "\n",
    "for cur_iteration, month in enumerate(range(12, 24)):\n",
    "    \n",
    "    # Get all the homes from the currently available pool\n",
    "\n",
    "    pred_pool = {}\n",
    "    psc = pool_set.copy()\n",
    "    psc[:, 1:, :] = np.NaN\n",
    "    month_contri = (pd.DataFrame(train_set[:, :, month]).mean()/pd.DataFrame(train_set[:, :, month]).mean()[0]).drop(0).to_dict()\n",
    "    # Starting with current data and finding the variance amongst different #Latent factors\n",
    "    for r in range(2, 8):\n",
    "        print(month, r)\n",
    "        pool_train = np.concatenate([psc, train_set[:, :, :] ])\n",
    "        h, a, m =factorise(pool_train[:, :, :month], r)\n",
    "        pred_pool[r] = np.einsum('Hr, Ar, Tr ->HAT', h, a, m)[:len(pool_set)]\n",
    "        \n",
    "    # Finding the top-most `n` highly variance homes\n",
    "    # measure = std/contri\n",
    "    temp = []\n",
    "    for appliance_num, appliance in enumerate(APPLIANCE_ORDER[1:]):\n",
    "        y = pd.DataFrame({r:pd.Series(pred_pool[r][:, appliance_num+1, -1])for r in range(2, 8)}).std(axis=1)\n",
    "        y.index = [(x, appliance) for x in pool_homes]\n",
    "        #y = (y - y.min())/(y.max()-y.min())\n",
    "        temp.append(y)\n",
    "    \n",
    "    print(pd.concat(temp).sort_values(ascending=False).drop(all_seen).head(10))\n",
    "        \n",
    "    pool_remove_active[month] = pd.concat(temp).sort_values(ascending=False).drop(all_seen).head(5).index.tolist() \n",
    "    \n",
    "    all_seen.extend(pool_remove_active[month])\n",
    "    all_seen = list(set(all_seen))\n",
    "    \n",
    "    # Getting data from `t` to create the pool_use_set\n",
    "    pool_remove_homes_active = [x[0] for x in pool_remove_active[month]]\n",
    "    pool_remove_homes_active_ix = np.searchsorted(use_homes, pool_remove_homes_active)\n",
    "    \n",
    "    cur_pool = t[pool_remove_homes_active_ix, :, :].copy()\n",
    "    # All past data is unknown\n",
    "    cur_pool[:, 1:, :month] = np.NaN\n",
    "    \n",
    "    # All future data for all appliances except the chosen one is known\n",
    "    cur_pool[:, 1:, month:] = np.NaN\n",
    "    for q, h in enumerate(pool_remove_homes_active_ix):\n",
    "        appliance_num = APPLIANCE_ORDER.index(pool_remove_active[month][q][1])\n",
    "        cur_pool[q, appliance_num, month-1:] = t[h, appliance_num, month-1:]\n",
    "    \n",
    "    pool_use = np.concatenate([pool_use, cur_pool])\n",
    "    \n",
    "    pool_train_test = np.concatenate([pool_use, train_test_set[:, :, :] ])\n",
    "\n",
    "    h, a, m =factorise(pool_train_test[:, :, :month], 3)\n",
    "    print(cur_iteration, month, len(pool_train_test), pool_remove_active[month])\n",
    "    \n",
    "    pred = np.einsum('Hr, Ar, Tr ->HAT', h, a, m)\n",
    "    pred_df_active[month] = pred[len(train_set)+len(pool_use):,1:, month-1:month].reshape(-1, len(APPLIANCE_ORDER)-1)\n",
    "    gt_df[month] = t[170:][:, 1:, month-1:month].reshape(len(test_set), len(APPLIANCE_ORDER)-1)"
   ]
  },
  {
   "cell_type": "code",
   "execution_count": 25,
   "metadata": {},
   "outputs": [],
   "source": [
    "y = list(pool_remove_active.values())"
   ]
  },
  {
   "cell_type": "code",
   "execution_count": 26,
   "metadata": {},
   "outputs": [
    {
     "data": {
      "text/plain": [
       "[[(2365, 'air1'),\n",
       "  (3916, 'air1'),\n",
       "  (6691, 'air1'),\n",
       "  (4336, 'air1'),\n",
       "  (484, 'air1')],\n",
       " [(4154, 'air1'),\n",
       "  (1700, 'air1'),\n",
       "  (7951, 'air1'),\n",
       "  (3367, 'air1'),\n",
       "  (5357, 'air1')],\n",
       " [(3918, 'air1'),\n",
       "  (2018, 'air1'),\n",
       "  (7016, 'air1'),\n",
       "  (1790, 'air1'),\n",
       "  (1507, 'air1')],\n",
       " [(3039, 'air1'),\n",
       "  (7719, 'air1'),\n",
       "  (3044, 'air1'),\n",
       "  (4957, 'air1'),\n",
       "  (5809, 'air1')],\n",
       " [(5972, 'air1'),\n",
       "  (7793, 'air1'),\n",
       "  (7504, 'air1'),\n",
       "  (7641, 'air1'),\n",
       "  (2233, 'air1')],\n",
       " [(4375, 'air1'),\n",
       "  (1697, 'air1'),\n",
       "  (974, 'air1'),\n",
       "  (6498, 'air1'),\n",
       "  (6460, 'air1')],\n",
       " [(545, 'air1'),\n",
       "  (7901, 'air1'),\n",
       "  (6121, 'air1'),\n",
       "  (2787, 'air1'),\n",
       "  (744, 'air1')],\n",
       " [(4373, 'air1'),\n",
       "  (7627, 'air1'),\n",
       "  (6412, 'air1'),\n",
       "  (3849, 'air1'),\n",
       "  (4874, 'air1')],\n",
       " [(1463, 'air1'),\n",
       "  (7016, 'furnace1'),\n",
       "  (4767, 'air1'),\n",
       "  (7719, 'furnace1'),\n",
       "  (1589, 'air1')],\n",
       " [(2945, 'air1'),\n",
       "  (5357, 'furnace1'),\n",
       "  (4220, 'air1'),\n",
       "  (2129, 'air1'),\n",
       "  (2094, 'air1')],\n",
       " [(5959, 'air1'),\n",
       "  (7560, 'air1'),\n",
       "  (1718, 'air1'),\n",
       "  (5026, 'air1'),\n",
       "  (6139, 'air1')],\n",
       " [(3039, 'furnace1'),\n",
       "  (1700, 'furnace1'),\n",
       "  (3044, 'furnace1'),\n",
       "  (7719, 'refrigerator1'),\n",
       "  (2378, 'air1')]]"
      ]
     },
     "execution_count": 26,
     "metadata": {},
     "output_type": "execute_result"
    }
   ],
   "source": [
    "y"
   ]
  },
  {
   "cell_type": "code",
   "execution_count": 89,
   "metadata": {},
   "outputs": [],
   "source": [
    "r = {}\n",
    "for p in range(5, 65, 5):\n",
    "    r[p] = pd.Series([z[1] for x in y for z in x]).head(p).value_counts()"
   ]
  },
  {
   "cell_type": "code",
   "execution_count": 90,
   "metadata": {},
   "outputs": [
    {
     "data": {
      "image/png": "[encoded data removed]",
      "text/plain": [
       "<Figure size 432x288 with 1 Axes>"
      ]
     },
     "metadata": {},
     "output_type": "display_data"
    }
   ],
   "source": [
    "pd.DataFrame(r).T.fillna(0).plot(marker='o')\n",
    "plt.xlabel(\"#Queried instances\")\n",
    "plt.ylabel(\"Count\")\n",
    "plt.title(\"Active Learning - Unnormalised\")\n",
    "plt.savefig(\"active-un-normalised-instances.pdf\")\n",
    "plt.savefig(\"active-un-normalised-instances.png\")"
   ]
  },
  {
   "cell_type": "code",
   "execution_count": 29,
   "metadata": {},
   "outputs": [],
   "source": [
    "random_error = {}\n",
    "for seed in range(10):\n",
    "    random_error[seed] = {}\n",
    "    for month in range(13, 24):\n",
    "        random_error[seed][month] = (pd.DataFrame(pred_df_random[seed][month])-pd.DataFrame(gt_df[month])).abs().mean()\n",
    "active_error = {}\n",
    "for month in range(13, 24):\n",
    "    active_error[month] = (pd.DataFrame(pred_df_active[month])-pd.DataFrame(gt_df[month])).abs().mean()"
   ]
  },
  {
   "cell_type": "code",
   "execution_count": 30,
   "metadata": {},
   "outputs": [
    {
     "name": "stderr",
     "output_type": "stream",
     "text": [
      "/Users/nipun/anaconda3/lib/python3.6/site-packages/IPython/core/interactiveshell.py:2963: FutureWarning: \n",
      "Panel is deprecated and will be removed in a future version.\n",
      "The recommended way to represent these types of 3-dimensional data are with a MultiIndex on a DataFrame, via the Panel.to_frame() method\n",
      "Alternatively, you can use the xarray package http://xarray.pydata.org/en/stable/.\n",
      "Pandas provides a `.to_xarray()` method to help automate this conversion.\n",
      "\n",
      "  exec(code_obj, self.user_global_ns, self.user_ns)\n"
     ]
    }
   ],
   "source": [
    "p = pd.Panel(random_error)"
   ]
  },
  {
   "cell_type": "code",
   "execution_count": 31,
   "metadata": {},
   "outputs": [
    {
     "data": {
      "text/html": [
       "<div>\n",
       "<style scoped>\n",
       "    .dataframe tbody tr th:only-of-type {\n",
       "        vertical-align: middle;\n",
       "    }\n",
       "\n",
       "    .dataframe tbody tr th {\n",
       "        vertical-align: top;\n",
       "    }\n",
       "\n",
       "    .dataframe thead th {\n",
       "        text-align: right;\n",
       "    }\n",
       "</style>\n",
       "<table border=\"1\" class=\"dataframe\">\n",
       "  <thead>\n",
       "    <tr style=\"text-align: right;\">\n",
       "      <th></th>\n",
       "      <th>13</th>\n",
       "      <th>14</th>\n",
       "      <th>15</th>\n",
       "      <th>16</th>\n",
       "      <th>17</th>\n",
       "      <th>18</th>\n",
       "      <th>19</th>\n",
       "      <th>20</th>\n",
       "      <th>21</th>\n",
       "      <th>22</th>\n",
       "      <th>23</th>\n",
       "    </tr>\n",
       "  </thead>\n",
       "  <tbody>\n",
       "    <tr>\n",
       "      <th>0</th>\n",
       "      <td>183.670635</td>\n",
       "      <td>98.917040</td>\n",
       "      <td>103.599180</td>\n",
       "      <td>109.230793</td>\n",
       "      <td>146.510105</td>\n",
       "      <td>228.494647</td>\n",
       "      <td>225.766548</td>\n",
       "      <td>215.866525</td>\n",
       "      <td>204.571799</td>\n",
       "      <td>175.320505</td>\n",
       "      <td>114.839979</td>\n",
       "    </tr>\n",
       "    <tr>\n",
       "      <th>1</th>\n",
       "      <td>7.811057</td>\n",
       "      <td>5.804199</td>\n",
       "      <td>6.229651</td>\n",
       "      <td>5.912853</td>\n",
       "      <td>5.117927</td>\n",
       "      <td>6.551906</td>\n",
       "      <td>6.971654</td>\n",
       "      <td>6.893011</td>\n",
       "      <td>7.344239</td>\n",
       "      <td>5.734851</td>\n",
       "      <td>6.837176</td>\n",
       "    </tr>\n",
       "    <tr>\n",
       "      <th>2</th>\n",
       "      <td>32.335948</td>\n",
       "      <td>35.308175</td>\n",
       "      <td>37.387902</td>\n",
       "      <td>39.924423</td>\n",
       "      <td>41.995060</td>\n",
       "      <td>47.236499</td>\n",
       "      <td>43.280655</td>\n",
       "      <td>31.456751</td>\n",
       "      <td>36.459670</td>\n",
       "      <td>39.779493</td>\n",
       "      <td>41.975639</td>\n",
       "    </tr>\n",
       "    <tr>\n",
       "      <th>3</th>\n",
       "      <td>131.094942</td>\n",
       "      <td>70.892487</td>\n",
       "      <td>83.144628</td>\n",
       "      <td>100.953300</td>\n",
       "      <td>98.668901</td>\n",
       "      <td>118.452101</td>\n",
       "      <td>129.403281</td>\n",
       "      <td>118.537058</td>\n",
       "      <td>103.589088</td>\n",
       "      <td>77.435366</td>\n",
       "      <td>75.881807</td>\n",
       "    </tr>\n",
       "    <tr>\n",
       "      <th>4</th>\n",
       "      <td>9.470271</td>\n",
       "      <td>11.311344</td>\n",
       "      <td>10.210851</td>\n",
       "      <td>11.198376</td>\n",
       "      <td>11.902710</td>\n",
       "      <td>11.364654</td>\n",
       "      <td>10.242584</td>\n",
       "      <td>8.974480</td>\n",
       "      <td>9.286529</td>\n",
       "      <td>9.469338</td>\n",
       "      <td>8.304415</td>\n",
       "    </tr>\n",
       "    <tr>\n",
       "      <th>5</th>\n",
       "      <td>11.046384</td>\n",
       "      <td>7.479038</td>\n",
       "      <td>7.108722</td>\n",
       "      <td>8.756453</td>\n",
       "      <td>6.221555</td>\n",
       "      <td>7.527238</td>\n",
       "      <td>7.875165</td>\n",
       "      <td>7.506683</td>\n",
       "      <td>7.380629</td>\n",
       "      <td>6.623077</td>\n",
       "      <td>6.081979</td>\n",
       "    </tr>\n",
       "    <tr>\n",
       "      <th>6</th>\n",
       "      <td>40.732903</td>\n",
       "      <td>40.327411</td>\n",
       "      <td>43.883903</td>\n",
       "      <td>42.364569</td>\n",
       "      <td>44.693420</td>\n",
       "      <td>48.045763</td>\n",
       "      <td>48.454866</td>\n",
       "      <td>43.227951</td>\n",
       "      <td>45.043545</td>\n",
       "      <td>41.361355</td>\n",
       "      <td>38.472116</td>\n",
       "    </tr>\n",
       "  </tbody>\n",
       "</table>\n",
       "</div>"
      ],
      "text/plain": [
       "           13         14          15          16          17          18  \\\n",
       "0  183.670635  98.917040  103.599180  109.230793  146.510105  228.494647   \n",
       "1    7.811057   5.804199    6.229651    5.912853    5.117927    6.551906   \n",
       "2   32.335948  35.308175   37.387902   39.924423   41.995060   47.236499   \n",
       "3  131.094942  70.892487   83.144628  100.953300   98.668901  118.452101   \n",
       "4    9.470271  11.311344   10.210851   11.198376   11.902710   11.364654   \n",
       "5   11.046384   7.479038    7.108722    8.756453    6.221555    7.527238   \n",
       "6   40.732903  40.327411   43.883903   42.364569   44.693420   48.045763   \n",
       "\n",
       "           19          20          21          22          23  \n",
       "0  225.766548  215.866525  204.571799  175.320505  114.839979  \n",
       "1    6.971654    6.893011    7.344239    5.734851    6.837176  \n",
       "2   43.280655   31.456751   36.459670   39.779493   41.975639  \n",
       "3  129.403281  118.537058  103.589088   77.435366   75.881807  \n",
       "4   10.242584    8.974480    9.286529    9.469338    8.304415  \n",
       "5    7.875165    7.506683    7.380629    6.623077    6.081979  \n",
       "6   48.454866   43.227951   45.043545   41.361355   38.472116  "
      ]
     },
     "execution_count": 31,
     "metadata": {},
     "output_type": "execute_result"
    }
   ],
   "source": [
    "p.mean(axis=0)"
   ]
  },
  {
   "cell_type": "code",
   "execution_count": 32,
   "metadata": {},
   "outputs": [
    {
     "data": {
      "text/html": [
       "<div>\n",
       "<style scoped>\n",
       "    .dataframe tbody tr th:only-of-type {\n",
       "        vertical-align: middle;\n",
       "    }\n",
       "\n",
       "    .dataframe tbody tr th {\n",
       "        vertical-align: top;\n",
       "    }\n",
       "\n",
       "    .dataframe thead th {\n",
       "        text-align: right;\n",
       "    }\n",
       "</style>\n",
       "<table border=\"1\" class=\"dataframe\">\n",
       "  <thead>\n",
       "    <tr style=\"text-align: right;\">\n",
       "      <th></th>\n",
       "      <th>13</th>\n",
       "      <th>14</th>\n",
       "      <th>15</th>\n",
       "      <th>16</th>\n",
       "      <th>17</th>\n",
       "      <th>18</th>\n",
       "      <th>19</th>\n",
       "      <th>20</th>\n",
       "      <th>21</th>\n",
       "      <th>22</th>\n",
       "      <th>23</th>\n",
       "    </tr>\n",
       "  </thead>\n",
       "  <tbody>\n",
       "    <tr>\n",
       "      <th>0</th>\n",
       "      <td>152.258418</td>\n",
       "      <td>76.224302</td>\n",
       "      <td>85.655452</td>\n",
       "      <td>101.769665</td>\n",
       "      <td>134.245330</td>\n",
       "      <td>274.142928</td>\n",
       "      <td>407.013512</td>\n",
       "      <td>378.049641</td>\n",
       "      <td>252.025111</td>\n",
       "      <td>93.126653</td>\n",
       "      <td>64.700532</td>\n",
       "    </tr>\n",
       "    <tr>\n",
       "      <th>1</th>\n",
       "      <td>6.080619</td>\n",
       "      <td>5.611081</td>\n",
       "      <td>6.413966</td>\n",
       "      <td>7.096044</td>\n",
       "      <td>5.567138</td>\n",
       "      <td>7.277045</td>\n",
       "      <td>9.561843</td>\n",
       "      <td>6.704303</td>\n",
       "      <td>6.568486</td>\n",
       "      <td>5.478696</td>\n",
       "      <td>6.703824</td>\n",
       "    </tr>\n",
       "    <tr>\n",
       "      <th>2</th>\n",
       "      <td>33.036321</td>\n",
       "      <td>41.365646</td>\n",
       "      <td>38.297595</td>\n",
       "      <td>35.201759</td>\n",
       "      <td>45.548907</td>\n",
       "      <td>52.107485</td>\n",
       "      <td>80.267836</td>\n",
       "      <td>33.433942</td>\n",
       "      <td>32.240552</td>\n",
       "      <td>42.085818</td>\n",
       "      <td>38.398600</td>\n",
       "    </tr>\n",
       "    <tr>\n",
       "      <th>3</th>\n",
       "      <td>129.188098</td>\n",
       "      <td>78.547688</td>\n",
       "      <td>90.456214</td>\n",
       "      <td>89.632751</td>\n",
       "      <td>99.372287</td>\n",
       "      <td>122.440204</td>\n",
       "      <td>152.790654</td>\n",
       "      <td>130.318364</td>\n",
       "      <td>115.620044</td>\n",
       "      <td>91.159202</td>\n",
       "      <td>75.648467</td>\n",
       "    </tr>\n",
       "    <tr>\n",
       "      <th>4</th>\n",
       "      <td>9.537927</td>\n",
       "      <td>11.494335</td>\n",
       "      <td>10.291448</td>\n",
       "      <td>10.771157</td>\n",
       "      <td>11.957500</td>\n",
       "      <td>11.787887</td>\n",
       "      <td>10.531045</td>\n",
       "      <td>9.164114</td>\n",
       "      <td>8.879074</td>\n",
       "      <td>8.484131</td>\n",
       "      <td>7.868910</td>\n",
       "    </tr>\n",
       "    <tr>\n",
       "      <th>5</th>\n",
       "      <td>9.871522</td>\n",
       "      <td>7.357884</td>\n",
       "      <td>7.031624</td>\n",
       "      <td>8.887989</td>\n",
       "      <td>6.002609</td>\n",
       "      <td>6.902167</td>\n",
       "      <td>7.488051</td>\n",
       "      <td>7.280617</td>\n",
       "      <td>6.898715</td>\n",
       "      <td>6.348403</td>\n",
       "      <td>5.756865</td>\n",
       "    </tr>\n",
       "    <tr>\n",
       "      <th>6</th>\n",
       "      <td>40.826921</td>\n",
       "      <td>42.099976</td>\n",
       "      <td>46.932691</td>\n",
       "      <td>38.942373</td>\n",
       "      <td>45.004280</td>\n",
       "      <td>48.713153</td>\n",
       "      <td>38.722135</td>\n",
       "      <td>43.727498</td>\n",
       "      <td>39.930769</td>\n",
       "      <td>39.650026</td>\n",
       "      <td>34.530877</td>\n",
       "    </tr>\n",
       "  </tbody>\n",
       "</table>\n",
       "</div>"
      ],
      "text/plain": [
       "           13         14         15          16          17          18  \\\n",
       "0  152.258418  76.224302  85.655452  101.769665  134.245330  274.142928   \n",
       "1    6.080619   5.611081   6.413966    7.096044    5.567138    7.277045   \n",
       "2   33.036321  41.365646  38.297595   35.201759   45.548907   52.107485   \n",
       "3  129.188098  78.547688  90.456214   89.632751   99.372287  122.440204   \n",
       "4    9.537927  11.494335  10.291448   10.771157   11.957500   11.787887   \n",
       "5    9.871522   7.357884   7.031624    8.887989    6.002609    6.902167   \n",
       "6   40.826921  42.099976  46.932691   38.942373   45.004280   48.713153   \n",
       "\n",
       "           19          20          21         22         23  \n",
       "0  407.013512  378.049641  252.025111  93.126653  64.700532  \n",
       "1    9.561843    6.704303    6.568486   5.478696   6.703824  \n",
       "2   80.267836   33.433942   32.240552  42.085818  38.398600  \n",
       "3  152.790654  130.318364  115.620044  91.159202  75.648467  \n",
       "4   10.531045    9.164114    8.879074   8.484131   7.868910  \n",
       "5    7.488051    7.280617    6.898715   6.348403   5.756865  \n",
       "6   38.722135   43.727498   39.930769  39.650026  34.530877  "
      ]
     },
     "execution_count": 32,
     "metadata": {},
     "output_type": "execute_result"
    }
   ],
   "source": [
    "pd.DataFrame(active_error)"
   ]
  },
  {
   "cell_type": "code",
   "execution_count": null,
   "metadata": {},
   "outputs": [],
   "source": [
    "pd.DataFrame(active_error)"
   ]
  },
  {
   "cell_type": "code",
   "execution_count": 33,
   "metadata": {},
   "outputs": [],
   "source": [
    "pd.DataFrame(active_error).to_csv(\"active-unnormalised.csv\")"
   ]
  },
  {
   "cell_type": "code",
   "execution_count": null,
   "metadata": {},
   "outputs": [],
   "source": [
    "fig, ax = plt.subplots(ncols=6, figsize=(30, 3))\n",
    "for u, appliance in enumerate(APPLIANCE_ORDER[1:]):\n",
    "    appliance_num = APPLIANCE_ORDER.index(appliance)-1\n",
    "    re = p.mean(axis=0).iloc[appliance_num]\n",
    "    ac = pd.DataFrame(active_error).iloc[appliance_num]\n",
    "    pd.DataFrame({\"Random\":re, \"Active\":ac}).plot(kind='bar',ax=ax[u], title=appliance,\n",
    "                                                  yerr =[p.std(axis=0).iloc[appliance_num], np.zeros_like(ac) ], rot=0)\n",
    "fig.text(0.5, 0, \"Month\")\n",
    "ax[0].set_ylabel(\"MAE \\nLower is better\")\n",
    "plt.savefig(\"comparison-active.pdf\")\n",
    "plt.savefig(\"comparison-active.png\")"
   ]
  },
  {
   "cell_type": "code",
   "execution_count": null,
   "metadata": {},
   "outputs": [],
   "source": [
    "from IPython.display import Image\n",
    "Image('comparison-active.png')"
   ]
  },
  {
   "cell_type": "code",
   "execution_count": null,
   "metadata": {},
   "outputs": [],
   "source": [
    "chosen_homes = {12:[(5357, 'refrigerator1'), (5357, 'dishwasher1'), (4336, 'kitchenapp1'), (4336, 'air1'), (5357, 'microwave1')],\n",
    "               13:[(3916, 'air1'), (7016, 'furnace1'), (5357, 'kitchenapp1'), (7719, 'refrigerator1'), (4154, 'air1')],\n",
    "               14:[(2365, 'refrigerator1'), (4375, 'microwave1'), (2365, 'furnace1'), (7719, 'air1'), (4375, 'kitchenapp1')],\n",
    "               15:[(1700, 'dishwasher1'), (7719, 'furnace1'), (1700, 'microwave1'), (3918, 'furnace1'), (3918, 'kitchenapp1')],\n",
    "               16: [(1700, 'kitchenapp1'), (5357, 'air1'), (7719, 'dishwasher1'), (2018, 'air1'), (5357, 'furnace1')],\n",
    "               17: [(7719, 'microwave1'), (2365, 'air1'), (484, 'dishwasher1'), (3044, 'kitchenapp1'), (1790, 'kitchenapp1')],\n",
    "               18:[(2018, 'dishwasher1'), (7016, 'refrigerator1'), (4957, 'refrigerator1'), (4375, 'refrigerator1'), (3039, 'dishwasher1')],\n",
    "               19:[(5972, 'refrigerator1'), (5972, 'air1'), (484, 'refrigerator1'), (6691, 'microwave1'), (484, 'air1')],\n",
    "               20:[(3039, 'furnace1'), (1507, 'kitchenapp1'), (7719, 'kitchenapp1'), (7793, 'furnace1'), (6691, 'kitchenapp1')],\n",
    "               21:[(4154, 'kitchenapp1'), (3916, 'kitchenapp1'), (3918, 'air1'), (3039, 'kitchenapp1'), (1790, 'air1')],\n",
    "               22:[(7016, 'air1'), (1507, 'air1'), (3039, 'refrigerator1'), (4767, 'air1'), (1700, 'furnace1')],\n",
    "               23:[(2018, 'refrigerator1'), (7793, 'refrigerator1'), (5972, 'furnace1'), (3044, 'refrigerator1'), (3039, 'air1')]}"
   ]
  },
  {
   "cell_type": "code",
   "execution_count": null,
   "metadata": {},
   "outputs": [],
   "source": [
    "homes = chosen_homes[x]["
   ]
  },
  {
   "cell_type": "code",
   "execution_count": null,
   "metadata": {},
   "outputs": [],
   "source": [
    "pd.Series([x[0] for x in chosen_homes[12]]).value_counts()"
   ]
  },
  {
   "cell_type": "code",
   "execution_count": null,
   "metadata": {},
   "outputs": [],
   "source": [
    "all_homes = np.array([[x[0] for x in chosen_homes[m]] for m in range(13, 24)]).flatten()"
   ]
  },
  {
   "cell_type": "code",
   "execution_count": null,
   "metadata": {},
   "outputs": [],
   "source": [
    "pd.Series(all_homes).value_counts().plot(kind='bar')"
   ]
  },
  {
   "cell_type": "code",
   "execution_count": null,
   "metadata": {},
   "outputs": [],
   "source": [
    "np.searchsorted(use_homes, 7719)"
   ]
  },
  {
   "cell_type": "code",
   "execution_count": null,
   "metadata": {},
   "outputs": [],
   "source": [
    "pd.DataFrame(t[152, :, :]).iloc[2].plot()"
   ]
  },
  {
   "cell_type": "code",
   "execution_count": null,
   "metadata": {},
   "outputs": [],
   "source": [
    "p_m_h[13]"
   ]
  },
  {
   "cell_type": "code",
   "execution_count": null,
   "metadata": {},
   "outputs": [],
   "source": [
    "{x:len(p_m_h[x]) for x in p_m_h.keys()}\n"
   ]
  },
  {
   "cell_type": "code",
   "execution_count": null,
   "metadata": {},
   "outputs": [],
   "source": [
    "np.isfinite(t[:, 2:, -1].flatten()).sum()"
   ]
  },
  {
   "cell_type": "code",
   "execution_count": null,
   "metadata": {},
   "outputs": [],
   "source": [
    "p_m_h = {}\n",
    "for month in range(23, 24):\n",
    "    p_m_h[month] = []\n",
    "    for home in pool_homes:\n",
    "        print(home)\n",
    "        for i, appliance in enumerate(APPLIANCE_ORDER[1:]):\n",
    "            pool_home_index  = np.searchsorted(use_homes, home)\n",
    "            if np.isfinite(t[pool_home_index, i+1, month]):\n",
    "                p_m_h[month].append((home, appliance))"
   ]
  },
  {
   "cell_type": "code",
   "execution_count": null,
   "metadata": {},
   "outputs": [],
   "source": [
    "len(pool_homes)"
   ]
  },
  {
   "cell_type": "code",
   "execution_count": null,
   "metadata": {},
   "outputs": [],
   "source": [
    "pool_home_index"
   ]
  },
  {
   "cell_type": "code",
   "execution_count": null,
   "metadata": {},
   "outputs": [],
   "source": [
    "np.searchsorted(use_homes, 8084)"
   ]
  },
  {
   "cell_type": "code",
   "execution_count": null,
   "metadata": {},
   "outputs": [],
   "source": [
    "np.isfinite(t[pool_home_index, i+1, month])"
   ]
  },
  {
   "cell_type": "code",
   "execution_count": null,
   "metadata": {},
   "outputs": [],
   "source": [
    "t[169, 1].shape"
   ]
  },
  {
   "cell_type": "code",
   "execution_count": null,
   "metadata": {},
   "outputs": [],
   "source": [
    "np.isfinite(t[169].flatten()).sum()"
   ]
  },
  {
   "cell_type": "code",
   "execution_count": null,
   "metadata": {},
   "outputs": [],
   "source": [
    "p_m_h"
   ]
  },
  {
   "cell_type": "code",
   "execution_count": 38,
   "metadata": {},
   "outputs": [
    {
     "data": {
      "text/plain": [
       "0    156.592713\n",
       "1     10.070874\n",
       "2     87.925745\n",
       "3     94.152644\n",
       "4     11.543699\n",
       "5     22.071007\n",
       "6     62.236536\n",
       "dtype: float64"
      ]
     },
     "execution_count": 38,
     "metadata": {},
     "output_type": "execute_result"
    }
   ],
   "source": [
    "pd.DataFrame(pred_df_active[12]).mean()"
   ]
  },
  {
   "cell_type": "code",
   "execution_count": 43,
   "metadata": {},
   "outputs": [
    {
     "data": {
      "text/plain": [
       "0     37.301474\n",
       "1      8.060328\n",
       "2     64.479683\n",
       "3    132.628646\n",
       "4     15.752831\n",
       "5     10.173254\n",
       "6     70.073991\n",
       "dtype: float64"
      ]
     },
     "execution_count": 43,
     "metadata": {},
     "output_type": "execute_result"
    }
   ],
   "source": [
    "pd.DataFrame(gt_df[12]).mean()"
   ]
  },
  {
   "cell_type": "code",
   "execution_count": 87,
   "metadata": {},
   "outputs": [
    {
     "name": "stdout",
     "output_type": "stream",
     "text": [
      "air1 13 48.58249783562496 178.6686782058828\n",
      "clotheswasher1 13 9.608862833543258 7.820350044602082\n",
      "drye1 13 69.78013777732849 75.2647921104297\n",
      "furnace1 13 177.67831329677415 91.5357952556608\n",
      "kitchenapp1 13 14.564191335288342 11.779924733867226\n",
      "microwave1 13 11.733154101805253 23.36606495065769\n",
      "refrigerator1 13 71.74463111287656 39.814467988435254\n",
      "air1 14 70.21329798448654 106.11559930892928\n",
      "clotheswasher1 14 8.503025683489712 6.2772240018507945\n",
      "drye1 14 71.25271752476692 88.34319056874551\n",
      "furnace1 14 104.0522971590576 117.59001154020525\n",
      "kitchenapp1 14 14.314557125791907 6.972923196824538\n",
      "microwave1 14 11.53787426515059 9.92463953777502\n",
      "refrigerator1 14 74.72334515674609 63.36294767101081\n",
      "air1 15 127.62590723741671 140.7468935422133\n",
      "clotheswasher1 15 8.388936590064656 6.711492302250985\n",
      "drye1 15 75.86542469263077 78.2255646909935\n",
      "furnace1 15 91.74045358403869 121.7940396391551\n",
      "kitchenapp1 15 12.583809259696864 7.639016563740452\n",
      "microwave1 15 10.743097977204757 10.14655017656169\n",
      "refrigerator1 15 77.88403957584848 68.26480090812828\n",
      "air1 16 201.20097415200595 195.98045978531798\n",
      "clotheswasher1 16 7.859758744637172 8.353795111205264\n",
      "drye1 16 75.63113969564438 74.14218239148508\n",
      "furnace1 16 96.4412067734326 121.02058460029342\n",
      "kitchenapp1 16 13.98250954992631 7.542184534374814\n",
      "microwave1 16 12.382687151432037 6.921748592409824\n",
      "refrigerator1 16 78.05118401034882 88.08272847046233\n",
      "air1 17 331.40406825624666 334.4652136839423\n",
      "clotheswasher1 17 6.800458160313693 7.2899045314575375\n",
      "drye1 17 44.833258628845215 83.31251589058449\n",
      "furnace1 17 116.61877533534299 150.06133991589806\n",
      "kitchenapp1 17 14.595846007810906 8.010225949979134\n",
      "microwave1 17 9.451085437427867 10.379829498364156\n",
      "refrigerator1 17 85.57958438453109 72.47902251092768\n",
      "air1 18 730.0003514783136 718.4851553010633\n",
      "clotheswasher1 18 6.335612264546481 7.690318000248794\n",
      "drye1 18 40.62612689915113 84.61821062491921\n",
      "furnace1 18 177.22665754187366 209.4337925688982\n",
      "kitchenapp1 18 11.111856386531144 8.920016184519467\n",
      "microwave1 18 7.5550631501457906 11.530000299796857\n",
      "refrigerator1 18 85.97234088662339 77.83755225362533\n",
      "air1 19 1045.7365428003773 784.739795743392\n",
      "clotheswasher1 19 8.414801142432474 12.130893165726679\n",
      "drye1 19 39.175371408462524 111.58905769580184\n",
      "furnace1 19 224.6578686076986 290.0693270873835\n",
      "kitchenapp1 19 11.527637876803055 9.002766949396188\n",
      "microwave1 19 9.34719985181635 9.922718849883017\n",
      "refrigerator1 19 89.82545033055875 111.11857594353044\n",
      "air1 20 863.2045488028691 1009.1525322322909\n",
      "clotheswasher1 20 8.188850446180863 4.755326489972648\n",
      "drye1 20 41.91842406988144 69.2550323395334\n",
      "furnace1 20 206.15759040998375 250.12739221136897\n",
      "kitchenapp1 20 10.816197682055645 5.691670000226337\n",
      "microwave1 20 10.196737451986833 4.88351184604896\n",
      "refrigerator1 20 86.46278629933174 73.66409048607481\n",
      "air1 21 554.0455577455718 640.7474172061574\n",
      "clotheswasher1 21 7.9641478061676025 4.812665195370061\n",
      "drye1 21 41.60250766389072 57.304946539982915\n",
      "furnace1 21 157.48602473217508 191.76913695973872\n",
      "kitchenapp1 21 8.648713765549473 4.567385850568195\n",
      "microwave1 21 9.87317541512576 5.062810509264191\n",
      "refrigerator1 21 85.05918861044726 69.60544617672139\n",
      "air1 22 259.7332537420865 329.11502618873806\n",
      "clotheswasher1 22 6.700088739395142 6.889269464245964\n",
      "drye1 22 44.80431827297434 55.16392072707709\n",
      "furnace1 22 117.54244311650594 149.42329370828648\n",
      "kitchenapp1 22 10.000371113145615 3.2406008185378825\n",
      "microwave1 22 9.19199733932813 7.523060956960695\n",
      "refrigerator1 22 77.09082499635406 43.54775342794973\n",
      "air1 23 94.03366381573844 115.4273900794858\n",
      "clotheswasher1 23 7.394452503571908 5.9598394059677045\n",
      "drye1 23 48.17263215780258 62.07982404060849\n",
      "furnace1 23 96.23285226027171 100.32551721244512\n",
      "kitchenapp1 23 8.459228620023865 5.835104828385351\n",
      "microwave1 23 9.744730373223623 8.216079746721517\n",
      "refrigerator1 23 76.3334174277751 61.95139312093456\n"
     ]
    },
    {
     "data": {
      "text/plain": [
       "Text(0.5,1,'Active-UnNormalised-vs-GT')"
      ]
     },
     "execution_count": 87,
     "metadata": {},
     "output_type": "execute_result"
    },
    {
     "data": {
      "image/png": "[encoded data removed]",
      "text/plain": [
       "<Figure size 1440x1440 with 77 Axes>"
      ]
     },
     "metadata": {},
     "output_type": "display_data"
    }
   ],
   "source": [
    "fig, ax = plt.subplots(ncols=len(APPLIANCE_ORDER)-1, figsize=(20, 20), nrows=11)\n",
    "for m, month in enumerate(range(13, 24)):\n",
    "    for appliance_num, appliance in enumerate(APPLIANCE_ORDER[1:]):\n",
    "        ax[m][appliance_num].scatter(pd.DataFrame(gt_df[month])[appliance_num], pd.DataFrame(pred_df_active[month])[appliance_num])\n",
    "        ax[0][appliance_num].set_title(appliance)\n",
    "        \n",
    "        e = pd.DataFrame({\"gt\":pd.DataFrame(gt_df[month])[appliance_num], \"pred\":pd.DataFrame(pred_df_active[month])[appliance_num]})\n",
    "        ax[m][appliance_num].set_title(\"Correlation: {:0.2f} \\n Mean (GT-Pred): {:0.1f}\".format(e.corr().values[0, 1], \n",
    "                                                                                               (e['gt']-e['pred']).mean()))\n",
    "        print(appliance, month, e['gt'].mean(), e['pred'].mean())\n",
    "fig.text(0.5, 0, \"Ground Truth\")\n",
    "fig.text(0.1, 0.5, \"Predicted\", rotation=90)\n",
    "plt.tight_layout()\n",
    "plt.title(\"Active-UnNormalised-vs-GT\")"
   ]
  },
  {
   "cell_type": "code",
   "execution_count": 82,
   "metadata": {},
   "outputs": [
    {
     "data": {
      "text/plain": [
       "0.14500540966852235"
      ]
     },
     "execution_count": 82,
     "metadata": {},
     "output_type": "execute_result"
    }
   ],
   "source": [
    "e.corr().values[0, 1]"
   ]
  },
  {
   "cell_type": "code",
   "execution_count": 88,
   "metadata": {},
   "outputs": [
    {
     "data": {
      "text/plain": [
       "0    392.519740\n",
       "1      7.396829\n",
       "2     77.268749\n",
       "3    157.275240\n",
       "4      7.562127\n",
       "5     10.829002\n",
       "6     69.330443\n",
       "dtype: float64"
      ]
     },
     "execution_count": 88,
     "metadata": {},
     "output_type": "execute_result"
    }
   ],
   "source": [
    "pd.concat([pd.DataFrame(pred_df_active[x]).mean() for x in range(12, 24)], axis=1).mean(axis=1)"
   ]
  },
  {
   "cell_type": "code",
   "execution_count": 95,
   "metadata": {},
   "outputs": [
    {
     "data": {
      "text/plain": [
       "0    77.757672\n",
       "1     6.266622\n",
       "2    53.314207\n",
       "3    55.369576\n",
       "4     6.961241\n",
       "5    12.044290\n",
       "6    37.519649\n",
       "dtype: float64"
      ]
     },
     "execution_count": 95,
     "metadata": {},
     "output_type": "execute_result"
    }
   ],
   "source": [
    "pd.DataFrame(pred_df_active[12]).median()"
   ]
  },
  {
   "cell_type": "code",
   "execution_count": null,
   "metadata": {},
   "outputs": [],
   "source": []
  }
 ],
 "metadata": {
  "kernelspec": {
   "display_name": "Python 3",
   "language": "python",
   "name": "python3"
  },
  "language_info": {
   "codemirror_mode": {
    "name": "ipython",
    "version": 3
   },
   "file_extension": ".py",
   "mimetype": "text/x-python",
   "name": "python",
   "nbconvert_exporter": "python",
   "pygments_lexer": "ipython3",
   "version": "3.6.5"
  }
 },
 "nbformat": 4,
 "nbformat_minor": 2
}
