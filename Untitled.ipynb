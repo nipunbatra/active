{
 "cells": [
  {
   "cell_type": "code",
   "execution_count": 155,
   "metadata": {},
   "outputs": [
    {
     "data": {
      "text/html": [
       "<video width=\"288\" height=\"216\" controls autoplay loop>\n",
       "  <source type=\"video/mp4\" src=\"data:video/mp4;base64,AAAAHGZ0eXBNNFYgAAACAGlzb21pc28yYXZjMQAAAAhmcmVlAAAdB21kYXQAAAKgBgX//5zcRem9\n",
       "5tlIt5Ys2CDZI+7veDI2NCAtIGNvcmUgMTUyIC0gSC4yNjQvTVBFRy00IEFWQyBjb2RlYyAtIENv\n",
       "cHlsZWZ0IDIwMDMtMjAxNyAtIGh0dHA6Ly93d3cudmlkZW9sYW4ub3JnL3gyNjQuaHRtbCAtIG9w\n",
       "dGlvbnM6IGNhYmFjPTEgcmVmPTMgZGVibG9jaz0xOjA6MCBhbmFseXNlPTB4MzoweDExMyBtZT1o\n",
       "ZXggc3VibWU9NyBwc3k9MSBwc3lfcmQ9MS4wMDowLjAwIG1peGVkX3JlZj0xIG1lX3JhbmdlPTE2\n",
       "IGNocm9tYV9tZT0xIHRyZWxsaXM9MSA4eDhkY3Q9MSBjcW09MCBkZWFkem9uZT0yMSwxMSBmYXN0\n",
       "X3Bza2lwPTEgY2hyb21hX3FwX29mZnNldD0tMiB0aHJlYWRzPTYgbG9va2FoZWFkX3RocmVhZHM9\n",
       "MSBzbGljZWRfdGhyZWFkcz0wIG5yPTAgZGVjaW1hdGU9MSBpbnRlcmxhY2VkPTAgYmx1cmF5X2Nv\n",
       "bXBhdD0wIGNvbnN0cmFpbmVkX2ludHJhPTAgYmZyYW1lcz0zIGJfcHlyYW1pZD0yIGJfYWRhcHQ9\n",
       "MSBiX2JpYXM9MCBkaXJlY3Q9MSB3ZWlnaHRiPTEgb3Blbl9nb3A9MCB3ZWlnaHRwPTIga2V5aW50\n",
       "PTI1MCBrZXlpbnRfbWluPTI1IHNjZW5lY3V0PTQwIGludHJhX3JlZnJlc2g9MCByY19sb29rYWhl\n",
       "YWQ9NDAgcmM9Y3JmIG1idHJlZT0xIGNyZj0yMy4wIHFjb21wPTAuNjAgcXBtaW49MCBxcG1heD02\n",
       "OSBxcHN0ZXA9NCBpcF9yYXRpbz0xLjQwIGFxPTE6MS4wMACAAAAZFGWIhAAn//71sXwKasnzigzo\n",
       "Mgc8CmsIgCtPuPJM5HotbFlNdGf5rJbFrTs54F2kBjEcgTwwzQDhGLN/c+/K2vvLlY7DXNQ1ZL6y\n",
       "FlAiM6Bs7e4TQKu6EfrJD4vKf3zFmfRnqD8XuaQ1lQnrM3KRIeT0iB9b8n3vaEPdpoWM7msTpsmE\n",
       "fmPwTIIta7Egy1lEIp75h5n74r5ISRt/TrkAs8I6d0CD9gmeSfxzN+g4B6OcRNBUIQGF1ocbD6Ai\n",
       "p2a1pCD0KrjzWn3mxyC8wX5SPKX/A8/j78dYrSU0KKkh2n6ZOyJjBrXl2o4RV+qQ9hTosnCXSCQk\n",
       "UM/BXeJ6RWsNZyAqOogI6T1CPKn7tVLEP/jB0+Zs4nxQgCWF80fjEevK1zp+A8kS4g00T5Kj8EMx\n",
       "J3/VXe4ad2WtVYPzTaW8lanNiR3g0BDsRnBCxiAVDhe+LGHHjO0KR80BFJwqW/kmp8qnOTKJGs/R\n",
       "cm1M801GV0A7MDOZCFDOQa7lUgbkeyyrxDK+adfUAz5ayuzju25t5XcB0tB046Muq1oBuUt8f598\n",
       "/tNl9miNr7i+gbU/MGbi40BKpvv8Lb+8BrvAuOqF+EGw57tHwTPkYGnBnpGpVnKK4amFTmqr0qgt\n",
       "GmYUbRw2oTALlzwqC6ZWCHZMxOFNB0RNlHH79Fh+IynAy324neYvyYbFGKMMsgw7l/InpMBS4MnB\n",
       "gBo5QEDLGylyU8kWuaSz3z0tNm11LBbqO7n8DIUOZ2FbdqYlts778CE80SPS5UPOljtxH2PhzxG7\n",
       "+NbZGURvhdli1uSYdt7g8bMKYQ7ggPNmWyDf5Ylk+sRt68Rk6qdsB3dMxJX8Wt1mToORYtgVFj+z\n",
       "CtDfPn06iQgCN0pEtfGlUA4QD9qovfjiwtGYAJyqtY3+7bzWdMaJxd2sTY18Ow9pmsN+wfJ/h339\n",
       "fNZtnYSUCdDqcY2m6rGkPEmZ5MZhATT44CE9KtShO3pDMkApWFboUu/X8Rl0NdsjJsyR02Tys+kQ\n",
       "WVi/L/SFdpnBn4J/dSUbAMt+dSM61nTVm5juM0knsJmSw1w5trO9Ip+ymDlhlHc36K3lf1OLdYeB\n",
       "N3ISx7T68LKwMBVrlVmp1T0nY27L4yknz1Z0z8dzOLW7ps32dfVsDcJForuNZxfc6CaNnaCERh51\n",
       "E2DT96iY53hi+Zf95WwwVZRE+s+LeFj8xn0CqqFGc4JwSxAniPpUfTGCU27+bpAzHkooMOZaSgra\n",
       "gsGfoW+gk9VzDH5+OmFsCC+xXg/RDpRmq7F3KcI9tyVfMivegijO22jCSkfKK1ilWwt86IxprH/x\n",
       "/8f18hdk0LOXQtWjpr2AzLB6C9CJhFExHbGM2HcaE9v2NyVsIoTi9KGMEODrj9BUIMswELPfGvYO\n",
       "zfZpW09+PTRXA3FX3d1O98x4cE5s4ANxAZUxGxUq723PSLbUNEu7IRwpIAfFwJsHUHObsxpFilWu\n",
       "i9erULDBj0ujuN1nj7UWnK4NyHWRQtPY8IcJPFHXj6R7HNjphT9MHoShgPk9/vS0Skdlu13Rukt3\n",
       "TQLUe29ResY/vVrpebaM/6XEEzZJYZ0oIwb70TJOiHhkkFRyKP9DWVaEY63rVvHinLbf9v8Y3xsu\n",
       "VvCOkSwFC4HtxxBuXjfhmBct0ETo0yXjOvGtXqzXkGdo66rauLTCBgzkj7aYUhNe3eSk4tgbkA33\n",
       "83uUcAuPAAMC2K0Ej/6nNUeOMb6IG8eIpPoG4cqMkpkmQYv2iEwBZJITV5DMvyy9kxkrjbHBm8qY\n",
       "GEZ0XaM7P6hmkdsHqmYz5zTruSvF9//2VAOi8tih4E7/BuVci92v6vzmvj9KYpUaC2i+mpGBLM5t\n",
       "40OgDp2mAtCg7BkXJveeRR3+lxqtayaoGQacNAhAGa86hFFzBsGKnD1Be/PHpTQJTvYm2g/rD600\n",
       "G2bt/xKQdk0EvVzZVAHj9zRohoeIsqCUkSdCT8bjVQtPzqQqaHRcjclx85q56ck0gEM13uRh5dG+\n",
       "h+jN9jY3mb6L0wFouQDASts/fnwzr6FC8jac3FLmVQ94QmCeN/XP3MZ6zqll4FJPdX4Ea0WUC4Jk\n",
       "ATWtHjEn7bL/nRVWqATdc7bMhUlmU12iKJpjAxL2VqMTqEffd/MwQyrsVzXJFZCm3ig9QyXYugwh\n",
       "/gJKQ5XnWaeJ7gv/ME0bs8tZ7Wm9vnBMVY3HKyJze6SlIfvYXENMtOVQ3XlDmb8tbN81ieYvXZwD\n",
       "2ydsDG2UUhwgyru8hYhFI23Q1BrHdVeGiyF7HPBa16oBO8/IhBHcSeZLOLHq9tj85h/IE2EciU2u\n",
       "tRQQKMyLrJ4lHC3J94N3GBiIt58gAcOR3DHsOkKakCFcU8uvoQaIRLhSCbt2BlC0WvfoSslXtFQh\n",
       "m4+en0n5X0PvvxM9Lllm/Ns74kuJ5gRD6QK9MO8NxqjbiVYpmfyZ7A273+RABTZ28SCbvh0nzzmx\n",
       "mJ4GsHvCG5iDoohSkRWTTBoR4caK3pZaaO31uIzyegvAfjRbcL9N4PrhLCe5cmvIlpS2j/jysZX8\n",
       "R41h+sZwMx8i1C5+DWP3VNxVrjtVcEa1SWN0OTJCh/rB6ZTqPNG50VixEHeWCBPl2F7wh1QNmLfk\n",
       "6INfWk59TFCcTJgY12BcTYGoWH1XaO6sgG3UPSZv6w7UpDkWR0CZHlw6hpv7eQVvRDg7sQHjcG/6\n",
       "4YUFvn9Zd1yS2nX2oQJoVHuolK9mpeNbZDGJfiyKxZXN/Owndjm6jFJME9S1q4Hfn2GmuXv69zY3\n",
       "z+sWNisGSt3HuRg5NPnYkJ9xnl4vGeq9fUjkmeSyvZ0rsRXhgBHIdMVMiSby8phjYx/9zthEzCIv\n",
       "rCtn5IPQTPHrmx2e/sBn+0LGvka0Fsw+4yp/JItVGn5Pr7x6P0Yo2Q39BCYPKGfkQsV1CxGS/N/W\n",
       "4ow+NMRXd7qF2o3a+RqfXU+lXDmmxDF51zn7eHXVK0NOXPo0cm+blO9h6jJ25vZEWQgTA94262WM\n",
       "sh4QAcQc3721Dmm9Sl4olBw0aufGFQjUopUpIRnrsC/zuBh96FJFFQ+tYaMlGyBsojSOIJ1l/1i3\n",
       "Ls7/SvsZjFeceV32GO0dw7UVQy6QZ/PXmqjfcsYm6Zkj6Mm64Acf+oWIWw5qpvz9c2KTlMRJzIn0\n",
       "1E+6MLPeniMS7bN9BpSdNeJAu5fIonMz8snUHnSUqBm7iFaP3MfEXd9n0xDIuv3s6cl2UdQZIJjZ\n",
       "eBE9x49DguzF5hm2GMuJ4gLQ0fXmwi7PzQzlbGJLqD66qWlKoyDp1cJUW0Z3P9Y7PuskpXLWXMHA\n",
       "Dglj8GGT2iP+ShhXeSyuY4Jq2koP2G1Fr7U5tL2C0qbrnoqQb32CAPiRPxAxJKffrYyXjjvBXJXl\n",
       "nZE6v46YI89Q/334z4m1iqHIeABqQJp5jiwI70DjtbYgmGANDF69nK4rEAgncZkvSqy6RzdnrqE1\n",
       "VKQVWfKsrdUANyli4z59ScM3shjjQPjtRnb+hu2ccwRpkc/dMUrfkyyb4RwgiQbTWUPoSPp0JDxz\n",
       "8E9fW0h1KTCKEFRtI2Ds1DrfhWsHAVRa5O2ZXqHgWtlzuJG/eWfi2uX5cXmDEvuKOhwWWcT1t5cX\n",
       "KqTT/s6/FbFNEKr+ui5muZDPYqI+f+wr8jvYzo+tLvQ4mKZCh4hTVV65p+p2q0dxcqjsIhB9UjBD\n",
       "fB+wtypAmriOD/iZ9Dutb/fN2IjIBGKb6NQVrUzsuYCJ7pA9MT5/jgpmEn0fL7pBk6FEfK2p9aGx\n",
       "7EI0POL/RHcUogeO833HaaPHRjbBD5ybmnVNmtx2g3mui0bymSLNShGKFAYQ3s70Elt4lqejHCSJ\n",
       "Gyf2pG+49PwbCR2sKakezDhXU+znCDVlbiGCo7xk4nx4ve4o5j4QNtTNJqcl0DKlmDUY8BWBq5Nn\n",
       "upoRdb0OOem5z7zi43TEsOb7TwwHUPyXx6kpmuf3nGFIoilYfHw1bXMLMGtTqEh88q3Z16m8bLZ1\n",
       "9flSIEFdRWjGjkW+ZHJpASm8E9s5MeuK6+7IoZBSM1RiIfSZ58YRZmRa/R8LxL595KDC6GjIIpae\n",
       "pZGE+/+9aYb8QYGe+gQ12qlv13OM7upc+tOaVe12+92b1Vfmoqindm6irXAUq7jWhx+VMEjFXc5u\n",
       "wqusnaYPOF7MB/TndpsOlqGkLTmkjl534hc75YS5vRvrDZpzkDgPivvawxj0Ls52KszPu2k359VZ\n",
       "IocH1DdlshMGIARuX4zJQmKJKGrQPnt4fNnEPvq288v2h7F6PbLtbaIDEhWzP3rgLpLLH4jwhdP1\n",
       "qEsUu1N15/J+I9T2A8TpnEORhwAceByrSjAOC4H6k5lgvpTFKYQOBt2Az7x0CktqZjPYCa+BjfgA\n",
       "wxtrLK8d7rjE7eveXtrVsCPRZrpQgQfSurrKzr6hCwaYYCv0OgsxOg9pbd3CpfCzWBgfFz9M2dHf\n",
       "AiaSwWio86nSzCO9yawIb6WoZlLmx1Pjrh+SczCHLRwmlZPW2scnaM8Pmz+xaEyli2pudArcWJf5\n",
       "k31CtmDKWaqT6SaIQ3d7kDXrSnK+a9P7CDY0QvnEaP15oi8J32oKJEC0aJoWwskhtt3o9Loaix9T\n",
       "e0kkbML0qUwJhHESpDHBZc34uhhBpoJIv0Z378XGL/gb5+oTv/juzNXUzFOUJD28vZScC9gsOGMT\n",
       "LCRvkrvWmgjLXR8kBFfqJuqsbbI3Ehzc3X8jRxEN9G0LxijT6mn8ZU/ozDGx6PrSOpdn2UGB9BA9\n",
       "PjlapPYMwYru1ecLcw64nKDGiNoWs+HX4vHOVCZt7Ulx4vwtYsMN6dMrIL18J2Tp8lmMiq3axpdY\n",
       "/zAF0KzznCMJd/hmFiUHh2aVndpzMQR7ijGK2es7JMV7hTgJRvogx2eLjJ9Td2YMkLYMqkjR8nar\n",
       "TD/9hHBWYwjcorz/ttHKWWkX7d8qy8rt8o2ffKaiWG5ooMOqGGX60zsSrM6iSI2IwR+aNyAoGekK\n",
       "uu5ckZccMrT+KCO+U4TtWsdZDHidH7I/e8vTJxPpW5Afi3eCt6AOWugau6KxlugWmUES50HdYa9x\n",
       "UjgwnBGi3Q3SQaAMd6IMzeotFVaP8uo0GQkSgVg8CoUEAqIL2zUjkt9twAzX3SJowsIx1Mjl/S0o\n",
       "IDVCIxNtOvhWFwlqMMcJdp1ZhPJ8Fx/2BLblGvn143Kn14fLsSqXWMXlmFuSGX+xtlZ7akRZFnqd\n",
       "WX4mBDEeRAfuE/jmiGISpN8L+cDODIwLoTLOyKjhSiVZCb0/3Ux5CBMMXfGHXMgdLktb5LWa4SV5\n",
       "17lNnrXaGSl6VVLd2G/lfnWIJC8S/iLHS/FVEfLhokgXjSGB5KLXMm8ZRPXInWHOJQcsBBeHkSfD\n",
       "gXpgKYRYhZD7ml0BVzCbPfTSBxiyBKXefpMUJ2IOJYFAjVucpQvVpWacBQj6f7EBy2NHzk6kKTHv\n",
       "QMirv0P+bxqAVS68Pvy57EkdUy1pAmEWEEs55Rmni/HHpAgLGOOgP6eJ6jhAMpsOQH+NKKIGl0sD\n",
       "NlTN1wg3FHwNyaqt/TjXbKo7SOVSma4izQyt38h1AAVUp+nK+kZS183QPi1et4IjI63Idacq2QV3\n",
       "/1vqZF50eANtaL2XAY6JCZi2ZCQXGwl4VsxZ3GTQPcwMaw02GgcEEF0j7f5KE6VU/FIuher1FPyl\n",
       "Kp7WwpLJ4sdhtU9vyOpTKZvx7nVEU8b+WQWjgWm9zysTSPFzIMFujMckT+Hfyy/O53TKlgUAN5Sn\n",
       "9T+HDK8cE1P5QqRNA357ln6QrQQ013BN8mrrKIGzA1hh/HuptwlVFNipaoge58SSjG0Goyb/h0kV\n",
       "goizL/2R3O4L0cPNbPXqEMbkAOn/0f1zC1O1OLPqEG0+oaSCs4311+A4dvWLiyOxAOJCFXtAWt7M\n",
       "5Qg4CkXPlODq3M96muajrrR+YIPMiWw6igW5ZuT+DcZdxc2TylFV/7ePvzS8yaUuzENK73zBrJ+/\n",
       "LF5Ey6O20qtnL73A0XhJt2gEev1aTMxbMCrC8Zb8RRESiy5nelDgbMb/is8qzbFVOzYbVs91XWKJ\n",
       "PQbaga7fOrnYS+vLQY7t7yxWjfJdSXzOYpgzmi+mV8aHhGi7iHogiasT9GeD5q/QE9y56wBRAQwp\n",
       "LsZBouxGFrhyn98AEKVoG/LiGolYhejz2MJHmwz1CEjEGvSig5mWifu9Rduw/bcCDga0lcff/ZkF\n",
       "yYFYomnEYi+eMmGM3um0xZaVF6O+N/lLSrImIBpHcqqp7yguBgF2ykaV4ztZEyuLAxpS3n+j5H9q\n",
       "ADQRIKor3m5B8bVAPGjpz5hnTJGDkmpx9O1DFTRhvejQq7gMYC7tXuYNNp6R9Kenxef54mGxf+0K\n",
       "5yaRQ3CxRqEUyt6Af+YfD5o4D4yqESh4ftqqALVWmvn3tdQO4TPKOewEu5J4jUuYt1BLKEQjE4Bf\n",
       "GUCkFROmMk++BK+9qOsBphcjSxgjJtu+f+74rQd9L9axjJULPD/vFI5cs2pz3DWquZxsotp+4C+p\n",
       "gcqjnm/QnZjJTadvcvFD6pvYVeyt/sEXG0BkvR9enQyKplVvYeFz1as9Nv/F3KLaNnxjACpI/R7U\n",
       "XNWevpFvPO3m4m4u3GNih01Gy/////bLm4IJPZuaQLub7t1fNMLoVeAsb/D1ZM3Z+bonIS9+yqiA\n",
       "RIvEtUghPqNH37DNAA2aLtzH2Qbz77QeCTvjlCsZgSlbuipM3Ogywd1rtq7sJJgrPBhnn5/zYfHN\n",
       "1GzAEzS2wSYlpSuAL6wD1nW18d/slfjIpj/JZScSbdXzAhkQRIGbt4dsvHb/N3aDW2LdeDmC2fO6\n",
       "l0d3u0cAWiIzQh5OAvvhsJ0+umo1CcTM6t1TPJlWir3duz4qHczrA3EfSWYpkrp7OS/uegFh51t6\n",
       "B0WRpAonPbk7loamuuID2o1zSQorIMgljiwGZqScQxjndODPw36v5UCgtUhGT1DqTe3TgAYnyKxi\n",
       "lOAWSsYiKz3GOlmH+bfFbJs9RWGsNT5fhS4I22zsLOV7lz/tbw2op35MSs5mOLwPkaTXYN4wfY1w\n",
       "5Fscm1OyyClHDT41DWANHVQPZi7+Zq4/o8/5lMB1DInASAg05ZC3LDB0CGxlF1gOWeG7pbzFsBtt\n",
       "TmyB7Ks5ZQoSiu2EjzNk0+19ZEYjeTIgxMsiSFVCugI5KmJ7YAN+7Njh70uSJ/pq4TCpbUO4dQag\n",
       "Jk5fS9FekfbkDSwRcwmhs9/KR4yvwGqOY0K9LryQIXzYOq8rngQ/CD7ix0h4lxvSIichYuOtmCY+\n",
       "cfM5aNJyn0GqiPGXLDNjoOy0DTBjTH2IUw0V/EIzcTxSeFtNjHdI+b7ClDvw9D69Jr7EWo8QA/g7\n",
       "5MiTm/dErwWW73o9KIzwTHXamo/kBOzlGeezSSlyz29Gy+PjfPkNibzYRrT5eBVRIpCsqfMGtu20\n",
       "q1CGsf0by/xuPsOVAEdtw0NSdcsRUxZPsNZbXA9eAyj9U7vvEfdMYJMPeByod+UiaatJtxOC3oD1\n",
       "RYAbz2TvRUAoSeZYahIJ8GEXPCA6flLsEz21n0pmbkkiQOLqvDkTC5DFdqdo8lEy0ez6ydAWyEOa\n",
       "7fpyuJ661l2e5PN9jKjrZC79WeqXVuC8N2M5fh6M4i4fS+CwjW7JZiT6vv+9T9t4EP7u/35EmPtI\n",
       "uFgIiJU5p20ps48l++sJWVZXFRC9TpopU/DIqnf0GjuR7n2XQB56+Sjl5T/so+FpkevYioQ4Y14K\n",
       "O3/5NK+dqRXyGZkVWdgybjARWafNTD2szgwQcaRGZy//xWg2TnUaEbe9vLTSKMC95T9nuz9ece6J\n",
       "f3YmHFI0agwnoMnukX+0kN3on3ccVm5b6ul1thuDLxVL90CPqgB9rEeZtJpChDl8i83slPye/vS8\n",
       "FT29xOspT3Zl7jDP0fKn0JKabFkxDvXi1IeyW8T3ixAfFcW+UKP8Bt2033N6HFDLj1qkROWl2Vfd\n",
       "P6N8C9jPDsThL2aTCsCAoHdwrSZmXcxlywwQc5iRM4dutvU3rE2UxPr+7zwIhKXUxo8j4joJs1yT\n",
       "veVYEJAUU3rPNlHvqzsJ/flLK1VSlDmRWi+p+0+iWrZK14VWtAUSctP25gORyxvB/CJk9dqqEiCU\n",
       "BJyOd/RguNpLhIvbw0XvTXDl0LFJ63hiqg1p9HCREsh4XS7rtCGJdYrOK1obuCq3Fcxiwzd1/ZKw\n",
       "71Hvkw6NmhgWesIxCwtXgGkaQkI2BlkSXJW5/cdCPdd8N6yzyW6VRkv9fJkF6Eq042+p95T2E4tb\n",
       "GwXXHWR7k93dInaf+IWK4IePPUeRDh5slBmY7M86Q/muSHoX04qnUZ9zJJ9mtC64axiOhMb+l7IL\n",
       "EMTTEZrnVD/dvAJyyl6cMTx/CE8wykL2/5iVORREVadkPmqBu2Trr+E2iEtTRe1+TrKSPvTNWOsg\n",
       "loz/HT1qRjfPq3TdLBcxS3/1h6ydiH7rGcIiyj+YsndHC4/WLPVBeir1/V/wn6YQgHHk2SNDoGl5\n",
       "xiXvhKCcAI3w2I4uj/IU3wulAM88xtbpAhre/Q6exObyOla0oIuzbSjm0yuGB18Io9HbxsfX5PYQ\n",
       "hTTXcFjYdWJ1Sxa93KCgZQDkHwAAAGxBmiRsQj/94QFDk7LTLgmQivKPSIS/SV7nZxbDPUvcKWcL\n",
       "hQABOCMDlFGcEgKoRg8RWoIp4zWcwEdM1y+BGVjQhphtXgIXSisMfE4kOvWfdd5rPLTdruJiDwzj\n",
       "4lrTKaPFzaCTDIRf+/mcI4AAAAAjQZ5CeI3/BopPKIs0t1P9w2zVp1q4CHavLG8XOG5ALQvFkTEA\n",
       "AAAgAZ5hdEX/CDUowdcb1Rp89uym3urI/4W9kdf8xW972ggAAAAZAZ5jakX/CDK+u7Kbmb/uJUqV\n",
       "vaKK59R6mQAAABZBmmhJqEFomUwI3/pYABQMNZl4GtMdAAAAFEGehkURLG8ARUE0k2bo+zZlmffb\n",
       "AAAAEAGepXRF/wAjpQHbcJ42a1UAAAANAZ6nakX/ABnJQzaspAAAABBBmqlJqEFsmUwIv/pYAAVU\n",
       "AAADpW1vb3YAAABsbXZoZAAAAAAAAAAAAAAAAAAAA+gAAAAKAAEAAAEAAAAAAAAAAAAAAAABAAAA\n",
       "AAAAAAAAAAAAAAAAAQAAAAAAAAAAAAAAAAAAQAAAAAAAAAAAAAAAAAAAAAAAAAAAAAAAAAAAAAAA\n",
       "AAIAAALQdHJhawAAAFx0a2hkAAAAAwAAAAAAAAAAAAAAAQAAAAAAAAAKAAAAAAAAAAAAAAAAAAAA\n",
       "AAABAAAAAAAAAAAAAAAAAAAAAQAAAAAAAAAAAAAAAAAAQAAAAAEgAAAA2AAAAAAAJGVkdHMAAAAc\n",
       "ZWxzdAAAAAAAAAABAAAACgAAACAAAQAAAAACSG1kaWEAAAAgbWRoZAAAAAAAAAAAAAAAAAAAPoAA\n",
       "AACgVcQAAAAAAC1oZGxyAAAAAAAAAAB2aWRlAAAAAAAAAAAAAAAAVmlkZW9IYW5kbGVyAAAAAfNt\n",
       "aW5mAAAAFHZtaGQAAAABAAAAAAAAAAAAAAAkZGluZgAAABxkcmVmAAAAAAAAAAEAAAAMdXJsIAAA\n",
       "AAEAAAGzc3RibAAAALNzdHNkAAAAAAAAAAEAAACjYXZjMQAAAAAAAAABAAAAAAAAAAAAAAAAAAAA\n",
       "AAEgANgASAAAAEgAAAAAAAAAAQAAAAAAAAAAAAAAAAAAAAAAAAAAAAAAAAAAAAAAAAAAABj//wAA\n",
       "ADFhdmNDAWQAKv/hABhnZAAqrNlBId+WEAAAAwAQAAB9APGDGWABAAZo6+PLIsAAAAAcdXVpZGto\n",
       "QPJfJE/FujmlG88DI/MAAAAAAAAAGHN0dHMAAAAAAAAAAQAAAAoAAAAQAAAAFHN0c3MAAAAAAAAA\n",
       "AQAAAAEAAABgY3R0cwAAAAAAAAAKAAAAAQAAACAAAAABAAAAUAAAAAEAAAAgAAAAAQAAAAAAAAAB\n",
       "AAAAEAAAAAEAAABQAAAAAQAAACAAAAABAAAAAAAAAAEAAAAQAAAAAQAAACAAAAAcc3RzYwAAAAAA\n",
       "AAABAAAAAQAAAAoAAAABAAAAPHN0c3oAAAAAAAAAAAAAAAoAABu8AAAAcAAAACcAAAAkAAAAHQAA\n",
       "ABoAAAAYAAAAFAAAABEAAAAUAAAAFHN0Y28AAAAAAAAAAQAAACwAAABhdWR0YQAAAFltZXRhAAAA\n",
       "AAAAACFoZGxyAAAAAAAAAABtZGlyYXBwbAAAAAAAAAAAAAAAACxpbHN0AAAAJKl0b28AAAAcZGF0\n",
       "YQAAAAEAAAAATGF2ZjU4LjMuMTAw\n",
       "\">\n",
       "  Your browser does not support the video tag.\n",
       "</video>"
      ],
      "text/plain": [
       "<IPython.core.display.HTML object>"
      ]
     },
     "execution_count": 155,
     "metadata": {},
     "output_type": "execute_result"
    }
   ],
   "source": [
    "import os\n",
    "plt.rcParams['animation.ffmpeg_path'] = '/Users/nipun/ffmpeg'\n",
    "from IPython.display import HTML\n",
    "HTML(anim.to_html5_video())"
   ]
  },
  {
   "cell_type": "code",
   "execution_count": 152,
   "metadata": {},
   "outputs": [],
   "source": [
    "import sys\n",
    "sys.path.append(\"/Users/nipun/\")"
   ]
  },
  {
   "cell_type": "code",
   "execution_count": 158,
   "metadata": {},
   "outputs": [
    {
     "name": "stdout",
     "output_type": "stream",
     "text": [
      "fig size: 72.0 DPI, size in inches [ 4.  3.]\n",
      "Choosing X = [ 18.39583958] with std = 1.000007592459039\n",
      "Choosing X = [ 11.88518852] with std = 1.0000041788213907\n",
      "Choosing X = [ 7.54475448] with std = 1.000004015353255\n",
      "Choosing X = [ 15.12751275] with std = 1.0000026678505\n",
      "Choosing X = [ 0.1660166] with std = 1.000002341397876\n",
      "Choosing X = [ 9.8989899] with std = 1.0000016433833672\n",
      "Choosing X = [ 5.05450545] with std = 0.9959645334097954\n",
      "Choosing X = [ 19.9519952] with std = 0.9995749332330064\n",
      "Choosing X = [ 6.81668167] with std = 1.000001930069939\n",
      "Choosing X = [ 16.72967297] with std = 0.9995663494527087\n",
      "Choosing X = [ 13.47734773] with std = 0.9996075958376983\n"
     ]
    }
   ],
   "source": [
    "\"\"\"\n",
    "Active regression example with Gaussian processes.\n",
    "\"\"\"\n",
    "\n",
    "import numpy as np\n",
    "import matplotlib.pyplot as plt\n",
    "from sklearn.gaussian_process import GaussianProcessRegressor\n",
    "from sklearn.gaussian_process.kernels import WhiteKernel, RBF\n",
    "from modAL.models import ActiveLearner\n",
    "\n",
    "\n",
    "# query strategy for regression\n",
    "def GP_regression_std(regressor, X):\n",
    "    _, std = regressor.predict(X, return_std=True)\n",
    "    query_idx = np.argmax(std)\n",
    "    print(\"Choosing X = {} with std = {}\".format(X[query_idx], np.max(std)))\n",
    "    return query_idx, X[query_idx]\n",
    "\n",
    "\n",
    "# generating the data\n",
    "X = np.random.choice(np.linspace(0, 20, 10000), size=200, replace=False).reshape(-1, 1)\n",
    "y = np.sin(X) + np.random.normal(scale=0.3, size=X.shape)\n",
    "\n",
    "# assembling initial training set\n",
    "n_initial = 1\n",
    "initial_idx = np.random.choice(range(len(X)), size=n_initial, replace=False)\n",
    "X_initial, y_initial = X[initial_idx], y[initial_idx]\n",
    "\n",
    "# defining the kernel for the Gaussian process\n",
    "kernel = RBF(length_scale=1.0, length_scale_bounds=(1e-2, 1e3)) \\\n",
    "         + WhiteKernel(noise_level=1, noise_level_bounds=(1e-10, 1e+1))\n",
    "\n",
    "# initializing the active learner\n",
    "regressor = ActiveLearner(\n",
    "    estimator=GaussianProcessRegressor(kernel=kernel),\n",
    "    query_strategy=GP_regression_std,\n",
    "    X_training=X_initial.reshape(-1, 1), y_training=y_initial.reshape(-1, 1)\n",
    ")\n",
    "\n",
    "# Code courtesy: http://eli.thegreenplace.net/2016/drawing-animated-gifs-with-matplotlib/\n",
    "from matplotlib.animation import FuncAnimation\n",
    "\n",
    "fig, ax = plt.subplots(figsize=(4, 3))\n",
    "fig.set_tight_layout(True)\n",
    "\n",
    "# Query the figure's on-screen size and DPI. Note that when saving the figure to\n",
    "# a file, we need to provide a DPI for that separately.\n",
    "print('fig size: {0} DPI, size in inches {1}'.format(\n",
    "    fig.get_dpi(), fig.get_size_inches()))\n",
    "\n",
    "# Plot a scatter that persists (isn't redrawn) and the initial line.\n",
    "\n",
    "#ax.scatter(X, Y, color='grey', alpha=0.8, s=1)\n",
    "# Initial line\n",
    "\n",
    "#line, = ax.plot(X, X*w_prior+b_prior, 'r-', linewidth=1)\n",
    "\n",
    "def update(i):\n",
    "    label = 'Iteration {0}'.format(i)\n",
    "    query_idx, query_instance = regressor.query(X)\n",
    "    regressor.teach(X[query_idx].reshape(1, -1), y[query_idx].reshape(1, -1))\n",
    "    \n",
    "\n",
    "\n",
    "    x = np.linspace(0, 20, 1000)\n",
    "    pred, std = regressor.predict(x.reshape(-1,1), return_std=True)\n",
    "    ax.plot(x, pred)\n",
    "    ax.fill_between(x, pred.reshape(-1, )-std, pred.reshape(-1, )+std, alpha=0.2)\n",
    "    ax.scatter(X, y, c='k')\n",
    "    ax.set_title('Estimation after %d queries' % n_queries)\n",
    "    \n",
    "    return ax\n",
    "plt.close()\n",
    "anim = FuncAnimation(fig, update, frames=np.arange(0, 10), interval=1)\n",
    "anim.save('/Users/nipun/Desktop/abc.gif', dpi=80, writer='ffmpeg')\n",
    "\n",
    "\n",
    "# active learning\n",
    "n_queries = 2\n"
   ]
  },
  {
   "cell_type": "code",
   "execution_count": 121,
   "metadata": {},
   "outputs": [],
   "source": [
    "import numpy as np\n",
    "import matplotlib.pyplot as plt\n",
    "import pandas as pd\n",
    "%matplotlib inline\n",
    "\n",
    "np.random.seed(0)\n",
    "n_samples = 50\n",
    "X = np.linspace(1, 50, n_samples).reshape(-1,1)\n",
    "Y = 10*X[:,0] + 6 + 10*np.random.randn(n_samples)"
   ]
  },
  {
   "cell_type": "code",
   "execution_count": 81,
   "metadata": {},
   "outputs": [
    {
     "data": {
      "text/plain": [
       "(50, 1)"
      ]
     },
     "execution_count": 81,
     "metadata": {},
     "output_type": "execute_result"
    }
   ],
   "source": [
    "X.shape"
   ]
  },
  {
   "cell_type": "code",
   "execution_count": 98,
   "metadata": {},
   "outputs": [],
   "source": [
    "import statsmodels.api as sm\n",
    "ols = sm.OLS(Y, X)\n",
    "ols_result = ols.fit()"
   ]
  },
  {
   "cell_type": "code",
   "execution_count": 107,
   "metadata": {},
   "outputs": [
    {
     "data": {
      "text/plain": [
       "array([ 0.0562975])"
      ]
     },
     "execution_count": 107,
     "metadata": {},
     "output_type": "execute_result"
    }
   ],
   "source": [
    "ols_result.HC0_se"
   ]
  },
  {
   "cell_type": "code",
   "execution_count": 82,
   "metadata": {},
   "outputs": [
    {
     "data": {
      "text/plain": [
       "<matplotlib.collections.PathCollection at 0x1a22d1edd8>"
      ]
     },
     "execution_count": 82,
     "metadata": {},
     "output_type": "execute_result"
    },
    {
     "data": {
      "image/png": "[encoded data removed]",
      "text/plain": [
       "<matplotlib.figure.Figure at 0x1a20c925f8>"
      ]
     },
     "metadata": {},
     "output_type": "display_data"
    }
   ],
   "source": [
    "plt.scatter(X[:, 0], Y)"
   ]
  },
  {
   "cell_type": "code",
   "execution_count": 83,
   "metadata": {},
   "outputs": [],
   "source": [
    "def GP_regression_std(regressor, X):\n",
    "    _, std = regressor.predict(X, return_std=True)\n",
    "    query_idx = np.argmax(std)\n",
    "    return query_idx, X[query_idx]"
   ]
  },
  {
   "cell_type": "code",
   "execution_count": 84,
   "metadata": {},
   "outputs": [],
   "source": [
    "from modAL.models import ActiveLearner\n",
    "from sklearn.gaussian_process import GaussianProcessRegressor\n",
    "from sklearn.gaussian_process.kernels import WhiteKernel, RBF\n",
    "\n",
    "n_initial = 5\n",
    "initial_idx = np.random.choice(range(len(X)), size=n_initial, replace=False)\n",
    "X_training, y_training = X[initial_idx], y[initial_idx]\n",
    "\n",
    "kernel = RBF(length_scale=1.0, length_scale_bounds=(1e-2, 1e3)) \\\n",
    "         + WhiteKernel(noise_level=1, noise_level_bounds=(1e-10, 1e+1))\n",
    "\n",
    "regressor = ActiveLearner(\n",
    "    estimator=GaussianProcessRegressor(kernel=kernel),\n",
    "    query_strategy=GP_regression_std,\n",
    "    X_training=X_training.reshape(-1, 1), y_training=y_training.reshape(-1, 1)\n",
    ")"
   ]
  },
  {
   "cell_type": "code",
   "execution_count": 85,
   "metadata": {},
   "outputs": [
    {
     "data": {
      "text/plain": [
       "ActiveLearner(X_training=array([[ 34.],\n",
       "       [ 13.],\n",
       "       [  8.],\n",
       "       [ 49.],\n",
       "       [ 41.]]),\n",
       "       bootstrap_init=None,\n",
       "       estimator=GaussianProcessRegressor(alpha=1e-10, copy_X_train=True,\n",
       "             kernel=RBF(length_scale=1) + WhiteKernel(noise_level=1),\n",
       "             n_restarts_optimizer=0, normalize_y=False,\n",
       "             optimizer='fmin_l_bfgs_b', random_state=None),\n",
       "       query_strategy=<function GP_regression_std at 0x1a1ee07488>,\n",
       "       y_training=array([[ 0.39645],\n",
       "       [-0.37515],\n",
       "       [ 0.94519],\n",
       "       [ 1.10638],\n",
       "       [-0.0359 ]]))"
      ]
     },
     "execution_count": 85,
     "metadata": {},
     "output_type": "execute_result"
    }
   ],
   "source": [
    "regressor"
   ]
  },
  {
   "cell_type": "code",
   "execution_count": 86,
   "metadata": {},
   "outputs": [],
   "source": [
    "n_queries = 20\n",
    "for idx in range(n_queries):\n",
    "    query_idx, query_instance = regressor.query(X)\n",
    "    regressor.teach(X[query_idx].reshape(1, -1), y[query_idx].reshape(1, -1))"
   ]
  },
  {
   "cell_type": "code",
   "execution_count": 87,
   "metadata": {},
   "outputs": [],
   "source": [
    "y_hat, std_hat = regressor.predict(X,return_std=True)"
   ]
  },
  {
   "cell_type": "code",
   "execution_count": 88,
   "metadata": {},
   "outputs": [],
   "source": [
    "%matplotlib inline\n",
    "import matplotlib.pyplot as plt"
   ]
  },
  {
   "cell_type": "code",
   "execution_count": 94,
   "metadata": {},
   "outputs": [
    {
     "data": {
      "text/plain": [
       "array([ 0.77937421,  0.14816913, -0.53047726, -0.92463771, -0.89135403,\n",
       "       -0.4501215 ,  0.23237289,  0.84726877,  1.09625275,  0.88841317,\n",
       "        0.38291158, -0.11316961, -0.3055584 , -0.08410351,  0.402158  ,\n",
       "        0.85638048,  1.03778023,  0.88551178,  0.51990248,  0.16753209,\n",
       "        0.02334984,  0.10860436,  0.2789105 ,  0.41175523,  0.54339423,\n",
       "        0.75127593,  0.93145541,  0.82851919,  0.37651755, -0.10011266,\n",
       "       -0.20936119,  0.04162736,  0.31670618,  0.42881184,  0.49291279,\n",
       "        0.62941827,  0.75063557,  0.68448015,  0.4083543 ,  0.12259818,\n",
       "        0.05767287,  0.17294536,  0.15995616, -0.13140921, -0.39629958,\n",
       "       -0.19781636,  0.44106557,  0.9307715 ,  0.71813248, -0.06156789])"
      ]
     },
     "execution_count": 94,
     "metadata": {},
     "output_type": "execute_result"
    }
   ],
   "source": [
    "y_hat[:,0]"
   ]
  },
  {
   "cell_type": "code",
   "execution_count": 92,
   "metadata": {},
   "outputs": [
    {
     "ename": "ValueError",
     "evalue": "x and y must be the same size",
     "output_type": "error",
     "traceback": [
      "\u001b[0;31m---------------------------------------------------------------------------\u001b[0m",
      "\u001b[0;31mValueError\u001b[0m                                Traceback (most recent call last)",
      "\u001b[0;32m<ipython-input-92-216d8729be29>\u001b[0m in \u001b[0;36m<module>\u001b[0;34m()\u001b[0m\n\u001b[0;32m----> 1\u001b[0;31m \u001b[0mplt\u001b[0m\u001b[0;34m.\u001b[0m\u001b[0mscatter\u001b[0m\u001b[0;34m(\u001b[0m\u001b[0my_hat\u001b[0m\u001b[0;34m[\u001b[0m\u001b[0;34m:\u001b[0m\u001b[0;34m,\u001b[0m\u001b[0;36m0\u001b[0m\u001b[0;34m]\u001b[0m\u001b[0;34m,\u001b[0m \u001b[0my\u001b[0m\u001b[0;34m)\u001b[0m\u001b[0;34m\u001b[0m\u001b[0m\n\u001b[0m",
      "\u001b[0;32m~/anaconda3/lib/python3.6/site-packages/matplotlib/pyplot.py\u001b[0m in \u001b[0;36mscatter\u001b[0;34m(x, y, s, c, marker, cmap, norm, vmin, vmax, alpha, linewidths, verts, edgecolors, hold, data, **kwargs)\u001b[0m\n\u001b[1;32m   3432\u001b[0m                          \u001b[0mvmin\u001b[0m\u001b[0;34m=\u001b[0m\u001b[0mvmin\u001b[0m\u001b[0;34m,\u001b[0m \u001b[0mvmax\u001b[0m\u001b[0;34m=\u001b[0m\u001b[0mvmax\u001b[0m\u001b[0;34m,\u001b[0m \u001b[0malpha\u001b[0m\u001b[0;34m=\u001b[0m\u001b[0malpha\u001b[0m\u001b[0;34m,\u001b[0m\u001b[0;34m\u001b[0m\u001b[0m\n\u001b[1;32m   3433\u001b[0m                          \u001b[0mlinewidths\u001b[0m\u001b[0;34m=\u001b[0m\u001b[0mlinewidths\u001b[0m\u001b[0;34m,\u001b[0m \u001b[0mverts\u001b[0m\u001b[0;34m=\u001b[0m\u001b[0mverts\u001b[0m\u001b[0;34m,\u001b[0m\u001b[0;34m\u001b[0m\u001b[0m\n\u001b[0;32m-> 3434\u001b[0;31m                          edgecolors=edgecolors, data=data, **kwargs)\n\u001b[0m\u001b[1;32m   3435\u001b[0m     \u001b[0;32mfinally\u001b[0m\u001b[0;34m:\u001b[0m\u001b[0;34m\u001b[0m\u001b[0m\n\u001b[1;32m   3436\u001b[0m         \u001b[0max\u001b[0m\u001b[0;34m.\u001b[0m\u001b[0m_hold\u001b[0m \u001b[0;34m=\u001b[0m \u001b[0mwashold\u001b[0m\u001b[0;34m\u001b[0m\u001b[0m\n",
      "\u001b[0;32m~/anaconda3/lib/python3.6/site-packages/matplotlib/__init__.py\u001b[0m in \u001b[0;36minner\u001b[0;34m(ax, *args, **kwargs)\u001b[0m\n\u001b[1;32m   1896\u001b[0m                     warnings.warn(msg % (label_namer, func.__name__),\n\u001b[1;32m   1897\u001b[0m                                   RuntimeWarning, stacklevel=2)\n\u001b[0;32m-> 1898\u001b[0;31m             \u001b[0;32mreturn\u001b[0m \u001b[0mfunc\u001b[0m\u001b[0;34m(\u001b[0m\u001b[0max\u001b[0m\u001b[0;34m,\u001b[0m \u001b[0;34m*\u001b[0m\u001b[0margs\u001b[0m\u001b[0;34m,\u001b[0m \u001b[0;34m**\u001b[0m\u001b[0mkwargs\u001b[0m\u001b[0;34m)\u001b[0m\u001b[0;34m\u001b[0m\u001b[0m\n\u001b[0m\u001b[1;32m   1899\u001b[0m         \u001b[0mpre_doc\u001b[0m \u001b[0;34m=\u001b[0m \u001b[0minner\u001b[0m\u001b[0;34m.\u001b[0m\u001b[0m__doc__\u001b[0m\u001b[0;34m\u001b[0m\u001b[0m\n\u001b[1;32m   1900\u001b[0m         \u001b[0;32mif\u001b[0m \u001b[0mpre_doc\u001b[0m \u001b[0;32mis\u001b[0m \u001b[0;32mNone\u001b[0m\u001b[0;34m:\u001b[0m\u001b[0;34m\u001b[0m\u001b[0m\n",
      "\u001b[0;32m~/anaconda3/lib/python3.6/site-packages/matplotlib/axes/_axes.py\u001b[0m in \u001b[0;36mscatter\u001b[0;34m(self, x, y, s, c, marker, cmap, norm, vmin, vmax, alpha, linewidths, verts, edgecolors, **kwargs)\u001b[0m\n\u001b[1;32m   3962\u001b[0m         \u001b[0my\u001b[0m \u001b[0;34m=\u001b[0m \u001b[0mnp\u001b[0m\u001b[0;34m.\u001b[0m\u001b[0mma\u001b[0m\u001b[0;34m.\u001b[0m\u001b[0mravel\u001b[0m\u001b[0;34m(\u001b[0m\u001b[0my\u001b[0m\u001b[0;34m)\u001b[0m\u001b[0;34m\u001b[0m\u001b[0m\n\u001b[1;32m   3963\u001b[0m         \u001b[0;32mif\u001b[0m \u001b[0mx\u001b[0m\u001b[0;34m.\u001b[0m\u001b[0msize\u001b[0m \u001b[0;34m!=\u001b[0m \u001b[0my\u001b[0m\u001b[0;34m.\u001b[0m\u001b[0msize\u001b[0m\u001b[0;34m:\u001b[0m\u001b[0;34m\u001b[0m\u001b[0m\n\u001b[0;32m-> 3964\u001b[0;31m             \u001b[0;32mraise\u001b[0m \u001b[0mValueError\u001b[0m\u001b[0;34m(\u001b[0m\u001b[0;34m\"x and y must be the same size\"\u001b[0m\u001b[0;34m)\u001b[0m\u001b[0;34m\u001b[0m\u001b[0m\n\u001b[0m\u001b[1;32m   3965\u001b[0m \u001b[0;34m\u001b[0m\u001b[0m\n\u001b[1;32m   3966\u001b[0m         \u001b[0;32mif\u001b[0m \u001b[0ms\u001b[0m \u001b[0;32mis\u001b[0m \u001b[0;32mNone\u001b[0m\u001b[0;34m:\u001b[0m\u001b[0;34m\u001b[0m\u001b[0m\n",
      "\u001b[0;31mValueError\u001b[0m: x and y must be the same size"
     ]
    },
    {
     "data": {
      "image/png": "[encoded data removed]",
      "text/plain": [
       "<matplotlib.figure.Figure at 0x1a22de85f8>"
      ]
     },
     "metadata": {},
     "output_type": "display_data"
    }
   ],
   "source": [
    "plt.scatter(y_hat[:,0], y)"
   ]
  },
  {
   "cell_type": "code",
   "execution_count": 96,
   "metadata": {},
   "outputs": [
    {
     "ename": "ValueError",
     "evalue": "x and y must be the same size",
     "output_type": "error",
     "traceback": [
      "\u001b[0;31m---------------------------------------------------------------------------\u001b[0m",
      "\u001b[0;31mValueError\u001b[0m                                Traceback (most recent call last)",
      "\u001b[0;32m<ipython-input-96-ab7a2967d959>\u001b[0m in \u001b[0;36m<module>\u001b[0;34m()\u001b[0m\n\u001b[0;32m----> 1\u001b[0;31m \u001b[0mplt\u001b[0m\u001b[0;34m.\u001b[0m\u001b[0mscatter\u001b[0m\u001b[0;34m(\u001b[0m\u001b[0mX\u001b[0m\u001b[0;34m[\u001b[0m\u001b[0;34m:\u001b[0m\u001b[0;34m,\u001b[0m\u001b[0;36m0\u001b[0m\u001b[0;34m]\u001b[0m\u001b[0;34m,\u001b[0m \u001b[0my\u001b[0m\u001b[0;34m,\u001b[0m \u001b[0mcolor\u001b[0m\u001b[0;34m=\u001b[0m\u001b[0;34m'k'\u001b[0m\u001b[0;34m,\u001b[0m \u001b[0ms\u001b[0m\u001b[0;34m=\u001b[0m\u001b[0;36m0.6\u001b[0m\u001b[0;34m)\u001b[0m\u001b[0;34m\u001b[0m\u001b[0m\n\u001b[0m\u001b[1;32m      2\u001b[0m \u001b[0mplt\u001b[0m\u001b[0;34m.\u001b[0m\u001b[0mplot\u001b[0m\u001b[0;34m(\u001b[0m\u001b[0mpd\u001b[0m\u001b[0;34m.\u001b[0m\u001b[0mDataFrame\u001b[0m\u001b[0;34m(\u001b[0m\u001b[0mX\u001b[0m\u001b[0;34m)\u001b[0m\u001b[0;34m.\u001b[0m\u001b[0msqueeze\u001b[0m\u001b[0;34m(\u001b[0m\u001b[0;34m)\u001b[0m\u001b[0;34m.\u001b[0m\u001b[0msort_values\u001b[0m\u001b[0;34m(\u001b[0m\u001b[0;34m)\u001b[0m\u001b[0;34m.\u001b[0m\u001b[0mvalues\u001b[0m\u001b[0;34m,\u001b[0m \u001b[0my_hat\u001b[0m\u001b[0;34m[\u001b[0m\u001b[0mpd\u001b[0m\u001b[0;34m.\u001b[0m\u001b[0mDataFrame\u001b[0m\u001b[0;34m(\u001b[0m\u001b[0mX\u001b[0m\u001b[0;34m)\u001b[0m\u001b[0;34m.\u001b[0m\u001b[0msqueeze\u001b[0m\u001b[0;34m(\u001b[0m\u001b[0;34m)\u001b[0m\u001b[0;34m.\u001b[0m\u001b[0margsort\u001b[0m\u001b[0;34m(\u001b[0m\u001b[0;34m)\u001b[0m\u001b[0;34m.\u001b[0m\u001b[0mvalues\u001b[0m\u001b[0;34m]\u001b[0m\u001b[0;34m,\u001b[0m \u001b[0mcolor\u001b[0m\u001b[0;34m=\u001b[0m\u001b[0;34m'b'\u001b[0m\u001b[0;34m)\u001b[0m\u001b[0;34m\u001b[0m\u001b[0m\n\u001b[1;32m      3\u001b[0m \u001b[0;34m\u001b[0m\u001b[0m\n",
      "\u001b[0;32m~/anaconda3/lib/python3.6/site-packages/matplotlib/pyplot.py\u001b[0m in \u001b[0;36mscatter\u001b[0;34m(x, y, s, c, marker, cmap, norm, vmin, vmax, alpha, linewidths, verts, edgecolors, hold, data, **kwargs)\u001b[0m\n\u001b[1;32m   3432\u001b[0m                          \u001b[0mvmin\u001b[0m\u001b[0;34m=\u001b[0m\u001b[0mvmin\u001b[0m\u001b[0;34m,\u001b[0m \u001b[0mvmax\u001b[0m\u001b[0;34m=\u001b[0m\u001b[0mvmax\u001b[0m\u001b[0;34m,\u001b[0m \u001b[0malpha\u001b[0m\u001b[0;34m=\u001b[0m\u001b[0malpha\u001b[0m\u001b[0;34m,\u001b[0m\u001b[0;34m\u001b[0m\u001b[0m\n\u001b[1;32m   3433\u001b[0m                          \u001b[0mlinewidths\u001b[0m\u001b[0;34m=\u001b[0m\u001b[0mlinewidths\u001b[0m\u001b[0;34m,\u001b[0m \u001b[0mverts\u001b[0m\u001b[0;34m=\u001b[0m\u001b[0mverts\u001b[0m\u001b[0;34m,\u001b[0m\u001b[0;34m\u001b[0m\u001b[0m\n\u001b[0;32m-> 3434\u001b[0;31m                          edgecolors=edgecolors, data=data, **kwargs)\n\u001b[0m\u001b[1;32m   3435\u001b[0m     \u001b[0;32mfinally\u001b[0m\u001b[0;34m:\u001b[0m\u001b[0;34m\u001b[0m\u001b[0m\n\u001b[1;32m   3436\u001b[0m         \u001b[0max\u001b[0m\u001b[0;34m.\u001b[0m\u001b[0m_hold\u001b[0m \u001b[0;34m=\u001b[0m \u001b[0mwashold\u001b[0m\u001b[0;34m\u001b[0m\u001b[0m\n",
      "\u001b[0;32m~/anaconda3/lib/python3.6/site-packages/matplotlib/__init__.py\u001b[0m in \u001b[0;36minner\u001b[0;34m(ax, *args, **kwargs)\u001b[0m\n\u001b[1;32m   1896\u001b[0m                     warnings.warn(msg % (label_namer, func.__name__),\n\u001b[1;32m   1897\u001b[0m                                   RuntimeWarning, stacklevel=2)\n\u001b[0;32m-> 1898\u001b[0;31m             \u001b[0;32mreturn\u001b[0m \u001b[0mfunc\u001b[0m\u001b[0;34m(\u001b[0m\u001b[0max\u001b[0m\u001b[0;34m,\u001b[0m \u001b[0;34m*\u001b[0m\u001b[0margs\u001b[0m\u001b[0;34m,\u001b[0m \u001b[0;34m**\u001b[0m\u001b[0mkwargs\u001b[0m\u001b[0;34m)\u001b[0m\u001b[0;34m\u001b[0m\u001b[0m\n\u001b[0m\u001b[1;32m   1899\u001b[0m         \u001b[0mpre_doc\u001b[0m \u001b[0;34m=\u001b[0m \u001b[0minner\u001b[0m\u001b[0;34m.\u001b[0m\u001b[0m__doc__\u001b[0m\u001b[0;34m\u001b[0m\u001b[0m\n\u001b[1;32m   1900\u001b[0m         \u001b[0;32mif\u001b[0m \u001b[0mpre_doc\u001b[0m \u001b[0;32mis\u001b[0m \u001b[0;32mNone\u001b[0m\u001b[0;34m:\u001b[0m\u001b[0;34m\u001b[0m\u001b[0m\n",
      "\u001b[0;32m~/anaconda3/lib/python3.6/site-packages/matplotlib/axes/_axes.py\u001b[0m in \u001b[0;36mscatter\u001b[0;34m(self, x, y, s, c, marker, cmap, norm, vmin, vmax, alpha, linewidths, verts, edgecolors, **kwargs)\u001b[0m\n\u001b[1;32m   3962\u001b[0m         \u001b[0my\u001b[0m \u001b[0;34m=\u001b[0m \u001b[0mnp\u001b[0m\u001b[0;34m.\u001b[0m\u001b[0mma\u001b[0m\u001b[0;34m.\u001b[0m\u001b[0mravel\u001b[0m\u001b[0;34m(\u001b[0m\u001b[0my\u001b[0m\u001b[0;34m)\u001b[0m\u001b[0;34m\u001b[0m\u001b[0m\n\u001b[1;32m   3963\u001b[0m         \u001b[0;32mif\u001b[0m \u001b[0mx\u001b[0m\u001b[0;34m.\u001b[0m\u001b[0msize\u001b[0m \u001b[0;34m!=\u001b[0m \u001b[0my\u001b[0m\u001b[0;34m.\u001b[0m\u001b[0msize\u001b[0m\u001b[0;34m:\u001b[0m\u001b[0;34m\u001b[0m\u001b[0m\n\u001b[0;32m-> 3964\u001b[0;31m             \u001b[0;32mraise\u001b[0m \u001b[0mValueError\u001b[0m\u001b[0;34m(\u001b[0m\u001b[0;34m\"x and y must be the same size\"\u001b[0m\u001b[0;34m)\u001b[0m\u001b[0;34m\u001b[0m\u001b[0m\n\u001b[0m\u001b[1;32m   3965\u001b[0m \u001b[0;34m\u001b[0m\u001b[0m\n\u001b[1;32m   3966\u001b[0m         \u001b[0;32mif\u001b[0m \u001b[0ms\u001b[0m \u001b[0;32mis\u001b[0m \u001b[0;32mNone\u001b[0m\u001b[0;34m:\u001b[0m\u001b[0;34m\u001b[0m\u001b[0m\n",
      "\u001b[0;31mValueError\u001b[0m: x and y must be the same size"
     ]
    },
    {
     "data": {
      "image/png": "[encoded data removed]",
      "text/plain": [
       "<matplotlib.figure.Figure at 0x1a21b1c048>"
      ]
     },
     "metadata": {},
     "output_type": "display_data"
    }
   ],
   "source": [
    "plt.scatter(X[:,0], y, color='k', s=0.6)\n",
    "plt.plot(pd.DataFrame(X).squeeze().sort_values().values, y_hat[pd.DataFrame(X).squeeze().argsort().values], color='b')\n",
    "\n"
   ]
  },
  {
   "cell_type": "code",
   "execution_count": 24,
   "metadata": {},
   "outputs": [],
   "source": [
    "X_sort = X.sort()"
   ]
  },
  {
   "cell_type": "code",
   "execution_count": 37,
   "metadata": {},
   "outputs": [],
   "source": [
    "import pandas as pd"
   ]
  },
  {
   "cell_type": "code",
   "execution_count": 41,
   "metadata": {},
   "outputs": [
    {
     "data": {
      "text/plain": [
       "0      106\n",
       "1      127\n",
       "2      111\n",
       "3       37\n",
       "4      171\n",
       "5      158\n",
       "6      142\n",
       "7      109\n",
       "8       94\n",
       "9      104\n",
       "10     132\n",
       "11       6\n",
       "12       4\n",
       "13      81\n",
       "14     139\n",
       "15      48\n",
       "16      46\n",
       "17     122\n",
       "18       9\n",
       "19     101\n",
       "20      41\n",
       "21     186\n",
       "22      47\n",
       "23     107\n",
       "24     193\n",
       "25     175\n",
       "26     110\n",
       "27       1\n",
       "28      44\n",
       "29      99\n",
       "      ... \n",
       "170    187\n",
       "171    198\n",
       "172    146\n",
       "173    173\n",
       "174     10\n",
       "175    178\n",
       "176      8\n",
       "177     12\n",
       "178     98\n",
       "179     74\n",
       "180    169\n",
       "181      2\n",
       "182    183\n",
       "183     24\n",
       "184     11\n",
       "185    103\n",
       "186     89\n",
       "187    145\n",
       "188    147\n",
       "189     20\n",
       "190    150\n",
       "191     17\n",
       "192     96\n",
       "193    151\n",
       "194     13\n",
       "195     92\n",
       "196     58\n",
       "197    123\n",
       "198     34\n",
       "199     39\n",
       "Name: 0, Length: 200, dtype: int64"
      ]
     },
     "execution_count": 41,
     "metadata": {},
     "output_type": "execute_result"
    }
   ],
   "source": [
    "pd.DataFrame(X).squeeze().argsort()"
   ]
  },
  {
   "cell_type": "code",
   "execution_count": 45,
   "metadata": {},
   "outputs": [
    {
     "data": {
      "text/plain": [
       "106     0.100010\n",
       "127     0.344034\n",
       "111     0.406041\n",
       "37      0.438044\n",
       "171     0.490049\n",
       "158     0.866087\n",
       "142     1.194119\n",
       "109     1.302130\n",
       "94      1.324132\n",
       "104     1.548155\n",
       "132     1.642164\n",
       "6       1.646165\n",
       "4       1.854185\n",
       "81      1.908191\n",
       "139     2.036204\n",
       "48      2.190219\n",
       "46      2.316232\n",
       "122     2.404240\n",
       "9       2.410241\n",
       "101     2.504250\n",
       "41      2.518252\n",
       "186     2.618262\n",
       "47      2.800280\n",
       "107     2.982298\n",
       "193     3.072307\n",
       "175     3.082308\n",
       "110     3.150315\n",
       "1       3.440344\n",
       "44      3.514351\n",
       "99      3.690369\n",
       "         ...    \n",
       "187    17.655766\n",
       "198    17.675768\n",
       "146    17.805781\n",
       "173    17.889789\n",
       "10     18.133813\n",
       "178    18.135814\n",
       "8      18.155816\n",
       "12     18.241824\n",
       "98     18.295830\n",
       "74     18.395840\n",
       "169    18.477848\n",
       "2      18.545855\n",
       "183    18.733873\n",
       "24     18.833883\n",
       "11     18.945895\n",
       "103    18.961896\n",
       "89     18.977898\n",
       "145    19.223922\n",
       "147    19.257926\n",
       "20     19.279928\n",
       "150    19.417942\n",
       "17     19.563956\n",
       "96     19.579958\n",
       "151    19.739974\n",
       "13     19.763976\n",
       "92     19.773977\n",
       "58     19.845985\n",
       "123    19.881988\n",
       "34     19.921992\n",
       "39     19.945995\n",
       "Name: 0, Length: 200, dtype: float64"
      ]
     },
     "execution_count": 45,
     "metadata": {},
     "output_type": "execute_result"
    }
   ],
   "source": [
    "pd.DataFrame(X).squeeze().sort_values()"
   ]
  },
  {
   "cell_type": "code",
   "execution_count": null,
   "metadata": {},
   "outputs": [],
   "source": []
  }
 ],
 "metadata": {
  "kernelspec": {
   "display_name": "Python 3",
   "language": "python",
   "name": "python3"
  },
  "language_info": {
   "codemirror_mode": {
    "name": "ipython",
    "version": 3
   },
   "file_extension": ".py",
   "mimetype": "text/x-python",
   "name": "python",
   "nbconvert_exporter": "python",
   "pygments_lexer": "ipython3",
   "version": "3.6.3"
  }
 },
 "nbformat": 4,
 "nbformat_minor": 2
}
