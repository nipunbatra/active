{
 "cells": [
  {
   "cell_type": "code",
   "execution_count": 1,
   "metadata": {},
   "outputs": [],
   "source": [
    "import autograd.numpy as np\n",
    "from autograd import grad\n",
    "import pandas as pd\n",
    "import sys\n",
    "%matplotlib inline"
   ]
  },
  {
   "cell_type": "markdown",
   "metadata": {},
   "source": [
    "#### Loading the dataset"
   ]
  },
  {
   "cell_type": "code",
   "execution_count": 2,
   "metadata": {},
   "outputs": [],
   "source": [
    "d = np.load(\"/Users/nipun/Downloads/data-2013-2017-missing.npy\").item()"
   ]
  },
  {
   "cell_type": "markdown",
   "metadata": {},
   "source": [
    "#### Finding homes occuring across both years"
   ]
  },
  {
   "cell_type": "code",
   "execution_count": 3,
   "metadata": {},
   "outputs": [
    {
     "data": {
      "text/plain": [
       "214"
      ]
     },
     "execution_count": 3,
     "metadata": {},
     "output_type": "execute_result"
    }
   ],
   "source": [
    "np.intersect1d(list(d[2016].keys()), list(d[2015].keys())).size"
   ]
  },
  {
   "cell_type": "code",
   "execution_count": 4,
   "metadata": {},
   "outputs": [
    {
     "data": {
      "text/plain": [
       "153"
      ]
     },
     "execution_count": 4,
     "metadata": {},
     "output_type": "execute_result"
    }
   ],
   "source": [
    "np.intersect1d(list(d[2017].keys()), list(d[2016].keys())).size"
   ]
  },
  {
   "cell_type": "markdown",
   "metadata": {},
   "source": [
    "I would be choosing 2015 and 2016 as the successive years"
   ]
  },
  {
   "cell_type": "code",
   "execution_count": 5,
   "metadata": {},
   "outputs": [],
   "source": [
    "use_homes = np.intersect1d(list(d[2016].keys()), list(d[2015].keys()))"
   ]
  },
  {
   "cell_type": "code",
   "execution_count": 6,
   "metadata": {},
   "outputs": [
    {
     "data": {
      "text/plain": [
       "array([  26,   59,   77,   86,   93,   94,  101,  114,  187,  434,  484,\n",
       "        499,  503,  545,  624,  744,  781,  871,  946,  974, 1086, 1103,\n",
       "       1169, 1192, 1202, 1283, 1403, 1415, 1463, 1500, 1507, 1589, 1617,\n",
       "       1632, 1642, 1697, 1700, 1718, 1790, 1800, 1953, 2018, 2094, 2129,\n",
       "       2156, 2171, 2199, 2233, 2365, 2378, 2472, 2532, 2557, 2575, 2638,\n",
       "       2755, 2787, 2814, 2818, 2829, 2859, 2945, 2953, 2965, 3009, 3039,\n",
       "       3044, 3134, 3268, 3310, 3367, 3392, 3456, 3482, 3500, 3527, 3538,\n",
       "       3577, 3649, 3778, 3829, 3831, 3849, 3916, 3918, 3935, 3967, 4031,\n",
       "       4154, 4213, 4220, 4297, 4298, 4336, 4342, 4352, 4357, 4373, 4375,\n",
       "       4473, 4514, 4641, 4767, 4874, 4946, 4957, 4998, 5026, 5060, 5129,\n",
       "       5218, 5275, 5317, 5357, 5403, 5545, 5568, 5677, 5718, 5785, 5809,\n",
       "       5814, 5874, 5889, 5921, 5949, 5959, 5972, 6061, 6063, 6121, 6139,\n",
       "       6165, 6348, 6412, 6423, 6460, 6498, 6691, 6692, 6730, 6990, 7016,\n",
       "       7030, 7361, 7390, 7429, 7504, 7536, 7560, 7627, 7641, 7719, 7731,\n",
       "       7769, 7787, 7788, 7793, 7850, 7875, 7900, 7901, 7940, 7951, 7973,\n",
       "       7989, 8046, 8059, 8079, 8084, 8086, 8092, 8156, 8163, 8197, 8236,\n",
       "       8243, 8292, 8317, 8386, 8419, 8645, 8767, 8807, 8829, 8995, 9001,\n",
       "       9019, 9052, 9121, 9134, 9141, 9160, 9248, 9356, 9484, 9609, 9613,\n",
       "       9647, 9654, 9701, 9729, 9771, 9875, 9912, 9915, 9922, 9932, 9935,\n",
       "       9937, 9938, 9942, 9971, 9982])"
      ]
     },
     "execution_count": 6,
     "metadata": {},
     "output_type": "execute_result"
    }
   ],
   "source": [
    "use_homes"
   ]
  },
  {
   "cell_type": "code",
   "execution_count": 7,
   "metadata": {},
   "outputs": [],
   "source": [
    "APPLIANCE_ORDER = ['use','air1','dishwasher1','furnace1','kitchenapp1','microwave1','refrigerator1']"
   ]
  },
  {
   "cell_type": "markdown",
   "metadata": {},
   "source": [
    "### Creating the tensor data"
   ]
  },
  {
   "cell_type": "code",
   "execution_count": 8,
   "metadata": {},
   "outputs": [],
   "source": [
    "t = np.empty((len(use_homes), len(APPLIANCE_ORDER), 2*12))"
   ]
  },
  {
   "cell_type": "code",
   "execution_count": 9,
   "metadata": {},
   "outputs": [],
   "source": [
    "t[:] = np.NaN"
   ]
  },
  {
   "cell_type": "code",
   "execution_count": 10,
   "metadata": {},
   "outputs": [],
   "source": [
    "for i, home in enumerate(use_homes):\n",
    "    for j, appliance in enumerate(APPLIANCE_ORDER):\n",
    "        try:\n",
    "            t[i, j, :12] = d[2016][home][appliance].values\n",
    "            t[i, j, 12:] = d[2017][home][appliance].values\n",
    "        except:\n",
    "            pass"
   ]
  },
  {
   "cell_type": "code",
   "execution_count": 11,
   "metadata": {},
   "outputs": [
    {
     "data": {
      "text/plain": [
       "(214, 7, 24)"
      ]
     },
     "execution_count": 11,
     "metadata": {},
     "output_type": "execute_result"
    }
   ],
   "source": [
    "t.shape"
   ]
  },
  {
   "cell_type": "markdown",
   "metadata": {},
   "source": [
    "### STF routine"
   ]
  },
  {
   "cell_type": "code",
   "execution_count": 12,
   "metadata": {},
   "outputs": [],
   "source": [
    "def factorise(tensor, r, random_seed=0, num_iter=400, eps=1e-8, lr=1):\n",
    "    np.random.seed(random_seed)\n",
    "    args_num = [1, 2, 3]\n",
    "\n",
    "    def cost(tensor, home, appliance,  month):\n",
    "        pred = np.einsum('Hr, Ar, Tr ->HAT', home, appliance, month)\n",
    "        mask = ~np.isnan(tensor)\n",
    "        error = (pred - tensor)[mask].flatten()\n",
    "        return np.sqrt((error ** 2).mean())\n",
    "\n",
    "    mg = grad(cost, argnum=args_num)\n",
    "    sizes = [(x, r) for x in tensor.shape]\n",
    "    home = np.random.rand(*sizes[0])\n",
    "    appliance = np.random.rand(*sizes[1])\n",
    "    month = np.random.rand(*sizes[2])\n",
    "\n",
    "    sum_home = np.zeros_like(home)\n",
    "    sum_appliance = np.zeros_like(appliance)\n",
    "    sum_month = np.zeros_like(month)\n",
    "\n",
    "    # GD procedure\n",
    "    for i in range(num_iter):\n",
    "        del_home, del_appliance, del_month = mg(tensor, home, appliance, month)\n",
    "\n",
    "        sum_home += eps + np.square(del_home)\n",
    "        lr_home = np.divide(lr, np.sqrt(sum_home))\n",
    "        home -= lr_home * del_home\n",
    "\n",
    "        sum_appliance += eps + np.square(del_appliance)\n",
    "        lr_appliance = np.divide(lr, np.sqrt(sum_appliance))\n",
    "        appliance -= lr_appliance * del_appliance\n",
    "\n",
    "        sum_month += eps + np.square(del_month)\n",
    "        lr_month = np.divide(lr, np.sqrt(sum_month))\n",
    "        month -= lr_month * del_month\n",
    "\n",
    "        \n",
    "        # Projection to non-negative space\n",
    "        home[home < 0] = 1e-8\n",
    "        appliance[appliance < 0] = 1e-8\n",
    "        month[month < 0] = 1e-8\n",
    "\n",
    "        if i % 500 == 0:\n",
    "            #print(cost(tensor, home, appliance, month), i)\n",
    "            sys.stdout.flush()\n",
    "\n",
    "    return home, appliance, month"
   ]
  },
  {
   "cell_type": "markdown",
   "metadata": {},
   "source": [
    "#### Creating the different subsets if data"
   ]
  },
  {
   "cell_type": "code",
   "execution_count": 13,
   "metadata": {},
   "outputs": [],
   "source": [
    "# Test is last 44 homes\n",
    "test_set = t[170:].copy()\n",
    "# In test set, we don't know the appliance data\n",
    "test_set[:, 1:, :] = np.NaN\n",
    "# Train + Pool is the remaining set\n",
    "train_pool_set = t[:170].copy()\n",
    "# Initial train set is 10 homes\n",
    "train_set = t[:10].copy()\n",
    "# Initial pool set is 10-170 homes\n",
    "pool_set = t[10:170].copy()\n",
    "pool_homes = use_homes[10:170]\n",
    "# Train + Test set (useful for factorisation)\n",
    "train_test_set = np.vstack([train_set, test_set])"
   ]
  },
  {
   "cell_type": "markdown",
   "metadata": {},
   "source": [
    "### Creating the set of (home, appliance) pairs for each month that can contain data and thus can be used for acquiring labels"
   ]
  },
  {
   "cell_type": "code",
   "execution_count": 14,
   "metadata": {},
   "outputs": [],
   "source": [
    "p_m_h = {}\n",
    "for month in range(12, 24):\n",
    "    p_m_h[month] = []\n",
    "    for home in pool_homes:\n",
    "        for i, appliance in enumerate(APPLIANCE_ORDER[1:]):\n",
    "            pool_home_index  = np.searchsorted(use_homes, home)\n",
    "            if np.isfinite(t[pool_home_index, i+1, month]):\n",
    "                p_m_h[month].append((home, appliance))"
   ]
  },
  {
   "cell_type": "code",
   "execution_count": 15,
   "metadata": {},
   "outputs": [
    {
     "data": {
      "text/plain": [
       "[(499, 'air1'),\n",
       " (499, 'furnace1'),\n",
       " (499, 'kitchenapp1'),\n",
       " (499, 'refrigerator1'),\n",
       " (503, 'air1')]"
      ]
     },
     "execution_count": 15,
     "metadata": {},
     "output_type": "execute_result"
    }
   ],
   "source": [
    "p_m_h[13][:5]"
   ]
  },
  {
   "cell_type": "markdown",
   "metadata": {},
   "source": [
    "#### Randomly adding 5 homes every month from Pool"
   ]
  },
  {
   "cell_type": "code",
   "execution_count": 16,
   "metadata": {},
   "outputs": [
    {
     "name": "stdout",
     "output_type": "stream",
     "text": [
      "0 12 59 [(2953, 'air1'), (3482, 'refrigerator1'), (6460, 'dishwasher1'), (7940, 'refrigerator1'), (7850, 'kitchenapp1')]\n",
      "1 13 64 [(2199, 'furnace1'), (3500, 'air1'), (1632, 'kitchenapp1'), (3649, 'air1'), (503, 'dishwasher1')]\n",
      "2 14 69 [(7361, 'microwave1'), (8059, 'refrigerator1'), (7951, 'microwave1'), (1507, 'furnace1'), (7788, 'dishwasher1')]\n",
      "3 15 74 [(6691, 'furnace1'), (5545, 'air1'), (1632, 'refrigerator1'), (1632, 'air1'), (5959, 'air1')]\n",
      "4 16 79 [(2859, 'refrigerator1'), (3778, 'furnace1'), (4998, 'kitchenapp1'), (8079, 'refrigerator1'), (5545, 'kitchenapp1')]\n",
      "5 17 84 [(8079, 'furnace1'), (7627, 'furnace1'), (8079, 'air1'), (5949, 'air1'), (5921, 'refrigerator1')]\n",
      "6 18 89 [(5545, 'microwave1'), (5317, 'microwave1'), (3778, 'air1'), (3482, 'dishwasher1'), (2638, 'air1')]\n",
      "7 19 94 [(5026, 'air1'), (1202, 'furnace1'), (2532, 'microwave1'), (2171, 'microwave1'), (6139, 'air1')]\n",
      "8 20 99 [(5317, 'refrigerator1'), (503, 'air1'), (5874, 'furnace1'), (6165, 'dishwasher1'), (2171, 'refrigerator1')]\n",
      "9 21 104 [(503, 'microwave1'), (4998, 'refrigerator1'), (7560, 'air1'), (871, 'air1'), (4998, 'air1')]\n",
      "10 22 109 [(3649, 'refrigerator1'), (3967, 'dishwasher1'), (3392, 'furnace1'), (6165, 'furnace1'), (4375, 'microwave1')]\n",
      "11 23 114 [(2965, 'furnace1'), (5809, 'air1'), (4998, 'dishwasher1'), (2532, 'dishwasher1'), (1415, 'air1')]\n"
     ]
    }
   ],
   "source": [
    "pool_use = np.empty((0, 7, 24))\n",
    "pool_set_iter = p_m_h.copy()\n",
    "pred_df_random = {}\n",
    "pool_remove_ix = {}\n",
    "pool_remove = {}\n",
    "gt_df = {}\n",
    "\n",
    "for cur_iteration, month in enumerate(range(12, 24)):\n",
    "    \n",
    "    # Randomly choose `n` to remove from pool and put in training set\n",
    "    pool_remove_ix[cur_iteration] = np.random.choice(range(len(pool_set_iter[month])), size=5)\n",
    "    pool_remove[month] = [pool_set_iter[month][x] for x in pool_remove_ix[cur_iteration]]\n",
    "    \n",
    "    # Remove these from future months pool too\n",
    "    for month_f in range(month+1, 24):\n",
    "        for x in pool_remove[month]:\n",
    "            if x in pool_set_iter[month_f]:\n",
    "                pool_set_iter[month_f].remove(x)\n",
    "    \n",
    "    \n",
    "    # Getting data from `t` to create the pool_use_set\n",
    "    pool_remove_homes = [x[0] for x in pool_remove[month]]\n",
    "    pool_remove_homes_ix = np.searchsorted(use_homes, pool_remove_homes)\n",
    "    \n",
    "    cur_pool = t[pool_remove_homes_ix, :, :].copy()\n",
    "    # All past data is unknown\n",
    "    cur_pool[:, 1:, :month] = np.NaN\n",
    "    \n",
    "    # All future data for all appliances except the chosen one is known\n",
    "    cur_pool[:, 1:, month:] = np.NaN\n",
    "    for q, h in enumerate(pool_remove_homes_ix):\n",
    "        appliance_num = APPLIANCE_ORDER.index(pool_remove[month][q][1])\n",
    "        cur_pool[q, appliance_num, month:] = t[h, appliance_num, month:]\n",
    "    \n",
    "    pool_use = np.concatenate([pool_use, cur_pool])\n",
    "    \n",
    "    pool_train_test = np.concatenate([pool_use, train_test_set[:, :, :] ])\n",
    "\n",
    "    h, a, m =factorise(pool_train_test[:, :, :month], 3)\n",
    "    print(cur_iteration, month, len(pool_train_test), pool_remove[month])\n",
    "    \n",
    "    pred = np.einsum('Hr, Ar, Tr ->HAT', h, a, m)\n",
    "    pred_df_random[month] = pred[len(train_set)+len(pool_use):,1:, month-1:month].reshape(-1, len(APPLIANCE_ORDER)-1)\n",
    "    gt_df[month] = t[170:][:, 1:, month-1:month].reshape(len(test_set), len(APPLIANCE_ORDER)-1)"
   ]
  },
  {
   "cell_type": "markdown",
   "metadata": {},
   "source": [
    "### Active learning"
   ]
  },
  {
   "cell_type": "code",
   "execution_count": 17,
   "metadata": {},
   "outputs": [
    {
     "name": "stdout",
     "output_type": "stream",
     "text": [
      "12 2\n",
      "12 3\n",
      "12 4\n",
      "12 5\n",
      "12 6\n",
      "12 7\n",
      "0 12 64 [(5357, 'microwave1'), (4336, 'air1'), (4336, 'microwave1'), (4336, 'kitchenapp1'), (1700, 'microwave1'), (3918, 'air1'), (6691, 'microwave1'), (5357, 'air1'), (2365, 'furnace1'), (1507, 'microwave1')]\n",
      "13 2\n",
      "13 3\n",
      "13 4\n",
      "13 5\n",
      "13 6\n",
      "13 7\n",
      "1 13 74 [(3916, 'air1'), (4154, 'air1'), (7719, 'air1'), (5357, 'kitchenapp1'), (6691, 'air1'), (4375, 'kitchenapp1'), (4154, 'microwave1'), (1507, 'air1'), (2365, 'air1'), (4375, 'microwave1')]\n",
      "14 2\n",
      "14 3\n",
      "14 4\n",
      "14 5\n",
      "14 6\n",
      "14 7\n",
      "2 14 84 [(5357, 'furnace1'), (4375, 'furnace1'), (7016, 'air1'), (4957, 'furnace1'), (7016, 'furnace1'), (5972, 'furnace1'), (7719, 'furnace1'), (6460, 'furnace1'), (6691, 'furnace1'), (7627, 'furnace1')]\n",
      "15 2\n",
      "15 3\n",
      "15 4\n",
      "15 5\n",
      "15 6\n",
      "15 7\n",
      "3 15 94 [(3918, 'furnace1'), (2378, 'furnace1'), (2018, 'furnace1'), (1507, 'furnace1'), (545, 'furnace1'), (3500, 'furnace1'), (2472, 'furnace1'), (7719, 'refrigerator1'), (3039, 'furnace1'), (5809, 'furnace1')]\n",
      "16 2\n",
      "16 3\n",
      "16 4\n",
      "16 5\n",
      "16 6\n",
      "16 7\n",
      "4 16 104 [(1700, 'kitchenapp1'), (6691, 'kitchenapp1'), (3039, 'kitchenapp1'), (3039, 'microwave1'), (7016, 'kitchenapp1'), (3044, 'kitchenapp1'), (7627, 'kitchenapp1'), (6121, 'kitchenapp1'), (2365, 'kitchenapp1'), (7016, 'microwave1')]\n",
      "17 2\n",
      "17 3\n",
      "17 4\n",
      "17 5\n",
      "17 6\n",
      "17 7\n",
      "5 17 114 [(2365, 'refrigerator1'), (7719, 'dishwasher1'), (3918, 'kitchenapp1'), (1790, 'kitchenapp1'), (1700, 'dishwasher1'), (484, 'dishwasher1'), (7719, 'microwave1'), (5357, 'dishwasher1'), (1507, 'kitchenapp1'), (7641, 'kitchenapp1')]\n",
      "18 2\n",
      "18 3\n",
      "18 4\n",
      "18 5\n",
      "18 6\n",
      "18 7\n",
      "6 18 124 [(4957, 'kitchenapp1'), (2018, 'kitchenapp1'), (1697, 'kitchenapp1'), (5972, 'kitchenapp1'), (3916, 'kitchenapp1'), (484, 'kitchenapp1'), (7793, 'kitchenapp1'), (7504, 'kitchenapp1'), (6460, 'kitchenapp1'), (1283, 'kitchenapp1')]\n",
      "19 2\n",
      "19 3\n",
      "19 4\n",
      "19 5\n",
      "19 6\n",
      "19 7\n",
      "7 19 134 [(7719, 'kitchenapp1'), (4154, 'kitchenapp1'), (5809, 'kitchenapp1'), (5972, 'microwave1'), (7793, 'microwave1'), (8079, 'kitchenapp1'), (2575, 'kitchenapp1'), (4957, 'microwave1'), (6498, 'kitchenapp1'), (5026, 'kitchenapp1')]\n",
      "20 2\n",
      "20 3\n",
      "20 4\n",
      "20 5\n",
      "20 6\n",
      "20 7\n",
      "8 20 144 [(484, 'microwave1'), (3916, 'microwave1'), (4220, 'microwave1'), (4373, 'microwave1'), (8079, 'microwave1'), (5809, 'microwave1'), (6348, 'microwave1'), (6498, 'microwave1'), (1283, 'microwave1'), (1632, 'microwave1')]\n",
      "21 2\n",
      "21 3\n",
      "21 4\n",
      "21 5\n",
      "21 6\n",
      "21 7\n",
      "9 21 154 [(7793, 'furnace1'), (1700, 'furnace1'), (7793, 'dishwasher1'), (3039, 'dishwasher1'), (4373, 'furnace1'), (6412, 'furnace1'), (1697, 'furnace1'), (1790, 'air1'), (3039, 'refrigerator1'), (4874, 'air1')]\n",
      "22 2\n",
      "22 3\n",
      "22 4\n",
      "22 5\n",
      "22 6\n",
      "22 7\n",
      "10 22 164 [(4767, 'air1'), (2018, 'air1'), (4375, 'air1'), (3039, 'air1'), (2233, 'air1'), (2787, 'air1'), (1589, 'air1'), (1463, 'air1'), (5809, 'air1'), (3044, 'air1')]\n",
      "23 2\n",
      "23 3\n",
      "23 4\n",
      "23 5\n",
      "23 6\n",
      "23 7\n",
      "11 23 174 [(6460, 'air1'), (7016, 'refrigerator1'), (974, 'air1'), (3044, 'microwave1'), (7627, 'air1'), (2018, 'refrigerator1'), (4998, 'air1'), (6498, 'air1'), (2094, 'air1'), (5972, 'refrigerator1')]\n"
     ]
    }
   ],
   "source": [
    "pool_use = np.empty((0, 7, 24))\n",
    "gt_df = {}\n",
    "pred_df_active = {}\n",
    "pool_remove_active = {}\n",
    "pool_set_active = {}\n",
    "all_seen = []\n",
    "\n",
    "for cur_iteration, month in enumerate(range(12, 24)):\n",
    "    \n",
    "    # Get all the homes from the currently available pool\n",
    "\n",
    "    pred_pool = {}\n",
    "    psc = pool_set.copy()\n",
    "    psc[:, 1:, :] = np.NaN\n",
    "    month_contri = (pd.DataFrame(train_set[:, :, month]).mean()/pd.DataFrame(train_set[:, :, month]).mean()[0]).drop(0).to_dict()\n",
    "    # Starting with current data and finding the variance amongst different #Latent factors\n",
    "    for r in range(2, 8):\n",
    "        print(month, r)\n",
    "        pool_train = np.concatenate([psc, train_set[:, :, :] ])\n",
    "        h, a, m =factorise(pool_train[:, :, :month], r)\n",
    "        pred_pool[r] = np.einsum('Hr, Ar, Tr ->HAT', h, a, m)[:len(pool_set)]\n",
    "        \n",
    "    # Finding the top-most `n` highly variance homes\n",
    "    # measure = std/contri\n",
    "    temp = []\n",
    "    for appliance_num, appliance in enumerate(APPLIANCE_ORDER[1:]):\n",
    "        y = pd.DataFrame({r:pd.Series(pred_pool[r][:, appliance_num+1, -1])for r in range(2, 8)}).std(axis=1)/month_contri[appliance_num+1]\n",
    "        y.index = [(x, appliance) for x in pool_homes]\n",
    "        temp.append(y)\n",
    "        \n",
    "    pool_remove_active[month] = pd.concat(temp).sort_values(ascending=False).drop(all_seen).head(10).index.tolist() \n",
    "    \n",
    "    all_seen.extend(pool_remove_active[month])\n",
    "    all_seen = list(set(all_seen))\n",
    "    \n",
    "    # Getting data from `t` to create the pool_use_set\n",
    "    pool_remove_homes_active = [x[0] for x in pool_remove_active[month]]\n",
    "    pool_remove_homes_active_ix = np.searchsorted(use_homes, pool_remove_homes_active)\n",
    "    \n",
    "    cur_pool = t[pool_remove_homes_active_ix, :, :].copy()\n",
    "    # All past data is unknown\n",
    "    cur_pool[:, 1:, :month] = np.NaN\n",
    "    \n",
    "    # All future data for all appliances except the chosen one is known\n",
    "    cur_pool[:, 1:, month:] = np.NaN\n",
    "    for q, h in enumerate(pool_remove_homes_ix):\n",
    "        appliance_num = APPLIANCE_ORDER.index(pool_remove[month][q][1])\n",
    "        cur_pool[q, appliance_num, month:] = t[h, appliance_num, month:]\n",
    "    \n",
    "    pool_use = np.concatenate([pool_use, cur_pool])\n",
    "    \n",
    "    pool_train_test = np.concatenate([pool_use, train_test_set[:, :, :] ])\n",
    "\n",
    "    h, a, m =factorise(pool_train_test[:, :, :month], 3)\n",
    "    print(cur_iteration, month, len(pool_train_test), pool_remove_active[month])\n",
    "    \n",
    "    pred = np.einsum('Hr, Ar, Tr ->HAT', h, a, m)\n",
    "    pred_df_active[month] = pred[len(train_set)+len(pool_use):,1:, month-1:month].reshape(-1, len(APPLIANCE_ORDER)-1)\n",
    "    gt_df[month] = t[170:][:, 1:, month-1:month].reshape(len(test_set), len(APPLIANCE_ORDER)-1)"
   ]
  },
  {
   "cell_type": "code",
   "execution_count": 18,
   "metadata": {},
   "outputs": [],
   "source": [
    "random_error = {}\n",
    "active_error = {}\n",
    "for month in range(12, 24):\n",
    "    random_error[month] = (pd.DataFrame(pred_df_random[month])-pd.DataFrame(gt_df[month])).abs().mean()\n",
    "    active_error[month] = (pd.DataFrame(pred_df_active[month])-pd.DataFrame(gt_df[month])).abs().mean()"
   ]
  },
  {
   "cell_type": "code",
   "execution_count": 19,
   "metadata": {},
   "outputs": [
    {
     "data": {
      "text/html": [
       "<div>\n",
       "<style>\n",
       "    .dataframe thead tr:only-child th {\n",
       "        text-align: right;\n",
       "    }\n",
       "\n",
       "    .dataframe thead th {\n",
       "        text-align: left;\n",
       "    }\n",
       "\n",
       "    .dataframe tbody tr th {\n",
       "        vertical-align: top;\n",
       "    }\n",
       "</style>\n",
       "<table border=\"1\" class=\"dataframe\">\n",
       "  <thead>\n",
       "    <tr style=\"text-align: right;\">\n",
       "      <th></th>\n",
       "      <th>12</th>\n",
       "      <th>13</th>\n",
       "      <th>14</th>\n",
       "      <th>15</th>\n",
       "      <th>16</th>\n",
       "      <th>17</th>\n",
       "      <th>18</th>\n",
       "      <th>19</th>\n",
       "      <th>20</th>\n",
       "      <th>21</th>\n",
       "      <th>22</th>\n",
       "      <th>23</th>\n",
       "    </tr>\n",
       "  </thead>\n",
       "  <tbody>\n",
       "    <tr>\n",
       "      <th>0</th>\n",
       "      <td>192.946320</td>\n",
       "      <td>182.321965</td>\n",
       "      <td>95.172436</td>\n",
       "      <td>92.075232</td>\n",
       "      <td>111.293746</td>\n",
       "      <td>134.599378</td>\n",
       "      <td>237.087245</td>\n",
       "      <td>207.777029</td>\n",
       "      <td>210.506351</td>\n",
       "      <td>152.250212</td>\n",
       "      <td>106.358358</td>\n",
       "      <td>84.823408</td>\n",
       "    </tr>\n",
       "    <tr>\n",
       "      <th>1</th>\n",
       "      <td>14.232954</td>\n",
       "      <td>13.472206</td>\n",
       "      <td>15.423732</td>\n",
       "      <td>16.761749</td>\n",
       "      <td>14.720961</td>\n",
       "      <td>15.760640</td>\n",
       "      <td>17.656529</td>\n",
       "      <td>15.308081</td>\n",
       "      <td>13.578732</td>\n",
       "      <td>12.351281</td>\n",
       "      <td>11.219924</td>\n",
       "      <td>12.265989</td>\n",
       "    </tr>\n",
       "    <tr>\n",
       "      <th>2</th>\n",
       "      <td>98.111137</td>\n",
       "      <td>129.218063</td>\n",
       "      <td>67.215639</td>\n",
       "      <td>80.234360</td>\n",
       "      <td>89.555254</td>\n",
       "      <td>89.327881</td>\n",
       "      <td>113.315663</td>\n",
       "      <td>123.557990</td>\n",
       "      <td>125.570361</td>\n",
       "      <td>98.114912</td>\n",
       "      <td>63.637558</td>\n",
       "      <td>66.533036</td>\n",
       "    </tr>\n",
       "    <tr>\n",
       "      <th>3</th>\n",
       "      <td>12.735806</td>\n",
       "      <td>9.290671</td>\n",
       "      <td>10.714566</td>\n",
       "      <td>10.477167</td>\n",
       "      <td>11.329158</td>\n",
       "      <td>11.658033</td>\n",
       "      <td>11.485346</td>\n",
       "      <td>10.138663</td>\n",
       "      <td>9.198137</td>\n",
       "      <td>10.313277</td>\n",
       "      <td>9.942573</td>\n",
       "      <td>9.367254</td>\n",
       "    </tr>\n",
       "    <tr>\n",
       "      <th>4</th>\n",
       "      <td>12.931250</td>\n",
       "      <td>11.234057</td>\n",
       "      <td>7.517089</td>\n",
       "      <td>7.115828</td>\n",
       "      <td>8.728543</td>\n",
       "      <td>6.927375</td>\n",
       "      <td>8.165134</td>\n",
       "      <td>9.981826</td>\n",
       "      <td>7.348340</td>\n",
       "      <td>7.611376</td>\n",
       "      <td>6.664467</td>\n",
       "      <td>5.936085</td>\n",
       "    </tr>\n",
       "    <tr>\n",
       "      <th>5</th>\n",
       "      <td>38.758960</td>\n",
       "      <td>38.554075</td>\n",
       "      <td>38.869898</td>\n",
       "      <td>43.324292</td>\n",
       "      <td>41.744074</td>\n",
       "      <td>42.640576</td>\n",
       "      <td>50.864242</td>\n",
       "      <td>51.967292</td>\n",
       "      <td>45.657735</td>\n",
       "      <td>51.726461</td>\n",
       "      <td>45.705943</td>\n",
       "      <td>41.638361</td>\n",
       "    </tr>\n",
       "  </tbody>\n",
       "</table>\n",
       "</div>"
      ],
      "text/plain": [
       "           12          13         14         15          16          17  \\\n",
       "0  192.946320  182.321965  95.172436  92.075232  111.293746  134.599378   \n",
       "1   14.232954   13.472206  15.423732  16.761749   14.720961   15.760640   \n",
       "2   98.111137  129.218063  67.215639  80.234360   89.555254   89.327881   \n",
       "3   12.735806    9.290671  10.714566  10.477167   11.329158   11.658033   \n",
       "4   12.931250   11.234057   7.517089   7.115828    8.728543    6.927375   \n",
       "5   38.758960   38.554075  38.869898  43.324292   41.744074   42.640576   \n",
       "\n",
       "           18          19          20          21          22         23  \n",
       "0  237.087245  207.777029  210.506351  152.250212  106.358358  84.823408  \n",
       "1   17.656529   15.308081   13.578732   12.351281   11.219924  12.265989  \n",
       "2  113.315663  123.557990  125.570361   98.114912   63.637558  66.533036  \n",
       "3   11.485346   10.138663    9.198137   10.313277    9.942573   9.367254  \n",
       "4    8.165134    9.981826    7.348340    7.611376    6.664467   5.936085  \n",
       "5   50.864242   51.967292   45.657735   51.726461   45.705943  41.638361  "
      ]
     },
     "execution_count": 19,
     "metadata": {},
     "output_type": "execute_result"
    }
   ],
   "source": [
    "pd.DataFrame(random_error)"
   ]
  },
  {
   "cell_type": "code",
   "execution_count": 20,
   "metadata": {},
   "outputs": [
    {
     "data": {
      "text/html": [
       "<div>\n",
       "<style>\n",
       "    .dataframe thead tr:only-child th {\n",
       "        text-align: right;\n",
       "    }\n",
       "\n",
       "    .dataframe thead th {\n",
       "        text-align: left;\n",
       "    }\n",
       "\n",
       "    .dataframe tbody tr th {\n",
       "        vertical-align: top;\n",
       "    }\n",
       "</style>\n",
       "<table border=\"1\" class=\"dataframe\">\n",
       "  <thead>\n",
       "    <tr style=\"text-align: right;\">\n",
       "      <th></th>\n",
       "      <th>12</th>\n",
       "      <th>13</th>\n",
       "      <th>14</th>\n",
       "      <th>15</th>\n",
       "      <th>16</th>\n",
       "      <th>17</th>\n",
       "      <th>18</th>\n",
       "      <th>19</th>\n",
       "      <th>20</th>\n",
       "      <th>21</th>\n",
       "      <th>22</th>\n",
       "      <th>23</th>\n",
       "    </tr>\n",
       "  </thead>\n",
       "  <tbody>\n",
       "    <tr>\n",
       "      <th>0</th>\n",
       "      <td>247.656087</td>\n",
       "      <td>122.638370</td>\n",
       "      <td>88.890796</td>\n",
       "      <td>88.764595</td>\n",
       "      <td>101.109912</td>\n",
       "      <td>137.625587</td>\n",
       "      <td>229.259371</td>\n",
       "      <td>339.355990</td>\n",
       "      <td>278.022511</td>\n",
       "      <td>221.829624</td>\n",
       "      <td>95.324368</td>\n",
       "      <td>56.779126</td>\n",
       "    </tr>\n",
       "    <tr>\n",
       "      <th>1</th>\n",
       "      <td>13.763496</td>\n",
       "      <td>12.764468</td>\n",
       "      <td>12.698550</td>\n",
       "      <td>13.725639</td>\n",
       "      <td>11.934047</td>\n",
       "      <td>11.492398</td>\n",
       "      <td>17.198627</td>\n",
       "      <td>17.757760</td>\n",
       "      <td>8.273332</td>\n",
       "      <td>5.396233</td>\n",
       "      <td>4.366339</td>\n",
       "      <td>6.070886</td>\n",
       "    </tr>\n",
       "    <tr>\n",
       "      <th>2</th>\n",
       "      <td>93.990758</td>\n",
       "      <td>130.158691</td>\n",
       "      <td>76.285236</td>\n",
       "      <td>86.935104</td>\n",
       "      <td>91.227044</td>\n",
       "      <td>78.368114</td>\n",
       "      <td>104.864368</td>\n",
       "      <td>142.089969</td>\n",
       "      <td>114.342235</td>\n",
       "      <td>93.866638</td>\n",
       "      <td>71.559766</td>\n",
       "      <td>66.433498</td>\n",
       "    </tr>\n",
       "    <tr>\n",
       "      <th>3</th>\n",
       "      <td>12.847597</td>\n",
       "      <td>10.259195</td>\n",
       "      <td>11.175042</td>\n",
       "      <td>10.029542</td>\n",
       "      <td>10.965339</td>\n",
       "      <td>12.205688</td>\n",
       "      <td>10.267806</td>\n",
       "      <td>10.565542</td>\n",
       "      <td>8.917808</td>\n",
       "      <td>8.006398</td>\n",
       "      <td>8.215192</td>\n",
       "      <td>7.307142</td>\n",
       "    </tr>\n",
       "    <tr>\n",
       "      <th>4</th>\n",
       "      <td>8.932115</td>\n",
       "      <td>9.480366</td>\n",
       "      <td>7.969368</td>\n",
       "      <td>7.260736</td>\n",
       "      <td>9.521968</td>\n",
       "      <td>5.861538</td>\n",
       "      <td>5.699413</td>\n",
       "      <td>6.757303</td>\n",
       "      <td>7.899674</td>\n",
       "      <td>9.812617</td>\n",
       "      <td>8.084825</td>\n",
       "      <td>8.348088</td>\n",
       "    </tr>\n",
       "    <tr>\n",
       "      <th>5</th>\n",
       "      <td>43.037263</td>\n",
       "      <td>40.239838</td>\n",
       "      <td>41.899114</td>\n",
       "      <td>45.148600</td>\n",
       "      <td>40.956129</td>\n",
       "      <td>42.103503</td>\n",
       "      <td>46.089626</td>\n",
       "      <td>45.274921</td>\n",
       "      <td>40.149663</td>\n",
       "      <td>39.932726</td>\n",
       "      <td>39.522369</td>\n",
       "      <td>43.394094</td>\n",
       "    </tr>\n",
       "  </tbody>\n",
       "</table>\n",
       "</div>"
      ],
      "text/plain": [
       "           12          13         14         15          16          17  \\\n",
       "0  247.656087  122.638370  88.890796  88.764595  101.109912  137.625587   \n",
       "1   13.763496   12.764468  12.698550  13.725639   11.934047   11.492398   \n",
       "2   93.990758  130.158691  76.285236  86.935104   91.227044   78.368114   \n",
       "3   12.847597   10.259195  11.175042  10.029542   10.965339   12.205688   \n",
       "4    8.932115    9.480366   7.969368   7.260736    9.521968    5.861538   \n",
       "5   43.037263   40.239838  41.899114  45.148600   40.956129   42.103503   \n",
       "\n",
       "           18          19          20          21         22         23  \n",
       "0  229.259371  339.355990  278.022511  221.829624  95.324368  56.779126  \n",
       "1   17.198627   17.757760    8.273332    5.396233   4.366339   6.070886  \n",
       "2  104.864368  142.089969  114.342235   93.866638  71.559766  66.433498  \n",
       "3   10.267806   10.565542    8.917808    8.006398   8.215192   7.307142  \n",
       "4    5.699413    6.757303    7.899674    9.812617   8.084825   8.348088  \n",
       "5   46.089626   45.274921   40.149663   39.932726  39.522369  43.394094  "
      ]
     },
     "execution_count": 20,
     "metadata": {},
     "output_type": "execute_result"
    }
   ],
   "source": [
    "pd.DataFrame(active_error)"
   ]
  },
  {
   "cell_type": "code",
   "execution_count": 32,
   "metadata": {},
   "outputs": [
    {
     "data": {
      "text/plain": [
       "<matplotlib.axes._subplots.AxesSubplot at 0x113428fd0>"
      ]
     },
     "execution_count": 32,
     "metadata": {},
     "output_type": "execute_result"
    },
    {
     "data": {
      "image/png": "[encoded data removed]",
      "text/plain": [
       "<matplotlib.figure.Figure at 0x1198d3080>"
      ]
     },
     "metadata": {},
     "output_type": "display_data"
    }
   ],
   "source": [
    "re = pd.DataFrame(random_error).iloc[5]\n",
    "ac = pd.DataFrame(active_error).iloc[5]\n",
    "pd.DataFrame({\"Random\":re, \"Active\":ac}).plot(kind='bar')"
   ]
  }
 ],
 "metadata": {
  "kernelspec": {
   "display_name": "Python 3",
   "language": "python",
   "name": "python3"
  },
  "language_info": {
   "codemirror_mode": {
    "name": "ipython",
    "version": 3
   },
   "file_extension": ".py",
   "mimetype": "text/x-python",
   "name": "python",
   "nbconvert_exporter": "python",
   "pygments_lexer": "ipython3",
   "version": "3.6.5"
  }
 },
 "nbformat": 4,
 "nbformat_minor": 2
}
