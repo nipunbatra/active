{
 "cells": [
  {
   "cell_type": "code",
   "execution_count": 86,
   "metadata": {},
   "outputs": [],
   "source": [
    "import autograd.numpy as np\n",
    "from autograd import grad\n",
    "import pandas as pd\n",
    "import sys\n",
    "import matplotlib.pyplot as plt\n",
    "%matplotlib inline"
   ]
  },
  {
   "cell_type": "markdown",
   "metadata": {},
   "source": [
    "#### Loading the dataset"
   ]
  },
  {
   "cell_type": "code",
   "execution_count": 2,
   "metadata": {},
   "outputs": [],
   "source": [
    "d = np.load(\"/Users/nipun/Downloads/data-2013-2017-missing.npy\").item()"
   ]
  },
  {
   "cell_type": "markdown",
   "metadata": {},
   "source": [
    "#### Finding homes occuring across both years"
   ]
  },
  {
   "cell_type": "code",
   "execution_count": 3,
   "metadata": {},
   "outputs": [
    {
     "data": {
      "text/plain": [
       "214"
      ]
     },
     "execution_count": 3,
     "metadata": {},
     "output_type": "execute_result"
    }
   ],
   "source": [
    "np.intersect1d(list(d[2016].keys()), list(d[2015].keys())).size"
   ]
  },
  {
   "cell_type": "code",
   "execution_count": 4,
   "metadata": {},
   "outputs": [
    {
     "data": {
      "text/plain": [
       "153"
      ]
     },
     "execution_count": 4,
     "metadata": {},
     "output_type": "execute_result"
    }
   ],
   "source": [
    "np.intersect1d(list(d[2017].keys()), list(d[2016].keys())).size"
   ]
  },
  {
   "cell_type": "markdown",
   "metadata": {},
   "source": [
    "I would be choosing 2015 and 2016 as the successive years"
   ]
  },
  {
   "cell_type": "code",
   "execution_count": 5,
   "metadata": {},
   "outputs": [],
   "source": [
    "use_homes = np.intersect1d(list(d[2016].keys()), list(d[2015].keys()))"
   ]
  },
  {
   "cell_type": "code",
   "execution_count": 6,
   "metadata": {},
   "outputs": [
    {
     "data": {
      "text/plain": [
       "array([  26,   59,   77,   86,   93,   94,  101,  114,  187,  434,  484,\n",
       "        499,  503,  545,  624,  744,  781,  871,  946,  974, 1086, 1103,\n",
       "       1169, 1192, 1202, 1283, 1403, 1415, 1463, 1500, 1507, 1589, 1617,\n",
       "       1632, 1642, 1697, 1700, 1718, 1790, 1800, 1953, 2018, 2094, 2129,\n",
       "       2156, 2171, 2199, 2233, 2365, 2378, 2472, 2532, 2557, 2575, 2638,\n",
       "       2755, 2787, 2814, 2818, 2829, 2859, 2945, 2953, 2965, 3009, 3039,\n",
       "       3044, 3134, 3268, 3310, 3367, 3392, 3456, 3482, 3500, 3527, 3538,\n",
       "       3577, 3649, 3778, 3829, 3831, 3849, 3916, 3918, 3935, 3967, 4031,\n",
       "       4154, 4213, 4220, 4297, 4298, 4336, 4342, 4352, 4357, 4373, 4375,\n",
       "       4473, 4514, 4641, 4767, 4874, 4946, 4957, 4998, 5026, 5060, 5129,\n",
       "       5218, 5275, 5317, 5357, 5403, 5545, 5568, 5677, 5718, 5785, 5809,\n",
       "       5814, 5874, 5889, 5921, 5949, 5959, 5972, 6061, 6063, 6121, 6139,\n",
       "       6165, 6348, 6412, 6423, 6460, 6498, 6691, 6692, 6730, 6990, 7016,\n",
       "       7030, 7361, 7390, 7429, 7504, 7536, 7560, 7627, 7641, 7719, 7731,\n",
       "       7769, 7787, 7788, 7793, 7850, 7875, 7900, 7901, 7940, 7951, 7973,\n",
       "       7989, 8046, 8059, 8079, 8084, 8086, 8092, 8156, 8163, 8197, 8236,\n",
       "       8243, 8292, 8317, 8386, 8419, 8645, 8767, 8807, 8829, 8995, 9001,\n",
       "       9019, 9052, 9121, 9134, 9141, 9160, 9248, 9356, 9484, 9609, 9613,\n",
       "       9647, 9654, 9701, 9729, 9771, 9875, 9912, 9915, 9922, 9932, 9935,\n",
       "       9937, 9938, 9942, 9971, 9982])"
      ]
     },
     "execution_count": 6,
     "metadata": {},
     "output_type": "execute_result"
    }
   ],
   "source": [
    "use_homes"
   ]
  },
  {
   "cell_type": "code",
   "execution_count": 7,
   "metadata": {},
   "outputs": [],
   "source": [
    "APPLIANCE_ORDER = ['use','air1','dishwasher1','furnace1','kitchenapp1','microwave1','refrigerator1']"
   ]
  },
  {
   "cell_type": "markdown",
   "metadata": {},
   "source": [
    "### Creating the tensor data"
   ]
  },
  {
   "cell_type": "code",
   "execution_count": 8,
   "metadata": {},
   "outputs": [],
   "source": [
    "t = np.empty((len(use_homes), len(APPLIANCE_ORDER), 2*12))"
   ]
  },
  {
   "cell_type": "code",
   "execution_count": 9,
   "metadata": {},
   "outputs": [],
   "source": [
    "t[:] = np.NaN"
   ]
  },
  {
   "cell_type": "code",
   "execution_count": 10,
   "metadata": {},
   "outputs": [],
   "source": [
    "for i, home in enumerate(use_homes):\n",
    "    for j, appliance in enumerate(APPLIANCE_ORDER):\n",
    "        try:\n",
    "            t[i, j, :12] = d[2016][home][appliance].values\n",
    "            t[i, j, 12:] = d[2017][home][appliance].values\n",
    "        except:\n",
    "            pass"
   ]
  },
  {
   "cell_type": "code",
   "execution_count": 11,
   "metadata": {},
   "outputs": [
    {
     "data": {
      "text/plain": [
       "(214, 7, 24)"
      ]
     },
     "execution_count": 11,
     "metadata": {},
     "output_type": "execute_result"
    }
   ],
   "source": [
    "t.shape"
   ]
  },
  {
   "cell_type": "markdown",
   "metadata": {},
   "source": [
    "### STF routine"
   ]
  },
  {
   "cell_type": "code",
   "execution_count": 12,
   "metadata": {},
   "outputs": [],
   "source": [
    "def factorise(tensor, r, random_seed=0, num_iter=400, eps=1e-8, lr=1):\n",
    "    np.random.seed(random_seed)\n",
    "    args_num = [1, 2, 3]\n",
    "\n",
    "    def cost(tensor, home, appliance,  month):\n",
    "        pred = np.einsum('Hr, Ar, Tr ->HAT', home, appliance, month)\n",
    "        mask = ~np.isnan(tensor)\n",
    "        error = (pred - tensor)[mask].flatten()\n",
    "        return np.sqrt((error ** 2).mean())\n",
    "\n",
    "    mg = grad(cost, argnum=args_num)\n",
    "    sizes = [(x, r) for x in tensor.shape]\n",
    "    home = np.random.rand(*sizes[0])\n",
    "    appliance = np.random.rand(*sizes[1])\n",
    "    month = np.random.rand(*sizes[2])\n",
    "\n",
    "    sum_home = np.zeros_like(home)\n",
    "    sum_appliance = np.zeros_like(appliance)\n",
    "    sum_month = np.zeros_like(month)\n",
    "\n",
    "    # GD procedure\n",
    "    for i in range(num_iter):\n",
    "        del_home, del_appliance, del_month = mg(tensor, home, appliance, month)\n",
    "\n",
    "        sum_home += eps + np.square(del_home)\n",
    "        lr_home = np.divide(lr, np.sqrt(sum_home))\n",
    "        home -= lr_home * del_home\n",
    "\n",
    "        sum_appliance += eps + np.square(del_appliance)\n",
    "        lr_appliance = np.divide(lr, np.sqrt(sum_appliance))\n",
    "        appliance -= lr_appliance * del_appliance\n",
    "\n",
    "        sum_month += eps + np.square(del_month)\n",
    "        lr_month = np.divide(lr, np.sqrt(sum_month))\n",
    "        month -= lr_month * del_month\n",
    "\n",
    "        \n",
    "        # Projection to non-negative space\n",
    "        home[home < 0] = 1e-8\n",
    "        appliance[appliance < 0] = 1e-8\n",
    "        month[month < 0] = 1e-8\n",
    "\n",
    "        if i % 500 == 0:\n",
    "            #print(cost(tensor, home, appliance, month), i)\n",
    "            sys.stdout.flush()\n",
    "\n",
    "    return home, appliance, month"
   ]
  },
  {
   "cell_type": "markdown",
   "metadata": {},
   "source": [
    "#### Creating the different subsets if data"
   ]
  },
  {
   "cell_type": "code",
   "execution_count": 13,
   "metadata": {},
   "outputs": [],
   "source": [
    "# Test is last 44 homes\n",
    "test_set = t[170:].copy()\n",
    "# In test set, we don't know the appliance data\n",
    "test_set[:, 1:, :] = np.NaN\n",
    "# Train + Pool is the remaining set\n",
    "train_pool_set = t[:170].copy()\n",
    "# Initial train set is 10 homes\n",
    "train_set = t[:10].copy()\n",
    "# Initial pool set is 10-170 homes\n",
    "pool_set = t[10:170].copy()\n",
    "pool_homes = use_homes[10:170]\n",
    "# Train + Test set (useful for factorisation)\n",
    "train_test_set = np.vstack([train_set, test_set])"
   ]
  },
  {
   "cell_type": "markdown",
   "metadata": {},
   "source": [
    "### Creating the set of (home, appliance) pairs for each month that can contain data and thus can be used for acquiring labels"
   ]
  },
  {
   "cell_type": "code",
   "execution_count": 14,
   "metadata": {},
   "outputs": [],
   "source": [
    "p_m_h = {}\n",
    "for month in range(12, 24):\n",
    "    p_m_h[month] = []\n",
    "    for home in pool_homes:\n",
    "        for i, appliance in enumerate(APPLIANCE_ORDER[1:]):\n",
    "            pool_home_index  = np.searchsorted(use_homes, home)\n",
    "            if np.isfinite(t[pool_home_index, i+1, month]):\n",
    "                p_m_h[month].append((home, appliance))"
   ]
  },
  {
   "cell_type": "code",
   "execution_count": 15,
   "metadata": {},
   "outputs": [
    {
     "data": {
      "text/plain": [
       "[(499, 'air1'),\n",
       " (499, 'furnace1'),\n",
       " (499, 'kitchenapp1'),\n",
       " (499, 'refrigerator1'),\n",
       " (503, 'air1')]"
      ]
     },
     "execution_count": 15,
     "metadata": {},
     "output_type": "execute_result"
    }
   ],
   "source": [
    "p_m_h[13][:5]"
   ]
  },
  {
   "cell_type": "markdown",
   "metadata": {},
   "source": [
    "#### Randomly adding 5 homes every month from Pool"
   ]
  },
  {
   "cell_type": "code",
   "execution_count": 42,
   "metadata": {},
   "outputs": [
    {
     "name": "stdout",
     "output_type": "stream",
     "text": [
      "*-*-**-*-**-*-**-*-**-*-**-*-**-*-**-*-**-*-**-*-**-*-**-*-**-*-**-*-**-*-**-*-**-*-**-*-**-*-**-*-*\n",
      "0\n",
      "0 12 59 [(4298, 'microwave1'), (1500, 'dishwasher1'), (2965, 'kitchenapp1'), (4998, 'kitchenapp1'), (7875, 'microwave1')]\n",
      "1 13 64 [(4375, 'refrigerator1'), (1500, 'furnace1'), (3009, 'air1'), (5129, 'air1'), (7951, 'dishwasher1')]\n",
      "2 14 69 [(4946, 'furnace1'), (1500, 'refrigerator1'), (3367, 'furnace1'), (5275, 'kitchenapp1'), (8046, 'dishwasher1')]\n",
      "3 15 74 [(4998, 'dishwasher1'), (1507, 'air1'), (3392, 'furnace1'), (5317, 'furnace1'), (8059, 'microwave1')]\n",
      "4 16 79 [(5026, 'dishwasher1'), (1507, 'dishwasher1'), (3482, 'air1'), (5545, 'kitchenapp1'), (7361, 'microwave1')]\n",
      "5 17 84 [(5218, 'microwave1'), (1507, 'furnace1'), (3482, 'microwave1'), (5809, 'furnace1'), (7627, 'furnace1')]\n",
      "6 18 89 [(5317, 'air1'), (1507, 'microwave1'), (3500, 'dishwasher1'), (5921, 'dishwasher1'), (7769, 'dishwasher1')]\n",
      "7 19 94 [(5677, 'air1'), (1507, 'refrigerator1'), (3649, 'furnace1'), (6063, 'air1'), (7850, 'dishwasher1')]\n",
      "8 20 99 [(5809, 'refrigerator1'), (1632, 'furnace1'), (3831, 'kitchenapp1'), (6139, 'furnace1'), (7940, 'air1')]\n",
      "9 21 104 [(5921, 'kitchenapp1'), (1632, 'refrigerator1'), (3849, 'furnace1'), (6460, 'dishwasher1'), (7973, 'air1')]\n",
      "10 22 109 [(6061, 'air1'), (1953, 'furnace1'), (3967, 'air1'), (7016, 'air1'), (8059, 'air1')]\n",
      "11 23 114 [(6165, 'dishwasher1'), (1953, 'refrigerator1'), (3967, 'refrigerator1'), (7560, 'microwave1'), (2472, 'kitchenapp1')]\n",
      "*-*-**-*-**-*-**-*-**-*-**-*-**-*-**-*-**-*-**-*-**-*-**-*-**-*-**-*-**-*-**-*-**-*-**-*-**-*-**-*-*\n",
      "1\n",
      "0 12 59 [(1202, 'air1'), (5921, 'air1'), (2156, 'furnace1'), (6139, 'dishwasher1'), (5218, 'microwave1')]\n",
      "1 13 64 [(1202, 'dishwasher1'), (5959, 'dishwasher1'), (2171, 'dishwasher1'), (6460, 'kitchenapp1'), (5317, 'furnace1')]\n",
      "2 14 69 [(1415, 'air1'), (6165, 'furnace1'), (2199, 'air1'), (7361, 'microwave1'), (5677, 'kitchenapp1')]\n",
      "3 15 74 [(1415, 'dishwasher1'), (6691, 'air1'), (2378, 'furnace1'), (7627, 'kitchenapp1'), (5874, 'air1')]\n",
      "4 16 79 [(1415, 'furnace1'), (7504, 'air1'), (2472, 'kitchenapp1'), (7769, 'refrigerator1'), (5949, 'furnace1')]\n",
      "5 17 84 [(1415, 'kitchenapp1'), (7641, 'dishwasher1'), (2532, 'furnace1'), (7850, 'refrigerator1'), (6139, 'furnace1')]\n",
      "6 18 89 [(1415, 'microwave1'), (7850, 'air1'), (2557, 'air1'), (7989, 'air1'), (6691, 'refrigerator1')]\n",
      "7 19 94 [(1415, 'refrigerator1'), (7940, 'refrigerator1'), (4946, 'microwave1'), (2638, 'air1'), (8084, 'air1')]\n",
      "8 20 99 [(1500, 'microwave1'), (8046, 'refrigerator1'), (5218, 'air1'), (2859, 'dishwasher1'), (5026, 'air1')]\n",
      "9 21 104 [(1632, 'kitchenapp1'), (5317, 'microwave1'), (2859, 'refrigerator1'), (5275, 'air1'), (7850, 'furnace1')]\n",
      "10 22 109 [(1953, 'furnace1'), (5874, 'furnace1'), (2965, 'microwave1'), (5809, 'microwave1'), (7951, 'furnace1')]\n",
      "11 23 114 [(1953, 'refrigerator1'), (6139, 'air1'), (3134, 'air1'), (6063, 'kitchenapp1'), (5949, 'kitchenapp1')]\n",
      "*-*-**-*-**-*-**-*-**-*-**-*-**-*-**-*-**-*-**-*-**-*-**-*-**-*-**-*-**-*-**-*-**-*-**-*-**-*-**-*-*\n",
      "2\n",
      "0 12 59 [(4213, 'refrigerator1'), (781, 'microwave1'), (2156, 'furnace1'), (871, 'refrigerator1'), (7641, 'furnace1')]\n",
      "1 13 64 [(4514, 'air1'), (781, 'refrigerator1'), (2171, 'kitchenapp1'), (1086, 'air1'), (7850, 'furnace1')]\n",
      "2 14 69 [(4998, 'refrigerator1'), (871, 'dishwasher1'), (2378, 'refrigerator1'), (1086, 'microwave1'), (7973, 'air1')]\n",
      "3 15 74 [(5275, 'dishwasher1'), (871, 'furnace1'), (2532, 'furnace1'), (1103, 'air1'), (8079, 'microwave1')]\n",
      "4 16 79 [(5545, 'kitchenapp1'), (871, 'kitchenapp1'), (2814, 'dishwasher1'), (1169, 'dishwasher1'), (2814, 'refrigerator1')]\n",
      "5 17 84 [(5921, 'furnace1'), (871, 'microwave1'), (2859, 'kitchenapp1'), (1169, 'kitchenapp1'), (2953, 'refrigerator1')]\n",
      "6 18 89 [(6063, 'refrigerator1'), (974, 'air1'), (8046, 'refrigerator1'), (2965, 'furnace1'), (1169, 'refrigerator1')]\n",
      "7 19 94 [(7016, 'kitchenapp1'), (1086, 'dishwasher1'), (3367, 'microwave1'), (1202, 'furnace1'), (2171, 'refrigerator1')]\n",
      "8 20 99 [(7627, 'refrigerator1'), (1086, 'furnace1'), (3500, 'refrigerator1'), (1500, 'microwave1'), (2472, 'dishwasher1')]\n",
      "9 21 104 [(7788, 'furnace1'), (1169, 'air1'), (3849, 'air1'), (1632, 'refrigerator1'), (2557, 'furnace1')]\n",
      "10 22 109 [(7989, 'furnace1'), (1192, 'air1'), (3967, 'microwave1'), (2129, 'air1'), (2859, 'microwave1')]\n",
      "11 23 114 [(1500, 'air1'), (4336, 'air1'), (2156, 'microwave1'), (3134, 'air1'), (4375, 'microwave1')]\n",
      "*-*-**-*-**-*-**-*-**-*-**-*-**-*-**-*-**-*-**-*-**-*-**-*-**-*-**-*-**-*-**-*-**-*-**-*-**-*-**-*-*\n",
      "3\n",
      "0 12 59 [(3831, 'microwave1'), (6063, 'dishwasher1'), (3392, 'refrigerator1'), (6139, 'furnace1'), (7016, 'microwave1')]\n",
      "1 13 64 [(3967, 'microwave1'), (6460, 'microwave1'), (3500, 'furnace1'), (7016, 'kitchenapp1'), (7641, 'kitchenapp1')]\n",
      "2 14 69 [(4514, 'furnace1'), (7627, 'furnace1'), (3849, 'dishwasher1'), (7641, 'refrigerator1'), (7900, 'air1')]\n",
      "3 15 74 [(4998, 'microwave1'), (7850, 'air1'), (4213, 'air1'), (7875, 'refrigerator1'), (8059, 'furnace1')]\n",
      "4 16 79 [(5275, 'refrigerator1'), (7989, 'microwave1'), (4375, 'microwave1'), (8059, 'dishwasher1'), (5218, 'kitchenapp1')]\n",
      "5 17 84 [(3849, 'microwave1'), (5809, 'microwave1'), (5026, 'furnace1'), (7016, 'air1'), (7641, 'dishwasher1')]\n",
      "6 18 89 [(4213, 'microwave1'), (6063, 'furnace1'), (5317, 'microwave1'), (7769, 'air1'), (7940, 'furnace1')]\n",
      "7 19 94 [(4946, 'dishwasher1'), (7361, 'air1'), (5921, 'refrigerator1'), (7951, 'kitchenapp1'), (499, 'air1')]\n",
      "8 20 99 [(5317, 'kitchenapp1'), (7787, 'refrigerator1'), (6460, 'dishwasher1'), (499, 'furnace1'), (1500, 'microwave1')]\n",
      "9 21 104 [(6061, 'air1'), (8046, 'kitchenapp1'), (7641, 'microwave1'), (499, 'kitchenapp1'), (1800, 'air1')]\n",
      "10 22 109 [(7016, 'refrigerator1'), (7951, 'refrigerator1'), (499, 'refrigerator1'), (2156, 'microwave1'), (7030, 'air1')]\n",
      "11 23 114 [(7850, 'microwave1'), (2472, 'air1'), (744, 'air1'), (4297, 'air1'), (5809, 'air1')]\n",
      "*-*-**-*-**-*-**-*-**-*-**-*-**-*-**-*-**-*-**-*-**-*-**-*-**-*-**-*-**-*-**-*-**-*-**-*-**-*-**-*-*\n",
      "4\n",
      "0 12 59 [(3310, 'air1'), (4357, 'air1'), (5026, 'furnace1'), (8084, 'air1'), (2378, 'refrigerator1')]\n",
      "1 13 64 [(3482, 'air1'), (4998, 'dishwasher1'), (5317, 'refrigerator1'), (2532, 'furnace1'), (7951, 'furnace1')]\n",
      "2 14 69 [(3829, 'air1'), (5317, 'kitchenapp1'), (5921, 'microwave1'), (2814, 'microwave1'), (2129, 'air1')]\n",
      "3 15 74 [(3967, 'dishwasher1'), (5814, 'furnace1'), (6412, 'air1'), (2953, 'air1'), (2171, 'furnace1')]\n",
      "4 16 79 [(4375, 'microwave1'), (6063, 'refrigerator1'), (6460, 'furnace1'), (7560, 'refrigerator1'), (4946, 'refrigerator1')]\n",
      "5 17 84 [(5026, 'air1'), (7504, 'dishwasher1'), (7641, 'dishwasher1'), (7850, 'microwave1'), (5275, 'microwave1')]\n",
      "6 18 89 [(5545, 'air1'), (7788, 'furnace1'), (7940, 'microwave1'), (8079, 'dishwasher1'), (5809, 'refrigerator1')]\n",
      "7 19 94 [(6063, 'kitchenapp1'), (6423, 'air1'), (5218, 'air1'), (3967, 'refrigerator1'), (2532, 'microwave1')]\n",
      "8 20 99 [(7627, 'refrigerator1'), (7787, 'refrigerator1'), (6063, 'microwave1'), (4998, 'air1'), (2859, 'microwave1')]\n",
      "9 21 104 [(7951, 'air1'), (8059, 'air1'), (7560, 'air1'), (5814, 'air1'), (3367, 'dishwasher1')]\n",
      "10 22 109 [(3527, 'air1'), (4213, 'furnace1'), (5317, 'dishwasher1'), (503, 'furnace1'), (7989, 'furnace1')]\n",
      "11 23 114 [(4297, 'air1'), (5218, 'refrigerator1'), (7361, 'furnace1'), (503, 'refrigerator1'), (8046, 'microwave1')]\n",
      "*-*-**-*-**-*-**-*-**-*-**-*-**-*-**-*-**-*-**-*-**-*-**-*-**-*-**-*-**-*-**-*-**-*-**-*-**-*-**-*-*\n",
      "5\n",
      "0 12 59 [(8079, 'dishwasher1'), (5275, 'dishwasher1'), (4998, 'air1'), (2965, 'microwave1'), (2156, 'microwave1')]\n",
      "1 13 64 [(5809, 'microwave1'), (5317, 'dishwasher1'), (3392, 'kitchenapp1'), (2171, 'refrigerator1'), (503, 'microwave1')]\n",
      "2 14 69 [(6165, 'refrigerator1'), (5921, 'refrigerator1'), (3831, 'air1'), (2532, 'air1'), (744, 'air1')]\n",
      "3 15 74 [(7627, 'kitchenapp1'), (6691, 'air1'), (4213, 'dishwasher1'), (2814, 'dishwasher1'), (781, 'air1')]\n",
      "4 16 79 [(3849, 'microwave1'), (7940, 'air1'), (7731, 'air1'), (4946, 'refrigerator1'), (5814, 'air1')]\n",
      "5 17 84 [(4298, 'air1'), (7951, 'kitchenapp1'), (5317, 'air1'), (6165, 'air1'), (3367, 'dishwasher1')]\n",
      "6 18 89 [(4946, 'microwave1'), (5949, 'kitchenapp1'), (7641, 'air1'), (3500, 'dishwasher1'), (781, 'dishwasher1')]\n"
     ]
    },
    {
     "name": "stdout",
     "output_type": "stream",
     "text": [
      "7 19 94 [(5921, 'kitchenapp1'), (7560, 'furnace1'), (8059, 'air1'), (3849, 'refrigerator1'), (781, 'furnace1')]\n",
      "8 20 99 [(7627, 'dishwasher1'), (5545, 'furnace1'), (7940, 'dishwasher1'), (3849, 'kitchenapp1'), (7787, 'air1')]\n",
      "9 21 104 [(8046, 'kitchenapp1'), (7016, 'dishwasher1'), (4946, 'air1'), (8079, 'kitchenapp1'), (1800, 'air1')]\n",
      "10 22 109 [(7951, 'refrigerator1'), (6139, 'refrigerator1'), (2156, 'refrigerator1'), (7788, 'dishwasher1'), (1192, 'air1')]\n",
      "11 23 114 [(8046, 'air1'), (2378, 'air1'), (1953, 'air1'), (8046, 'furnace1'), (3134, 'air1')]\n",
      "*-*-**-*-**-*-**-*-**-*-**-*-**-*-**-*-**-*-**-*-**-*-**-*-**-*-**-*-**-*-**-*-**-*-**-*-**-*-**-*-*\n",
      "6\n",
      "0 12 59 [(5218, 'furnace1'), (5809, 'dishwasher1'), (2859, 'air1'), (7951, 'kitchenapp1'), (7951, 'microwave1')]\n",
      "1 13 64 [(5809, 'air1'), (6139, 'refrigerator1'), (2965, 'dishwasher1'), (8079, 'furnace1'), (7850, 'air1')]\n",
      "2 14 69 [(6412, 'air1'), (7627, 'kitchenapp1'), (3482, 'microwave1'), (8079, 'refrigerator1'), (499, 'furnace1')]\n",
      "3 15 74 [(5275, 'air1'), (7641, 'microwave1'), (7951, 'refrigerator1'), (7788, 'furnace1'), (3849, 'kitchenapp1')]\n",
      "4 16 79 [(5921, 'furnace1'), (7989, 'air1'), (8079, 'air1'), (4375, 'microwave1'), (4514, 'refrigerator1')]\n",
      "5 17 84 [(6691, 'refrigerator1'), (5218, 'air1'), (5275, 'microwave1'), (3527, 'air1'), (5218, 'air1')]\n",
      "6 18 89 [(7788, 'air1'), (5921, 'kitchenapp1'), (6061, 'air1'), (3849, 'refrigerator1'), (5921, 'kitchenapp1')]\n",
      "7 19 94 [(7627, 'dishwasher1'), (7787, 'furnace1'), (4946, 'dishwasher1'), (7627, 'dishwasher1'), (4998, 'furnace1')]\n",
      "8 20 99 [(1169, 'air1'), (6063, 'microwave1'), (8046, 'furnace1'), (7560, 'microwave1'), (7016, 'dishwasher1')]\n",
      "9 21 104 [(1192, 'air1'), (7850, 'kitchenapp1'), (8046, 'air1'), (8046, 'kitchenapp1'), (6139, 'air1')]\n",
      "10 22 109 [(1953, 'air1'), (7940, 'kitchenapp1'), (2814, 'furnace1'), (503, 'furnace1'), (7627, 'air1')]\n",
      "11 23 114 [(2156, 'dishwasher1'), (2156, 'air1'), (5026, 'kitchenapp1'), (2859, 'furnace1'), (7361, 'furnace1')]\n",
      "*-*-**-*-**-*-**-*-**-*-**-*-**-*-**-*-**-*-**-*-**-*-**-*-**-*-**-*-**-*-**-*-**-*-**-*-**-*-**-*-*\n",
      "7\n",
      "0 12 59 [(4375, 'air1'), (5026, 'dishwasher1'), (1086, 'dishwasher1'), (1953, 'furnace1'), (5317, 'air1')]\n",
      "1 13 64 [(5218, 'kitchenapp1'), (5809, 'air1'), (1086, 'refrigerator1'), (2171, 'dishwasher1'), (5949, 'furnace1')]\n",
      "2 14 69 [(5921, 'kitchenapp1'), (6460, 'dishwasher1'), (1169, 'kitchenapp1'), (2472, 'dishwasher1'), (7504, 'dishwasher1')]\n",
      "3 15 74 [(7361, 'air1'), (7787, 'refrigerator1'), (1415, 'dishwasher1'), (2814, 'dishwasher1'), (7940, 'microwave1')]\n",
      "4 16 79 [(7850, 'microwave1'), (8079, 'air1'), (1415, 'refrigerator1'), (2965, 'furnace1'), (7030, 'air1')]\n",
      "5 17 84 [(1507, 'microwave1'), (3482, 'dishwasher1'), (7875, 'air1'), (5545, 'air1'), (4946, 'air1')]\n",
      "6 18 89 [(1632, 'kitchenapp1'), (3831, 'dishwasher1'), (6165, 'dishwasher1'), (5809, 'refrigerator1'), (1632, 'air1')]\n",
      "7 19 94 [(3134, 'air1'), (4514, 'microwave1'), (2156, 'dishwasher1'), (4514, 'dishwasher1'), (6460, 'air1')]\n",
      "8 20 99 [(3849, 'air1'), (7560, 'microwave1'), (2199, 'furnace1'), (7560, 'air1'), (8046, 'microwave1')]\n",
      "9 21 104 [(5874, 'furnace1'), (2557, 'refrigerator1'), (2532, 'dishwasher1'), (7875, 'furnace1'), (1953, 'refrigerator1')]\n",
      "10 22 109 [(781, 'kitchenapp1'), (3500, 'air1'), (503, 'refrigerator1'), (2965, 'air1'), (3392, 'microwave1')]\n",
      "11 23 114 [(3482, 'furnace1'), (2156, 'air1'), (7361, 'furnace1'), (5677, 'furnace1'), (1500, 'air1')]\n",
      "*-*-**-*-**-*-**-*-**-*-**-*-**-*-**-*-**-*-**-*-**-*-**-*-**-*-**-*-**-*-**-*-**-*-**-*-**-*-**-*-*\n",
      "8\n",
      "0 12 59 [(7989, 'furnace1'), (3482, 'dishwasher1'), (3482, 'refrigerator1'), (7989, 'air1'), (8084, 'air1')]\n",
      "1 13 64 [(3831, 'kitchenapp1'), (3849, 'furnace1'), (5677, 'air1'), (1507, 'furnace1'), (2532, 'microwave1')]\n",
      "2 14 69 [(4514, 'refrigerator1'), (4946, 'furnace1'), (6460, 'furnace1'), (1632, 'refrigerator1'), (2859, 'refrigerator1')]\n",
      "3 15 74 [(7875, 'furnace1'), (3500, 'air1'), (4297, 'air1'), (5677, 'furnace1'), (8079, 'microwave1')]\n",
      "4 16 79 [(3967, 'furnace1'), (5275, 'refrigerator1'), (6460, 'refrigerator1'), (7016, 'dishwasher1'), (3967, 'air1')]\n",
      "5 17 84 [(4998, 'furnace1'), (6063, 'furnace1'), (7850, 'dishwasher1'), (7875, 'air1'), (4946, 'microwave1')]\n",
      "6 18 89 [(4213, 'furnace1'), (6061, 'air1'), (7951, 'air1'), (7787, 'microwave1'), (503, 'kitchenapp1')]\n",
      "7 19 94 [(6139, 'air1'), (7940, 'refrigerator1'), (503, 'refrigerator1'), (8059, 'kitchenapp1'), (871, 'air1')]\n",
      "8 20 99 [(1086, 'furnace1'), (1169, 'microwave1'), (8046, 'microwave1'), (6063, 'microwave1'), (8046, 'air1')]\n",
      "9 21 104 [(781, 'kitchenapp1'), (2557, 'refrigerator1'), (7940, 'kitchenapp1'), (1192, 'air1'), (3367, 'refrigerator1')]\n",
      "10 22 109 [(1500, 'air1'), (3649, 'refrigerator1'), (3367, 'air1'), (2199, 'dishwasher1'), (2156, 'air1')]\n",
      "11 23 114 [(2378, 'air1'), (2472, 'air1'), (2171, 'air1'), (4298, 'furnace1'), (2472, 'furnace1')]\n",
      "*-*-**-*-**-*-**-*-**-*-**-*-**-*-**-*-**-*-**-*-**-*-**-*-**-*-**-*-**-*-**-*-**-*-**-*-**-*-**-*-*\n",
      "9\n",
      "0 12 59 [(8059, 'air1'), (3367, 'microwave1'), (1507, 'microwave1'), (6063, 'kitchenapp1'), (3367, 'furnace1')]\n",
      "1 13 64 [(3778, 'furnace1'), (1632, 'refrigerator1'), (7627, 'microwave1'), (3778, 'air1'), (2171, 'air1')]\n",
      "2 14 69 [(4514, 'refrigerator1'), (3392, 'furnace1'), (4514, 'refrigerator1'), (8046, 'microwave1'), (6460, 'dishwasher1')]\n",
      "3 15 74 [(5545, 'refrigerator1'), (3967, 'dishwasher1'), (5545, 'refrigerator1'), (7850, 'dishwasher1'), (2532, 'refrigerator1')]\n",
      "4 16 79 [(6691, 'refrigerator1'), (4998, 'furnace1'), (6691, 'refrigerator1'), (2859, 'kitchenapp1'), (7788, 'dishwasher1')]\n",
      "5 17 84 [(7940, 'kitchenapp1'), (5949, 'dishwasher1'), (7940, 'kitchenapp1'), (3367, 'refrigerator1'), (7940, 'furnace1')]\n",
      "6 18 89 [(7627, 'refrigerator1'), (3500, 'dishwasher1'), (3649, 'furnace1'), (1507, 'refrigerator1'), (4336, 'air1')]\n",
      "7 19 94 [(5545, 'furnace1'), (5959, 'air1'), (2156, 'dishwasher1'), (7560, 'furnace1'), (2156, 'dishwasher1')]\n",
      "8 20 99 [(2859, 'dishwasher1'), (8046, 'furnace1'), (8046, 'kitchenapp1'), (2472, 'air1'), (499, 'refrigerator1')]\n",
      "9 21 104 [(5218, 'refrigerator1'), (3367, 'air1'), (503, 'furnace1'), (3367, 'air1'), (5026, 'kitchenapp1')]\n",
      "10 22 109 [(1500, 'air1'), (2472, 'furnace1'), (7016, 'refrigerator1'), (1500, 'air1'), (1169, 'furnace1')]\n",
      "11 23 114 [(7361, 'furnace1'), (3482, 'furnace1'), (7361, 'furnace1'), (4298, 'furnace1'), (7361, 'furnace1')]\n"
     ]
    }
   ],
   "source": [
    "pred_df_random = {}\n",
    "for seed in range(10):\n",
    "    print(\"*-*-*\"*20)\n",
    "    print(seed)\n",
    "    pool_use = np.empty((0, 7, 24))\n",
    "    pool_set_iter = p_m_h.copy()\n",
    "    pred_df_random[seed] = {}\n",
    "    pool_remove_ix = {}\n",
    "    pool_remove = {}\n",
    "    gt_df = {}\n",
    "\n",
    "    for cur_iteration, month in enumerate(range(12, 24)):\n",
    "        np.random.seed(seed)\n",
    "        # Randomly choose `n` to remove from pool and put in training set\n",
    "        pool_remove_ix[cur_iteration] = np.random.choice(range(len(pool_set_iter[month])), size=5)\n",
    "        pool_remove[month] = [pool_set_iter[month][x] for x in pool_remove_ix[cur_iteration]]\n",
    "\n",
    "        # Remove these from future months pool too\n",
    "        for month_f in range(month+1, 24):\n",
    "            for x in pool_remove[month]:\n",
    "                if x in pool_set_iter[month_f]:\n",
    "                    pool_set_iter[month_f].remove(x)\n",
    "\n",
    "\n",
    "        # Getting data from `t` to create the pool_use_set\n",
    "        pool_remove_homes = [x[0] for x in pool_remove[month]]\n",
    "        pool_remove_homes_ix = np.searchsorted(use_homes, pool_remove_homes)\n",
    "\n",
    "        cur_pool = t[pool_remove_homes_ix, :, :].copy()\n",
    "        # All past data is unknown\n",
    "        cur_pool[:, 1:, :month] = np.NaN\n",
    "\n",
    "        # All future data for all appliances except the chosen one is known\n",
    "        cur_pool[:, 1:, month:] = np.NaN\n",
    "        for q, h in enumerate(pool_remove_homes_ix):\n",
    "            appliance_num = APPLIANCE_ORDER.index(pool_remove[month][q][1])\n",
    "            cur_pool[q, appliance_num, month:] = t[h, appliance_num, month:]\n",
    "\n",
    "        pool_use = np.concatenate([pool_use, cur_pool])\n",
    "\n",
    "        pool_train_test = np.concatenate([pool_use, train_test_set[:, :, :] ])\n",
    "\n",
    "        h, a, m =factorise(pool_train_test[:, :, :month], 3)\n",
    "        print(cur_iteration, month, len(pool_train_test), pool_remove[month])\n",
    "\n",
    "        pred = np.einsum('Hr, Ar, Tr ->HAT', h, a, m)\n",
    "        pred_df_random[seed][month] = pred[len(train_set)+len(pool_use):,1:, month-1:month].reshape(-1, len(APPLIANCE_ORDER)-1)\n",
    "        gt_df[month] = t[170:][:, 1:, month-1:month].reshape(len(test_set), len(APPLIANCE_ORDER)-1)"
   ]
  },
  {
   "cell_type": "markdown",
   "metadata": {},
   "source": [
    "### Active learning"
   ]
  },
  {
   "cell_type": "code",
   "execution_count": 33,
   "metadata": {},
   "outputs": [
    {
     "name": "stdout",
     "output_type": "stream",
     "text": [
      "12 2\n",
      "12 3\n",
      "12 4\n",
      "12 5\n",
      "12 6\n",
      "12 7\n",
      "0 12 59 [(5357, 'refrigerator1'), (5357, 'dishwasher1'), (4336, 'kitchenapp1'), (4336, 'air1'), (5357, 'microwave1')]\n",
      "13 2\n",
      "13 3\n",
      "13 4\n",
      "13 5\n",
      "13 6\n",
      "13 7\n",
      "1 13 64 [(3916, 'air1'), (7016, 'furnace1'), (5357, 'kitchenapp1'), (7719, 'refrigerator1'), (4154, 'air1')]\n",
      "14 2\n",
      "14 3\n",
      "14 4\n",
      "14 5\n",
      "14 6\n",
      "14 7\n",
      "2 14 69 [(2365, 'refrigerator1'), (4375, 'microwave1'), (2365, 'furnace1'), (7719, 'air1'), (4375, 'kitchenapp1')]\n",
      "15 2\n",
      "15 3\n",
      "15 4\n",
      "15 5\n",
      "15 6\n",
      "15 7\n",
      "3 15 74 [(1700, 'dishwasher1'), (7719, 'furnace1'), (1700, 'microwave1'), (3918, 'furnace1'), (3918, 'kitchenapp1')]\n",
      "16 2\n",
      "16 3\n",
      "16 4\n",
      "16 5\n",
      "16 6\n",
      "16 7\n",
      "4 16 79 [(1700, 'kitchenapp1'), (5357, 'air1'), (7719, 'dishwasher1'), (2018, 'air1'), (5357, 'furnace1')]\n",
      "17 2\n",
      "17 3\n",
      "17 4\n",
      "17 5\n",
      "17 6\n",
      "17 7\n",
      "5 17 84 [(7719, 'microwave1'), (2365, 'air1'), (484, 'dishwasher1'), (3044, 'kitchenapp1'), (1790, 'kitchenapp1')]\n",
      "18 2\n",
      "18 3\n",
      "18 4\n",
      "18 5\n",
      "18 6\n",
      "18 7\n",
      "6 18 89 [(2018, 'dishwasher1'), (7016, 'refrigerator1'), (4957, 'refrigerator1'), (4375, 'refrigerator1'), (3039, 'dishwasher1')]\n",
      "19 2\n",
      "19 3\n",
      "19 4\n",
      "19 5\n",
      "19 6\n",
      "19 7\n",
      "7 19 94 [(5972, 'refrigerator1'), (5972, 'air1'), (484, 'refrigerator1'), (6691, 'microwave1'), (484, 'air1')]\n",
      "20 2\n",
      "20 3\n",
      "20 4\n",
      "20 5\n",
      "20 6\n",
      "20 7\n",
      "8 20 99 [(3039, 'furnace1'), (1507, 'kitchenapp1'), (7719, 'kitchenapp1'), (7793, 'furnace1'), (6691, 'kitchenapp1')]\n",
      "21 2\n",
      "21 3\n",
      "21 4\n",
      "21 5\n",
      "21 6\n",
      "21 7\n",
      "9 21 104 [(4154, 'kitchenapp1'), (3916, 'kitchenapp1'), (3918, 'air1'), (3039, 'kitchenapp1'), (1790, 'air1')]\n",
      "22 2\n",
      "22 3\n",
      "22 4\n",
      "22 5\n",
      "22 6\n",
      "22 7\n",
      "10 22 109 [(7016, 'air1'), (1507, 'air1'), (3039, 'refrigerator1'), (4767, 'air1'), (1700, 'furnace1')]\n",
      "23 2\n",
      "23 3\n",
      "23 4\n",
      "23 5\n",
      "23 6\n",
      "23 7\n",
      "11 23 114 [(2018, 'refrigerator1'), (7793, 'refrigerator1'), (5972, 'furnace1'), (3044, 'refrigerator1'), (3039, 'air1')]\n"
     ]
    }
   ],
   "source": [
    "pool_use = np.empty((0, 7, 24))\n",
    "gt_df = {}\n",
    "pred_df_active = {}\n",
    "pool_remove_active = {}\n",
    "pool_set_active = {}\n",
    "all_seen = []\n",
    "\n",
    "for cur_iteration, month in enumerate(range(12, 24)):\n",
    "    \n",
    "    # Get all the homes from the currently available pool\n",
    "\n",
    "    pred_pool = {}\n",
    "    psc = pool_set.copy()\n",
    "    psc[:, 1:, :] = np.NaN\n",
    "    month_contri = (pd.DataFrame(train_set[:, :, month]).mean()/pd.DataFrame(train_set[:, :, month]).mean()[0]).drop(0).to_dict()\n",
    "    # Starting with current data and finding the variance amongst different #Latent factors\n",
    "    for r in range(2, 8):\n",
    "        print(month, r)\n",
    "        pool_train = np.concatenate([psc, train_set[:, :, :] ])\n",
    "        h, a, m =factorise(pool_train[:, :, :month], r)\n",
    "        pred_pool[r] = np.einsum('Hr, Ar, Tr ->HAT', h, a, m)[:len(pool_set)]\n",
    "        \n",
    "    # Finding the top-most `n` highly variance homes\n",
    "    # measure = std/contri\n",
    "    temp = []\n",
    "    for appliance_num, appliance in enumerate(APPLIANCE_ORDER[1:]):\n",
    "        y = pd.DataFrame({r:pd.Series(pred_pool[r][:, appliance_num+1, -1])for r in range(2, 8)}).std(axis=1)/month_contri[appliance_num+1]\n",
    "        y.index = [(x, appliance) for x in pool_homes]\n",
    "        y = (y - y.min())/(y.max()-y.min())\n",
    "        temp.append(y)\n",
    "        \n",
    "    pool_remove_active[month] = pd.concat(temp).sort_values(ascending=False).drop(all_seen).head(5).index.tolist() \n",
    "    \n",
    "    all_seen.extend(pool_remove_active[month])\n",
    "    all_seen = list(set(all_seen))\n",
    "    \n",
    "    # Getting data from `t` to create the pool_use_set\n",
    "    pool_remove_homes_active = [x[0] for x in pool_remove_active[month]]\n",
    "    pool_remove_homes_active_ix = np.searchsorted(use_homes, pool_remove_homes_active)\n",
    "    \n",
    "    cur_pool = t[pool_remove_homes_active_ix, :, :].copy()\n",
    "    # All past data is unknown\n",
    "    cur_pool[:, 1:, :month] = np.NaN\n",
    "    \n",
    "    # All future data for all appliances except the chosen one is known\n",
    "    cur_pool[:, 1:, month:] = np.NaN\n",
    "    for q, h in enumerate(pool_remove_homes_ix):\n",
    "        appliance_num = APPLIANCE_ORDER.index(pool_remove[month][q][1])\n",
    "        cur_pool[q, appliance_num, month:] = t[h, appliance_num, month:]\n",
    "    \n",
    "    pool_use = np.concatenate([pool_use, cur_pool])\n",
    "    \n",
    "    pool_train_test = np.concatenate([pool_use, train_test_set[:, :, :] ])\n",
    "\n",
    "    h, a, m =factorise(pool_train_test[:, :, :month], 3)\n",
    "    print(cur_iteration, month, len(pool_train_test), pool_remove_active[month])\n",
    "    \n",
    "    pred = np.einsum('Hr, Ar, Tr ->HAT', h, a, m)\n",
    "    pred_df_active[month] = pred[len(train_set)+len(pool_use):,1:, month-1:month].reshape(-1, len(APPLIANCE_ORDER)-1)\n",
    "    gt_df[month] = t[170:][:, 1:, month-1:month].reshape(len(test_set), len(APPLIANCE_ORDER)-1)"
   ]
  },
  {
   "cell_type": "code",
   "execution_count": 79,
   "metadata": {},
   "outputs": [],
   "source": [
    "random_error = {}\n",
    "for seed in range(10):\n",
    "    random_error[seed] = {}\n",
    "    for month in range(13, 24):\n",
    "        random_error[seed][month] = (pd.DataFrame(pred_df_random[seed][month])-pd.DataFrame(gt_df[month])).abs().mean()\n",
    "active_error = {}\n",
    "for month in range(13, 24):\n",
    "    active_error[month] = (pd.DataFrame(pred_df_active[month])-pd.DataFrame(gt_df[month])).abs().mean()"
   ]
  },
  {
   "cell_type": "code",
   "execution_count": 80,
   "metadata": {},
   "outputs": [],
   "source": [
    "p = pd.Panel(random_error)"
   ]
  },
  {
   "cell_type": "code",
   "execution_count": 81,
   "metadata": {},
   "outputs": [
    {
     "data": {
      "text/html": [
       "<div>\n",
       "<style>\n",
       "    .dataframe thead tr:only-child th {\n",
       "        text-align: right;\n",
       "    }\n",
       "\n",
       "    .dataframe thead th {\n",
       "        text-align: left;\n",
       "    }\n",
       "\n",
       "    .dataframe tbody tr th {\n",
       "        vertical-align: top;\n",
       "    }\n",
       "</style>\n",
       "<table border=\"1\" class=\"dataframe\">\n",
       "  <thead>\n",
       "    <tr style=\"text-align: right;\">\n",
       "      <th></th>\n",
       "      <th>13</th>\n",
       "      <th>14</th>\n",
       "      <th>15</th>\n",
       "      <th>16</th>\n",
       "      <th>17</th>\n",
       "      <th>18</th>\n",
       "      <th>19</th>\n",
       "      <th>20</th>\n",
       "      <th>21</th>\n",
       "      <th>22</th>\n",
       "      <th>23</th>\n",
       "    </tr>\n",
       "  </thead>\n",
       "  <tbody>\n",
       "    <tr>\n",
       "      <th>0</th>\n",
       "      <td>177.393485</td>\n",
       "      <td>94.820569</td>\n",
       "      <td>98.072723</td>\n",
       "      <td>112.918698</td>\n",
       "      <td>147.953004</td>\n",
       "      <td>252.976824</td>\n",
       "      <td>256.378964</td>\n",
       "      <td>246.181248</td>\n",
       "      <td>218.886419</td>\n",
       "      <td>196.371745</td>\n",
       "      <td>93.047125</td>\n",
       "    </tr>\n",
       "    <tr>\n",
       "      <th>1</th>\n",
       "      <td>13.309036</td>\n",
       "      <td>13.334532</td>\n",
       "      <td>15.716005</td>\n",
       "      <td>13.848108</td>\n",
       "      <td>13.710928</td>\n",
       "      <td>13.359515</td>\n",
       "      <td>14.885358</td>\n",
       "      <td>12.856529</td>\n",
       "      <td>8.873382</td>\n",
       "      <td>7.041745</td>\n",
       "      <td>9.713556</td>\n",
       "    </tr>\n",
       "    <tr>\n",
       "      <th>2</th>\n",
       "      <td>123.053688</td>\n",
       "      <td>71.923485</td>\n",
       "      <td>84.473117</td>\n",
       "      <td>98.725789</td>\n",
       "      <td>95.935418</td>\n",
       "      <td>115.850293</td>\n",
       "      <td>130.116565</td>\n",
       "      <td>124.032123</td>\n",
       "      <td>106.695463</td>\n",
       "      <td>69.373974</td>\n",
       "      <td>73.963473</td>\n",
       "    </tr>\n",
       "    <tr>\n",
       "      <th>3</th>\n",
       "      <td>9.645299</td>\n",
       "      <td>11.006250</td>\n",
       "      <td>10.497685</td>\n",
       "      <td>11.195697</td>\n",
       "      <td>11.887482</td>\n",
       "      <td>10.918466</td>\n",
       "      <td>10.333526</td>\n",
       "      <td>9.409942</td>\n",
       "      <td>9.647842</td>\n",
       "      <td>9.156702</td>\n",
       "      <td>8.549100</td>\n",
       "    </tr>\n",
       "    <tr>\n",
       "      <th>4</th>\n",
       "      <td>11.692926</td>\n",
       "      <td>7.630665</td>\n",
       "      <td>7.337542</td>\n",
       "      <td>8.753992</td>\n",
       "      <td>6.605366</td>\n",
       "      <td>7.192323</td>\n",
       "      <td>8.024719</td>\n",
       "      <td>7.295923</td>\n",
       "      <td>7.700000</td>\n",
       "      <td>6.613827</td>\n",
       "      <td>6.135563</td>\n",
       "    </tr>\n",
       "    <tr>\n",
       "      <th>5</th>\n",
       "      <td>39.445713</td>\n",
       "      <td>39.653900</td>\n",
       "      <td>43.379699</td>\n",
       "      <td>42.429323</td>\n",
       "      <td>43.545624</td>\n",
       "      <td>49.015858</td>\n",
       "      <td>48.028800</td>\n",
       "      <td>47.422849</td>\n",
       "      <td>45.797821</td>\n",
       "      <td>40.310172</td>\n",
       "      <td>37.168078</td>\n",
       "    </tr>\n",
       "  </tbody>\n",
       "</table>\n",
       "</div>"
      ],
      "text/plain": [
       "           13         14         15          16          17          18  \\\n",
       "0  177.393485  94.820569  98.072723  112.918698  147.953004  252.976824   \n",
       "1   13.309036  13.334532  15.716005   13.848108   13.710928   13.359515   \n",
       "2  123.053688  71.923485  84.473117   98.725789   95.935418  115.850293   \n",
       "3    9.645299  11.006250  10.497685   11.195697   11.887482   10.918466   \n",
       "4   11.692926   7.630665   7.337542    8.753992    6.605366    7.192323   \n",
       "5   39.445713  39.653900  43.379699   42.429323   43.545624   49.015858   \n",
       "\n",
       "           19          20          21          22         23  \n",
       "0  256.378964  246.181248  218.886419  196.371745  93.047125  \n",
       "1   14.885358   12.856529    8.873382    7.041745   9.713556  \n",
       "2  130.116565  124.032123  106.695463   69.373974  73.963473  \n",
       "3   10.333526    9.409942    9.647842    9.156702   8.549100  \n",
       "4    8.024719    7.295923    7.700000    6.613827   6.135563  \n",
       "5   48.028800   47.422849   45.797821   40.310172  37.168078  "
      ]
     },
     "execution_count": 81,
     "metadata": {},
     "output_type": "execute_result"
    }
   ],
   "source": [
    "p.mean(axis=0)"
   ]
  },
  {
   "cell_type": "code",
   "execution_count": 82,
   "metadata": {},
   "outputs": [
    {
     "data": {
      "text/html": [
       "<div>\n",
       "<style>\n",
       "    .dataframe thead tr:only-child th {\n",
       "        text-align: right;\n",
       "    }\n",
       "\n",
       "    .dataframe thead th {\n",
       "        text-align: left;\n",
       "    }\n",
       "\n",
       "    .dataframe tbody tr th {\n",
       "        vertical-align: top;\n",
       "    }\n",
       "</style>\n",
       "<table border=\"1\" class=\"dataframe\">\n",
       "  <thead>\n",
       "    <tr style=\"text-align: right;\">\n",
       "      <th></th>\n",
       "      <th>13</th>\n",
       "      <th>14</th>\n",
       "      <th>15</th>\n",
       "      <th>16</th>\n",
       "      <th>17</th>\n",
       "      <th>18</th>\n",
       "      <th>19</th>\n",
       "      <th>20</th>\n",
       "      <th>21</th>\n",
       "      <th>22</th>\n",
       "      <th>23</th>\n",
       "    </tr>\n",
       "  </thead>\n",
       "  <tbody>\n",
       "    <tr>\n",
       "      <th>0</th>\n",
       "      <td>179.546122</td>\n",
       "      <td>126.703962</td>\n",
       "      <td>93.326979</td>\n",
       "      <td>113.794506</td>\n",
       "      <td>116.755207</td>\n",
       "      <td>201.148364</td>\n",
       "      <td>219.383446</td>\n",
       "      <td>211.563121</td>\n",
       "      <td>168.812047</td>\n",
       "      <td>104.598814</td>\n",
       "      <td>69.553916</td>\n",
       "    </tr>\n",
       "    <tr>\n",
       "      <th>1</th>\n",
       "      <td>32.462795</td>\n",
       "      <td>10.935376</td>\n",
       "      <td>17.162364</td>\n",
       "      <td>9.649243</td>\n",
       "      <td>13.022521</td>\n",
       "      <td>17.007387</td>\n",
       "      <td>17.646137</td>\n",
       "      <td>12.343823</td>\n",
       "      <td>8.192897</td>\n",
       "      <td>6.102194</td>\n",
       "      <td>8.080356</td>\n",
       "    </tr>\n",
       "    <tr>\n",
       "      <th>2</th>\n",
       "      <td>113.485415</td>\n",
       "      <td>63.520757</td>\n",
       "      <td>60.065508</td>\n",
       "      <td>77.002298</td>\n",
       "      <td>65.260434</td>\n",
       "      <td>100.754518</td>\n",
       "      <td>114.948294</td>\n",
       "      <td>103.511278</td>\n",
       "      <td>89.841937</td>\n",
       "      <td>59.332201</td>\n",
       "      <td>68.999465</td>\n",
       "    </tr>\n",
       "    <tr>\n",
       "      <th>3</th>\n",
       "      <td>11.813923</td>\n",
       "      <td>12.606946</td>\n",
       "      <td>10.271660</td>\n",
       "      <td>11.748784</td>\n",
       "      <td>12.162550</td>\n",
       "      <td>10.707048</td>\n",
       "      <td>10.434737</td>\n",
       "      <td>9.133938</td>\n",
       "      <td>9.481906</td>\n",
       "      <td>8.562373</td>\n",
       "      <td>7.646585</td>\n",
       "    </tr>\n",
       "    <tr>\n",
       "      <th>4</th>\n",
       "      <td>11.176607</td>\n",
       "      <td>8.036415</td>\n",
       "      <td>7.042937</td>\n",
       "      <td>9.237920</td>\n",
       "      <td>6.639779</td>\n",
       "      <td>5.774984</td>\n",
       "      <td>7.073846</td>\n",
       "      <td>7.591566</td>\n",
       "      <td>7.935239</td>\n",
       "      <td>7.824566</td>\n",
       "      <td>8.119803</td>\n",
       "    </tr>\n",
       "    <tr>\n",
       "      <th>5</th>\n",
       "      <td>41.641147</td>\n",
       "      <td>41.009017</td>\n",
       "      <td>42.988197</td>\n",
       "      <td>38.714562</td>\n",
       "      <td>40.130777</td>\n",
       "      <td>46.053032</td>\n",
       "      <td>56.211866</td>\n",
       "      <td>52.513492</td>\n",
       "      <td>50.913035</td>\n",
       "      <td>43.824913</td>\n",
       "      <td>43.989791</td>\n",
       "    </tr>\n",
       "  </tbody>\n",
       "</table>\n",
       "</div>"
      ],
      "text/plain": [
       "           13          14         15          16          17          18  \\\n",
       "0  179.546122  126.703962  93.326979  113.794506  116.755207  201.148364   \n",
       "1   32.462795   10.935376  17.162364    9.649243   13.022521   17.007387   \n",
       "2  113.485415   63.520757  60.065508   77.002298   65.260434  100.754518   \n",
       "3   11.813923   12.606946  10.271660   11.748784   12.162550   10.707048   \n",
       "4   11.176607    8.036415   7.042937    9.237920    6.639779    5.774984   \n",
       "5   41.641147   41.009017  42.988197   38.714562   40.130777   46.053032   \n",
       "\n",
       "           19          20          21          22         23  \n",
       "0  219.383446  211.563121  168.812047  104.598814  69.553916  \n",
       "1   17.646137   12.343823    8.192897    6.102194   8.080356  \n",
       "2  114.948294  103.511278   89.841937   59.332201  68.999465  \n",
       "3   10.434737    9.133938    9.481906    8.562373   7.646585  \n",
       "4    7.073846    7.591566    7.935239    7.824566   8.119803  \n",
       "5   56.211866   52.513492   50.913035   43.824913  43.989791  "
      ]
     },
     "execution_count": 82,
     "metadata": {},
     "output_type": "execute_result"
    }
   ],
   "source": [
    "pd.DataFrame(active_error)"
   ]
  },
  {
   "cell_type": "code",
   "execution_count": 83,
   "metadata": {},
   "outputs": [
    {
     "data": {
      "text/plain": [
       "['use',\n",
       " 'air1',\n",
       " 'dishwasher1',\n",
       " 'furnace1',\n",
       " 'kitchenapp1',\n",
       " 'microwave1',\n",
       " 'refrigerator1']"
      ]
     },
     "execution_count": 83,
     "metadata": {},
     "output_type": "execute_result"
    }
   ],
   "source": [
    "APPLIANCE_ORDER"
   ]
  },
  {
   "cell_type": "code",
   "execution_count": 92,
   "metadata": {},
   "outputs": [
    {
     "data": {
      "text/plain": [
       "<matplotlib.text.Text at 0x121de8278>"
      ]
     },
     "execution_count": 92,
     "metadata": {},
     "output_type": "execute_result"
    },
    {
     "data": {
      "image/png": "[encoded data removed]",
      "text/plain": [
       "<matplotlib.figure.Figure at 0x122642748>"
      ]
     },
     "metadata": {},
     "output_type": "display_data"
    }
   ],
   "source": [
    "fig, ax = plt.subplots(ncols=6, figsize=(30, 3))\n",
    "for u, appliance in enumerate(APPLIANCE_ORDER[1:]):\n",
    "    appliance_num = APPLIANCE_ORDER.index(appliance)-1\n",
    "    re = p.mean(axis=0).iloc[appliance_num]\n",
    "    ac = pd.DataFrame(active_error).iloc[appliance_num]\n",
    "    pd.DataFrame({\"Random\":re, \"Active\":ac}).plot(kind='bar',ax=ax[u], title=appliance,\n",
    "                                                  yerr =[np.zeros_like(ac), p.std(axis=0).iloc[appliance_num]], rot=0)\n",
    "fig.text(0.5, 0, \"Month\")\n",
    "ax[0].set_ylabel(\"MAE \\nLower is better\")"
   ]
  }
 ],
 "metadata": {
  "kernelspec": {
   "display_name": "Python 3",
   "language": "python",
   "name": "python3"
  },
  "language_info": {
   "codemirror_mode": {
    "name": "ipython",
    "version": 3
   },
   "file_extension": ".py",
   "mimetype": "text/x-python",
   "name": "python",
   "nbconvert_exporter": "python",
   "pygments_lexer": "ipython3",
   "version": "3.6.3"
  }
 },
 "nbformat": 4,
 "nbformat_minor": 2
}
